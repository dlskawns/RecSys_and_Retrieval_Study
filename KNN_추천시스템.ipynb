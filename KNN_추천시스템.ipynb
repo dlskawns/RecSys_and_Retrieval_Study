{
  "nbformat": 4,
  "nbformat_minor": 0,
  "metadata": {
    "colab": {
      "name": "KNN 추천시스템.ipynb",
      "provenance": [],
      "toc_visible": true,
      "authorship_tag": "ABX9TyMBkDM/c4FibYB3PkV6EA9v",
      "include_colab_link": true
    },
    "kernelspec": {
      "name": "python3",
      "display_name": "Python 3"
    },
    "language_info": {
      "name": "python"
    }
  },
  "cells": [
    {
      "cell_type": "markdown",
      "metadata": {
        "id": "view-in-github",
        "colab_type": "text"
      },
      "source": [
        "<a href=\"https://colab.research.google.com/github/dlskawns/RecSys_and_Retrieval_Study/blob/main/KNN_%EC%B6%94%EC%B2%9C%EC%8B%9C%EC%8A%A4%ED%85%9C.ipynb\" target=\"_parent\"><img src=\"https://colab.research.google.com/assets/colab-badge.svg\" alt=\"Open In Colab\"/></a>"
      ]
    },
    {
      "cell_type": "markdown",
      "source": [
        "### Memory Based\n",
        "Matrix를 이용하는 추천시스템 중 사용자의 평점 혹은 사용여부를 바탕으로 구매 패턴을 파악해 그 메모리를 바탕으로 추천을 진행하는 방법이다. \n",
        "기본적으로 사용자 또는 아이템의 유사성을 바탕으로 평점이 없는 부분에 대해 모델을 통해 예측을 하는 방식이며, 이는 사용자 관점에서 진행하는 사용자 기반, 아이템 관점에서 진행하는 아이템 기반 협업필터링으로 나눌 수 있다. \n",
        "<small>\n",
        "  * 사용자 기반(User-Based): 사용자와 비슷한 구매 패턴을 가진 다른 사용자의 평점을 바탕으로 추천\n",
        "  피어슨 또는 코사인 유사도를 이용해 사용자들 간의 유사도를 구하여 진행한다.\n",
        "  * 아이템 기반(Item-Based): 사용자들의 아이템 별 평점을 바탕으로 바탕으로 아이템의 유사도를 파악해 비슷한 아이템을 추천, 방식은 사용자 기반과 같다. \n",
        "</small>\n",
        "\n"
      ],
      "metadata": {
        "id": "9YsAeCeKAEV_"
      }
    },
    {
      "cell_type": "markdown",
      "source": [
        "#### KNN(K-Nearest Neighbor)\n",
        "K명의 최근접 이웃에 기반해서 찾는 방법으로, 널리 쓰이는 방법이다. 사용자가 준 평점으로 유사한 사람의 아이템을 찾거나, 유사한 아이템을 찾아 추천을 한다. 편향을 제거(전반적으로 평점을 후하게 주거나 적게 주는 경우를 방지)해주기 위해 비교군의 평점을 더해주거나 빼주어 동일하게 해준다.\n",
        "\n",
        "* 추천 리스트에 새로운 사용자 또는 아이템이 오더라도 안정정으로 진행이 가능하다.\n",
        "* 방법이 간단하고 직관적이어서 접근이 용이하다.\n",
        "* 유저 기반의 방법 및 속도, 메모리가 많이 든다.\n",
        "* 희소성으로 인한 제약이 발생한다. (유사한 이웃이 사용한 경험이 없으면 추천 불가능하다)\n"
      ],
      "metadata": {
        "id": "axtQK9CCA0iO"
      }
    },
    {
      "cell_type": "markdown",
      "source": [
        "#### KNN을 이용해서 추천진행 해보기\n",
        "\n",
        "영화 데이터가 아닌 실제 매트릭스를 생성해서 만들어보도록 한다.\n",
        "아래는 KNN을 공부했던 [TeamEDA 김현우님의 포스팅](https://eda-ai-lab.tistory.com/527)을 바탕으로 코드를 구현해봤다.\n",
        "\n",
        "\n",
        "| |아이템1|아이템2|아이템3|아이템4|아이템5|아이템6| \n",
        ":---:|:---:|:---:|:---:|:---:|:---:|:---:|\n",
        "사용자1|7|6|7|4|5|4|\n",
        "사용자2|6|7|?|4|3|4| \n",
        "사용자3|?|3|3|1|1|?|\n",
        "사용자4|1|2|2|3|3|4|\n",
        "사용자5|1|?|1|2|3|3|"
      ],
      "metadata": {
        "id": "tlh9AYP7A2ht"
      }
    },
    {
      "cell_type": "code",
      "execution_count": 40,
      "metadata": {
        "id": "9Uaeglxk___T"
      },
      "outputs": [],
      "source": [
        "import numpy as np\n",
        "\n",
        "# 위 매트릭스에서 ? 부분은 0으로 치환하여 매트릭스 생성\n",
        "matrix = np.array([[7,6,7,4,5,4],\n",
        "                   [6,7,0,4,3,4],\n",
        "                   [0,3,3,1,1,0],\n",
        "                   [1,2,2,3,3,4],\n",
        "                   [1,0,1,2,3,3]])"
      ]
    },
    {
      "cell_type": "code",
      "source": [
        "np.matmul(matrix[0], matrix[2])"
      ],
      "metadata": {
        "colab": {
          "base_uri": "https://localhost:8080/"
        },
        "id": "JhfI-yNqJHjQ",
        "outputId": "4a5e8c95-a604-4412-878f-91fd2a587bce"
      },
      "execution_count": 33,
      "outputs": [
        {
          "output_type": "execute_result",
          "data": {
            "text/plain": [
              "48"
            ]
          },
          "metadata": {},
          "execution_count": 33
        }
      ]
    },
    {
      "cell_type": "code",
      "source": [
        "a= [7,6,7,4,5]\n",
        "\n",
        "np.square(a)"
      ],
      "metadata": {
        "colab": {
          "base_uri": "https://localhost:8080/"
        },
        "id": "7sp-hy0MFjey",
        "outputId": "bd9be722-699d-4f95-f8ae-64f630b41c29"
      },
      "execution_count": 2,
      "outputs": [
        {
          "output_type": "execute_result",
          "data": {
            "text/plain": [
              "array([49, 36, 49, 16, 25])"
            ]
          },
          "metadata": {},
          "execution_count": 2
        }
      ]
    },
    {
      "cell_type": "markdown",
      "source": [
        "#### 코사인 유사도 함수 설계\n",
        "\n",
        "### $cos\\theta = \\frac{A * B}{||A||*||B||}$"
      ],
      "metadata": {
        "id": "A5HLCINUGUou"
      }
    },
    {
      "cell_type": "code",
      "source": [
        "matrix[2]"
      ],
      "metadata": {
        "colab": {
          "base_uri": "https://localhost:8080/"
        },
        "id": "nmJL2N_qIOv0",
        "outputId": "fac67bd3-9612-4271-e6f3-7e9e884c8196"
      },
      "execution_count": 34,
      "outputs": [
        {
          "output_type": "execute_result",
          "data": {
            "text/plain": [
              "array([0, 3, 3, 1, 1, 0])"
            ]
          },
          "metadata": {},
          "execution_count": 34
        }
      ]
    },
    {
      "cell_type": "code",
      "source": [
        "def cosine_simillarity(v1, v2):\n",
        "  \"\"\"\n",
        "  두 벡터 v1, v2에 대한 코사인 유사도를 구하는 함수\n",
        "  위 매트릭스에서 사용자 기반 추천을 한다고 할때, 사용자1을 v1, 사용자2를 v2로 놓는다면,\n",
        "  v1 = [7,6,7,4,5]\n",
        "  v2 = [6,7,?,4,3]\n",
        "  으로 두고 함수를 적용하게 된다.\n",
        "\n",
        "  return: similarity of the two vectors\n",
        "  \"\"\"\n",
        "  A = np.sqrt(np.sum(np.square(v1)))\n",
        "  B = np.sqrt(np.sum(np.square(v2)))\n",
        "  return np.dot(v1,v2) / (A*B)\n"
      ],
      "metadata": {
        "id": "kthBrXdcBfkU"
      },
      "execution_count": 22,
      "outputs": []
    },
    {
      "cell_type": "markdown",
      "source": [
        "#### 유사도 계산해보기 (코사인)\n",
        "\n",
        "사용자3에 대한 다른 사용자들의 유사도를 각각 구해본다."
      ],
      "metadata": {
        "id": "gvzFic4WGZtX"
      }
    },
    {
      "cell_type": "code",
      "source": [
        "sim_lst = []  # 빈 리스트 생성\n",
        "best_score = 0\n",
        "\n",
        "for idx, vec in enumerate(matrix):  # 매트릭스의 각 사용자 별 벡터를 뽑아 vec에 넣기\n",
        "  similarity = cosine_simillarity( vec, matrix[2]) # matrix[2] == 사용자3의 벡터\n",
        "  sim_lst.append((idx,similarity))  \n",
        "  if idx != 2 and best_score < similarity:  # 현재 계산한 유사도가 기존 최고 유사도보다 높다면 바꿔준다. \n",
        "    best_score = similarity\n",
        "    best_user = idx +1   \n",
        "print(sim_lst, f\"\\n사용자3과 가장 비슷한 유저: 사용자{best_user} \\n유사도:{best_score}\")"
      ],
      "metadata": {
        "colab": {
          "base_uri": "https://localhost:8080/"
        },
        "id": "2KW8jdhBGEv3",
        "outputId": "10ec8c58-fe7f-4150-b9a2-638bc9bc84b0"
      },
      "execution_count": 31,
      "outputs": [
        {
          "output_type": "stream",
          "name": "stdout",
          "text": [
            "[(0, 0.8113480845393759), (1, 0.5969620057957091), (2, 0.9999999999999998), (3, 0.7745966692414833), (4, 0.46188021535170054)] \n",
            "사용자3과 가장 비슷한 유저: 사용자1 \n",
            "유사도:0.8113480845393759\n"
          ]
        }
      ]
    },
    {
      "cell_type": "markdown",
      "source": [
        "#### 가장 비슷한 유저를 바탕으로 ?의 점수 예측해보기\n",
        "\n",
        "현재 사용자3과 가장 비슷한 유저는 사용자1(코사인 유사도 0.81)이다.  \n",
        "해당 사용자1의 평균 평점을 '편향'으로 두고, 사용자1의 아이템1의 평점에서 평균점수를 뺀 점수를 이용.  \n",
        "수정된 점수 x 코사인 유사도를 통해 ?의 점수를 예측한다. \n",
        "\n",
        "수식으로 나타내면 아래와 같다.\n",
        "\n",
        "### $사용자3 평점 + \\frac {(사용자1평점-사용자1평균평점)*사용자1과유사도}{사용자1과유사도}$"
      ],
      "metadata": {
        "id": "h8KCaS3kLQIq"
      }
    },
    {
      "cell_type": "code",
      "source": [
        "best_user_idx = best_user-1 # 가장 비슷한 유저의 매트릭스 내 인덱스\n",
        "best_mean_score = np.mean(matrix[best_user_idx])  # 가장 비슷한 유저의 평균 평점\n",
        "for vec in range(len(matrix[2])):\n",
        "  if matrix[2][vec] == 0:   # 해당 사용자3의 ? 부분에 위와같은 연산을 진행한다.\n",
        "    matrix[2][vec] = np.mean(matrix[2]) + (((matrix[best_user_idx][vec]-best_mean_score)*best_score)/best_score)"
      ],
      "metadata": {
        "id": "U6-eeXkZIZeX"
      },
      "execution_count": 41,
      "outputs": []
    },
    {
      "cell_type": "markdown",
      "source": [
        "#### 최종 매트릭스 확인해보기\n",
        "\n",
        "사용자3의 경우, 평균적으로 평점을 낮게 주는 경향이 있다.  \n",
        "그렇기에 편향을 모두 고려하여 이전 단계까지의 연산을 진행했다.  \n",
        "그 결과로, 아이템1에 대해선 평균(1.6667)보다 높은 점수인 2를 예측했고, 아이템6 에대해선 최하점인 0으로 적용이 되었다. "
      ],
      "metadata": {
        "id": "E9IK1ABiRqCT"
      }
    },
    {
      "cell_type": "code",
      "source": [
        "matrix"
      ],
      "metadata": {
        "colab": {
          "base_uri": "https://localhost:8080/"
        },
        "id": "d57FHntgIbSs",
        "outputId": "7416afd8-f87e-4265-c8c3-bbe8d1f0fc31"
      },
      "execution_count": 42,
      "outputs": [
        {
          "output_type": "execute_result",
          "data": {
            "text/plain": [
              "array([[7, 6, 7, 4, 5, 4],\n",
              "       [6, 7, 0, 4, 3, 4],\n",
              "       [2, 3, 3, 1, 1, 0],\n",
              "       [1, 2, 2, 3, 3, 4],\n",
              "       [1, 0, 1, 2, 3, 3]])"
            ]
          },
          "metadata": {},
          "execution_count": 42
        }
      ]
    },
    {
      "cell_type": "code",
      "source": [
        "# 사용자3의 평균 평점\n",
        "np.mean(matrix[2])"
      ],
      "metadata": {
        "colab": {
          "base_uri": "https://localhost:8080/"
        },
        "id": "MxyaIdtbRkJk",
        "outputId": "ef34c054-a23c-4fcc-964b-9a1d199f14ed"
      },
      "execution_count": 44,
      "outputs": [
        {
          "output_type": "execute_result",
          "data": {
            "text/plain": [
              "1.6666666666666667"
            ]
          },
          "metadata": {},
          "execution_count": 44
        }
      ]
    },
    {
      "cell_type": "code",
      "source": [
        ""
      ],
      "metadata": {
        "id": "7lb9-H8PSM_g"
      },
      "execution_count": null,
      "outputs": []
    }
  ]
}