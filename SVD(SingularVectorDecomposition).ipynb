{
  "nbformat": 4,
  "nbformat_minor": 0,
  "metadata": {
    "colab": {
      "name": "SVD(SingularVectorDecomposition).ipynb",
      "provenance": [],
      "authorship_tag": "ABX9TyO9vdbhlSVsnJXju4Lmw4GU",
      "include_colab_link": true
    },
    "kernelspec": {
      "name": "python3",
      "display_name": "Python 3"
    },
    "language_info": {
      "name": "python"
    }
  },
  "cells": [
    {
      "cell_type": "markdown",
      "metadata": {
        "id": "view-in-github",
        "colab_type": "text"
      },
      "source": [
        "<a href=\"https://colab.research.google.com/github/dlskawns/RecSys_and_Retrieval_Study/blob/main/SVD(SingularVectorDecomposition).ipynb\" target=\"_parent\"><img src=\"https://colab.research.google.com/assets/colab-badge.svg\" alt=\"Open In Colab\"/></a>"
      ]
    },
    {
      "cell_type": "markdown",
      "source": [
        "# Surprise 패키지를 활용한 SVD 모델 구현\n",
        "\n",
        "## SVD 모델의 원리\n",
        "\n",
        "Singular Vector Decomposition을 이용한 모델.\n",
        "\n",
        "singular matrix = 역행렬이 없는 매트릭스를 의미\n",
        "det(A) = 0\n",
        "\n",
        "```\n",
        "a = [[a,b],\n",
        "     [c,d]]\n",
        "일때,\n",
        "det(A) = ad - bc\n",
        "\n",
        "A^-1 = det{A}^-1\n",
        "```\n",
        "\n",
        "A: 기존 Input data matrix [m x n] 행렬\n",
        "\n",
        "U: 왼쪽 singular matrix -> y에 따라 x가 무한이거나 존재하지 않음\n",
        "\n",
        "$\\sum$: r개의 특이값을 갖는 대각행렬\n",
        "\n",
        "V: 오른쪽 singluar matrix\n",
        "\n",
        "특이값(Singular Value): A에 대해 $A^TA$한 대칭행렬의 고유값을 구해 루트를 씌워준 값을 의미\n",
        "\n",
        "고유값(Eigen Value): 임의의 벡터 v에 선형변환 A를 적용했을 때, Av = $\\lambda$v를 만족하는 상황에서의 $\\lambda$값\n",
        "\n",
        "고유벡터(Eigen Vector): 위 상황에서의 v값을 의미하며, 고유값을 구한 뒤, 가우스 소거법을 이용해 계산한다. 고유벡터는 영벡터가 아닌 벡터를 의미\n",
        "\n",
        "SVD 특이값 분해의 이용: 정방행렬이 아닌 m x n 의 행렬 A에 대해서도 대칭행렬을 만들 수 있고 이를 바탕으로 행렬 분해가 가능하며, 차원의 축소 역시도 가능하게 만든다.\n",
        "\n",
        "\n",
        "\n",
        "\n",
        "\n"
      ],
      "metadata": {
        "id": "GjpYRVzcmaBk"
      }
    },
    {
      "cell_type": "code",
      "source": [
        "# print(data)"
      ],
      "metadata": {
        "id": "5g84AHWE6Gfj"
      },
      "execution_count": 1,
      "outputs": []
    },
    {
      "cell_type": "code",
      "source": [
        "# model = SVD()"
      ],
      "metadata": {
        "id": "0HNLALkUp0Gx"
      },
      "execution_count": 2,
      "outputs": []
    },
    {
      "cell_type": "code",
      "source": [
        "# cross_validate(model, data[:10], measures=['rmse', 'mae'], cv = 5, verbose = True)"
      ],
      "metadata": {
        "id": "AMCxdv8wp4MJ"
      },
      "execution_count": 3,
      "outputs": []
    },
    {
      "cell_type": "markdown",
      "source": [
        "## Numpy package의 SVD를 이용해보기"
      ],
      "metadata": {
        "id": "APIE_71s09oL"
      }
    },
    {
      "cell_type": "code",
      "source": [
        "import numpy as np\n",
        "from numpy.linalg import svd\n",
        "\n",
        "# 4 x 4 행렬 생성\n",
        "np.random.seed(42)\n",
        "a = np.random.randn(4,4)  # 평균 0, 표준편차 1의 가우시간 난수 생성\n",
        "print(np.round(a, 3))"
      ],
      "metadata": {
        "id": "FPBW7VMaqBjh",
        "colab": {
          "base_uri": "https://localhost:8080/"
        },
        "outputId": "ecb518f9-5b6a-45ff-8dbe-ca07532186b6"
      },
      "execution_count": 4,
      "outputs": [
        {
          "output_type": "stream",
          "name": "stdout",
          "text": [
            "[[ 0.497 -0.138  0.648  1.523]\n",
            " [-0.234 -0.234  1.579  0.767]\n",
            " [-0.469  0.543 -0.463 -0.466]\n",
            " [ 0.242 -1.913 -1.725 -0.562]]\n"
          ]
        }
      ]
    },
    {
      "cell_type": "markdown",
      "source": [
        "### $U$, $\\sum$, $V^T$ 확인해보기"
      ],
      "metadata": {
        "id": "pBfs0GXt1OQj"
      }
    },
    {
      "cell_type": "code",
      "source": [
        "# SVD 함수 적용해서 각 U, Sigma, Vt 확인해보기\n",
        "U, Sigma, Vt = svd(a)\n",
        "print('U:', np.round(U,3))\n",
        "print('Sigma:', np.round(Sigma,3))  # 시그마의 경우, 대각행렬의 요소값인 Singular Value를 내림차순으로 가져온다.\n",
        "print('Vt:', np.round(Vt,3))"
      ],
      "metadata": {
        "colab": {
          "base_uri": "https://localhost:8080/"
        },
        "id": "SuMmq9dwzlCh",
        "outputId": "383696e3-afcc-41d6-9f8d-c7f4b5b0e2e8"
      },
      "execution_count": 5,
      "outputs": [
        {
          "output_type": "stream",
          "name": "stdout",
          "text": [
            "U: [[-0.373 -0.598  0.642 -0.302]\n",
            " [-0.488 -0.35  -0.745 -0.289]\n",
            " [ 0.113  0.444  0.062 -0.887]\n",
            " [ 0.781 -0.568 -0.168 -0.197]]\n",
            "Sigma: [3.08  1.926 0.92  0.342]\n",
            "Vt: [[ 0.021 -0.412 -0.783 -0.466]\n",
            " [-0.291  0.775 -0.086 -0.554]\n",
            " [ 0.461  0.479 -0.544  0.512]\n",
            " [ 0.838  0.017  0.289 -0.462]]\n"
          ]
        }
      ]
    },
    {
      "cell_type": "code",
      "source": [
        "# 시그마의 대각행렬을 원상복구 해주는 방법: np.diag\n",
        "Sigma_matrix = np.diag(Sigma)\n",
        "print('Sigma :', np.round(Sigma_matrix, 3))"
      ],
      "metadata": {
        "colab": {
          "base_uri": "https://localhost:8080/"
        },
        "id": "s3Cid09600He",
        "outputId": "8f4f6657-9400-4a95-dafd-8978b02c8f7b"
      },
      "execution_count": 6,
      "outputs": [
        {
          "output_type": "stream",
          "name": "stdout",
          "text": [
            "Sigma : [[3.08  0.    0.    0.   ]\n",
            " [0.    1.926 0.    0.   ]\n",
            " [0.    0.    0.92  0.   ]\n",
            " [0.    0.    0.    0.342]]\n"
          ]
        }
      ]
    },
    {
      "cell_type": "markdown",
      "source": [
        "### A = $U \\sum V^T$ 만들어보기"
      ],
      "metadata": {
        "id": "xq8dKDo_IVOS"
      }
    },
    {
      "cell_type": "code",
      "source": [
        "a_ = np.dot(np.dot(U,Sigma_matrix), Vt)\n",
        "print(np.round(a, 3) )  # 맨 처음의 매트릭스 a와 같음을 확인할 수 있다."
      ],
      "metadata": {
        "colab": {
          "base_uri": "https://localhost:8080/"
        },
        "id": "u3wUPRQNIgDf",
        "outputId": "03fd82f0-6751-4ef5-e4ca-b425a95611b2"
      },
      "execution_count": 7,
      "outputs": [
        {
          "output_type": "stream",
          "name": "stdout",
          "text": [
            "[[ 0.497 -0.138  0.648  1.523]\n",
            " [-0.234 -0.234  1.579  0.767]\n",
            " [-0.469  0.543 -0.463 -0.466]\n",
            " [ 0.242 -1.913 -1.725 -0.562]]\n"
          ]
        }
      ]
    },
    {
      "cell_type": "markdown",
      "source": [
        "### COMPACT SVD 구현해보기\n"
      ],
      "metadata": {
        "id": "5N4FwEQwXFa8"
      }
    },
    {
      "cell_type": "code",
      "source": [
        "# 데이터 의존도가 서로 존재하는 행렬을 만들어본다.\n",
        "a[2] = a[0]+a[1]\n",
        "a[3] = a[0]"
      ],
      "metadata": {
        "id": "wRi3gEFD2fyM"
      },
      "execution_count": 8,
      "outputs": []
    },
    {
      "cell_type": "code",
      "source": [
        "print(np.round(a,3))"
      ],
      "metadata": {
        "colab": {
          "base_uri": "https://localhost:8080/"
        },
        "id": "i_jNx0Ee3JP-",
        "outputId": "db247245-ce4a-494e-8af8-6fb0021154d2"
      },
      "execution_count": 9,
      "outputs": [
        {
          "output_type": "stream",
          "name": "stdout",
          "text": [
            "[[ 0.497 -0.138  0.648  1.523]\n",
            " [-0.234 -0.234  1.579  0.767]\n",
            " [ 0.263 -0.372  2.227  2.29 ]\n",
            " [ 0.497 -0.138  0.648  1.523]]\n"
          ]
        }
      ]
    },
    {
      "cell_type": "code",
      "source": [
        "# SVD 분할진행\n",
        "U, Sigma, Vt = svd(a)\n",
        "print('U:', np.round(U,3))\n",
        "print('Sigma:', np.round(Sigma,3))  # 시그마의 3,4번째 특잇값이 0임을 확인할 수 있다.\n",
        "print('Vt:', np.round(Vt,3))"
      ],
      "metadata": {
        "colab": {
          "base_uri": "https://localhost:8080/"
        },
        "id": "QsmsNqGM3TDr",
        "outputId": "52bf5144-d023-4c4e-ca69-126f20b277f3"
      },
      "execution_count": 10,
      "outputs": [
        {
          "output_type": "stream",
          "name": "stdout",
          "text": [
            "U: [[-0.381  0.505  0.775  0.003]\n",
            " [-0.374 -0.679  0.256  0.579]\n",
            " [-0.755 -0.174 -0.256 -0.579]\n",
            " [-0.381  0.505 -0.519  0.575]]\n",
            "Sigma: [4.266 1.19  0.    0.   ]\n",
            "Vt: [[-0.115  0.111 -0.648 -0.745]\n",
            " [ 0.517  0.071 -0.677  0.52 ]\n",
            " [-0.848 -0.    -0.328  0.416]\n",
            " [ 0.024 -0.991 -0.121 -0.047]]\n"
          ]
        }
      ]
    },
    {
      "cell_type": "code",
      "source": [
        "# 특이값 행렬 시그마의 0을 제거한 Compact SVD를 진행한다.\n",
        "U_ = U[:, :2]\n",
        "Sigma_ = np.diag(Sigma[:2])\n",
        "Vt_ = Vt[:2]\n",
        "print('U_:', np.round(U_,3))\n",
        "print('Sigma_:', np.round(Sigma_,3))  \n",
        "print('Vt_:', np.round(Vt_,3))"
      ],
      "metadata": {
        "colab": {
          "base_uri": "https://localhost:8080/"
        },
        "id": "r77hih6v3Xk7",
        "outputId": "acc6f308-f6db-421d-c784-c0a7d1570481"
      },
      "execution_count": 11,
      "outputs": [
        {
          "output_type": "stream",
          "name": "stdout",
          "text": [
            "U_: [[-0.381  0.505]\n",
            " [-0.374 -0.679]\n",
            " [-0.755 -0.174]\n",
            " [-0.381  0.505]]\n",
            "Sigma_: [[4.266 0.   ]\n",
            " [0.    1.19 ]]\n",
            "Vt_: [[-0.115  0.111 -0.648 -0.745]\n",
            " [ 0.517  0.071 -0.677  0.52 ]]\n"
          ]
        }
      ]
    },
    {
      "cell_type": "code",
      "source": [
        "# 다시 복구하기\n",
        "\n",
        "a_ = np.dot(np.dot(U_, Sigma_), Vt_)\n",
        "print(np.round(a_, 3))"
      ],
      "metadata": {
        "colab": {
          "base_uri": "https://localhost:8080/"
        },
        "id": "8IYZhXpMX8_K",
        "outputId": "0741dcc6-bffa-4ce4-dcbb-81f06d897a3d"
      },
      "execution_count": 12,
      "outputs": [
        {
          "output_type": "stream",
          "name": "stdout",
          "text": [
            "[[ 0.497 -0.138  0.648  1.523]\n",
            " [-0.234 -0.234  1.579  0.767]\n",
            " [ 0.263 -0.372  2.227  2.29 ]\n",
            " [ 0.497 -0.138  0.648  1.523]]\n"
          ]
        }
      ]
    },
    {
      "cell_type": "markdown",
      "source": [
        "## Scipy 패키지를 이용해 SVD 구현하기\n",
        "\n",
        "full_matrices = True -> U를 (M,M), Vt를 (N,N)으로 분할\n",
        "full_matrices = False -> U를 (M,k), Vt를 (k,N)으로 분할\n",
        "\n"
      ],
      "metadata": {
        "id": "kp4Pw_MvcvHP"
      }
    },
    {
      "cell_type": "code",
      "source": [
        "from scipy.sparse.linalg import svds\n",
        "from scipy.linalg import svd\n",
        "\n",
        "# 원본 행렬 생성\n",
        "np.random.seed(12)\n",
        "matrix = np.random.random((6,6))\n",
        "print( np.round(matrix, 3))"
      ],
      "metadata": {
        "colab": {
          "base_uri": "https://localhost:8080/"
        },
        "id": "cFkCXKYoYYJa",
        "outputId": "517189dc-2417-430c-8fa0-0a439c37d27d"
      },
      "execution_count": 13,
      "outputs": [
        {
          "output_type": "stream",
          "name": "stdout",
          "text": [
            "[[0.154 0.74  0.263 0.534 0.015 0.919]\n",
            " [0.901 0.033 0.957 0.137 0.284 0.606]\n",
            " [0.944 0.853 0.002 0.521 0.552 0.485]\n",
            " [0.768 0.161 0.765 0.021 0.135 0.116]\n",
            " [0.31  0.671 0.471 0.816 0.29  0.733]\n",
            " [0.703 0.328 0.335 0.978 0.625 0.95 ]]\n"
          ]
        }
      ]
    },
    {
      "cell_type": "code",
      "source": [
        "U, Sigma, Vt = svd(matrix, full_matrices = False)\n",
        "print('U:', np.round(U,3))\n",
        "print('Sigma:', np.round(Sigma,3)) \n",
        "print('Vt:', np.round(Vt,3))"
      ],
      "metadata": {
        "colab": {
          "base_uri": "https://localhost:8080/"
        },
        "id": "GYlCsGESdGag",
        "outputId": "d5f23061-53e3-44bc-9e53-dd81c34d62ac"
      },
      "execution_count": 14,
      "outputs": [
        {
          "output_type": "stream",
          "name": "stdout",
          "text": [
            "U: [[-0.363  0.377  0.435  0.501 -0.449  0.292]\n",
            " [-0.385 -0.64   0.235 -0.061 -0.383 -0.487]\n",
            " [-0.443  0.149 -0.818  0.259 -0.13  -0.17 ]\n",
            " [-0.25  -0.582 -0.058  0.308  0.386  0.593]\n",
            " [-0.432  0.254  0.29   0.107  0.695 -0.413]\n",
            " [-0.524  0.151  0.006 -0.756 -0.055  0.357]]\n",
            "Sigma: [3.145 1.289 0.799 0.603 0.301 0.058]\n",
            "Vt: [[-0.482 -0.369 -0.329 -0.429 -0.269 -0.517]\n",
            " [-0.497  0.396 -0.611  0.414 -0.004  0.227]\n",
            " [-0.555 -0.226  0.54   0.099 -0.373  0.446]\n",
            " [ 0.008  0.768  0.177 -0.418 -0.442 -0.092]\n",
            " [-0.212  0.181  0.397  0.535  0.106 -0.684]\n",
            " [ 0.41  -0.182 -0.193  0.417 -0.762 -0.079]]\n"
          ]
        }
      ]
    },
    {
      "cell_type": "markdown",
      "source": [
        "### Scipy svd를 통해 Truncated SVD 구현해보기"
      ],
      "metadata": {
        "id": "cn-g4sjdfQgC"
      }
    },
    {
      "cell_type": "code",
      "source": [
        "#사용할 특이값 개수 지정\n",
        "num_comp = 4\n",
        "\n",
        "U_, Sigma_, Vt_ = svds(matrix, k = num_comp)\n",
        "print('U_:', np.round(U_,3))          # 4개의 특이값에 맞춰 행렬곱을 취할 수 있도록 행렬이 분할되었다.\n",
        "print('Sigma_:', np.round(Sigma_,3))  # 시그마 행렬에서는 4개의 특이값만을 가진 대각행렬이 된 것을 볼 수 있다.\n",
        "print('Vt_:', np.round(Vt_,3))        # U와 마찬가지."
      ],
      "metadata": {
        "colab": {
          "base_uri": "https://localhost:8080/"
        },
        "id": "2B494k8GfMZ_",
        "outputId": "04fb03f5-1ae7-4511-9414-e8fe1a07ebcd"
      },
      "execution_count": 15,
      "outputs": [
        {
          "output_type": "stream",
          "name": "stdout",
          "text": [
            "U_: [[ 0.501  0.435  0.377  0.363]\n",
            " [-0.061  0.235 -0.64   0.385]\n",
            " [ 0.259 -0.818  0.149  0.443]\n",
            " [ 0.308 -0.058 -0.582  0.25 ]\n",
            " [ 0.107  0.29   0.254  0.432]\n",
            " [-0.756  0.006  0.151  0.524]]\n",
            "Sigma_: [0.603 0.799 1.289 3.145]\n",
            "Vt_: [[ 0.008  0.768  0.177 -0.418 -0.442 -0.092]\n",
            " [-0.555 -0.226  0.54   0.099 -0.373  0.446]\n",
            " [-0.497  0.396 -0.611  0.414 -0.004  0.227]\n",
            " [ 0.482  0.369  0.329  0.429  0.269  0.517]]\n"
          ]
        }
      ]
    },
    {
      "cell_type": "code",
      "source": [
        "# 행렬 다시 합치기 -> Truncated 이므로 0이 아닌 Singular Value도 없는 상태에서의 행렬곱을 취한것이므로, 그 값이 완전히 맨 처음의 값과 일치하진 않는다.\n",
        "\n",
        "a_ = np.dot(np.dot(U_, np.diag(Sigma_)), Vt_)\n",
        "print(np.round(a_, 3))"
      ],
      "metadata": {
        "colab": {
          "base_uri": "https://localhost:8080/"
        },
        "id": "vLpwtAWMftYF",
        "outputId": "aff4821e-a092-4614-9f26-2ce131565731"
      },
      "execution_count": 16,
      "outputs": [
        {
          "output_type": "stream",
          "name": "stdout",
          "text": [
            "[[ 0.119  0.768  0.32   0.599  0.042  0.828]\n",
            " [ 0.888  0.049  0.997  0.211  0.274  0.525]\n",
            " [ 0.94   0.858  0.016  0.546  0.549  0.458]\n",
            " [ 0.779  0.146  0.725 -0.056  0.149  0.198]\n",
            " [ 0.364  0.629  0.383  0.714  0.249  0.874]\n",
            " [ 0.691  0.334  0.345  0.978  0.642  0.941]]\n"
          ]
        }
      ]
    },
    {
      "cell_type": "markdown",
      "source": [
        "## Scikit-Learn패키지를 이용해 SVD 해보기"
      ],
      "metadata": {
        "id": "eaPLzgTWhaio"
      }
    },
    {
      "cell_type": "code",
      "source": [
        "# 원본 행렬 생성\n",
        "np.random.seed(12)\n",
        "matrix = np.random.random((6,6))\n",
        "print( np.round(matrix, 3))"
      ],
      "metadata": {
        "colab": {
          "base_uri": "https://localhost:8080/"
        },
        "id": "gArT1AjUiGqe",
        "outputId": "d6b7400b-3f65-47e1-b532-6596d6735eea"
      },
      "execution_count": 17,
      "outputs": [
        {
          "output_type": "stream",
          "name": "stdout",
          "text": [
            "[[0.154 0.74  0.263 0.534 0.015 0.919]\n",
            " [0.901 0.033 0.957 0.137 0.284 0.606]\n",
            " [0.944 0.853 0.002 0.521 0.552 0.485]\n",
            " [0.768 0.161 0.765 0.021 0.135 0.116]\n",
            " [0.31  0.671 0.471 0.816 0.29  0.733]\n",
            " [0.703 0.328 0.335 0.978 0.625 0.95 ]]\n"
          ]
        }
      ]
    },
    {
      "cell_type": "code",
      "source": [
        "from sklearn.decomposition import TruncatedSVD\n",
        "\n",
        "tsvd = TruncatedSVD(n_components=4)\n",
        "tsvd.fit(matrix)\n",
        "a_tr = tsvd.transform(matrix)\n",
        "a_tr"
      ],
      "metadata": {
        "colab": {
          "base_uri": "https://localhost:8080/"
        },
        "id": "G6v8XMj7g4z-",
        "outputId": "e445d5ed-8d91-4e7f-d38d-44b4b01b685b"
      },
      "execution_count": 18,
      "outputs": [
        {
          "output_type": "execute_result",
          "data": {
            "text/plain": [
              "array([[ 1.14188038, -0.48539404, -0.34749425, -0.30191158],\n",
              "       [ 1.20960458,  0.82529355, -0.1876061 ,  0.03686302],\n",
              "       [ 1.39327376, -0.19179119,  0.65318726, -0.15636906],\n",
              "       [ 0.78638259,  0.75033534,  0.04616277, -0.18548138],\n",
              "       [ 1.35902108, -0.32771741, -0.23137577, -0.06471603],\n",
              "       [ 1.64798258, -0.1950719 , -0.00497557,  0.4562135 ]])"
            ]
          },
          "metadata": {},
          "execution_count": 18
        }
      ]
    },
    {
      "cell_type": "code",
      "source": [
        ""
      ],
      "metadata": {
        "id": "Vg7IWkpxhnDm"
      },
      "execution_count": 18,
      "outputs": []
    },
    {
      "cell_type": "markdown",
      "source": [
        "## Matrix 유사도를 통한 추천\n",
        "\n",
        "각 영화를 본 내용을 바탕으로 가장 유사한 유저를 찾아 해당 유저가 본 영화를 추천한다."
      ],
      "metadata": {
        "id": "OOZoIhYljOPA"
      }
    },
    {
      "cell_type": "markdown",
      "source": [
        "\n",
        "\n",
        "### 인접행렬 및 유사도를 통한 가장 비슷한 유저 찾기"
      ],
      "metadata": {
        "id": "yUFVaHyQz_5h"
      }
    },
    {
      "cell_type": "code",
      "execution_count": 19,
      "metadata": {
        "colab": {
          "base_uri": "https://localhost:8080/"
        },
        "id": "k-Tk0hGyo1KI",
        "outputId": "78b54f1f-ce12-46ac-d0a6-2a52de3142c3"
      },
      "outputs": [
        {
          "output_type": "stream",
          "name": "stdout",
          "text": [
            "Collecting scikit-surprise\n",
            "  Downloading scikit-surprise-1.1.1.tar.gz (11.8 MB)\n",
            "\u001b[K     |████████████████████████████████| 11.8 MB 4.3 MB/s \n",
            "\u001b[?25hRequirement already satisfied: joblib>=0.11 in /usr/local/lib/python3.7/dist-packages (from scikit-surprise) (1.1.0)\n",
            "Requirement already satisfied: numpy>=1.11.2 in /usr/local/lib/python3.7/dist-packages (from scikit-surprise) (1.21.5)\n",
            "Requirement already satisfied: scipy>=1.0.0 in /usr/local/lib/python3.7/dist-packages (from scikit-surprise) (1.4.1)\n",
            "Requirement already satisfied: six>=1.10.0 in /usr/local/lib/python3.7/dist-packages (from scikit-surprise) (1.15.0)\n",
            "Building wheels for collected packages: scikit-surprise\n",
            "  Building wheel for scikit-surprise (setup.py) ... \u001b[?25l\u001b[?25hdone\n",
            "  Created wheel for scikit-surprise: filename=scikit_surprise-1.1.1-cp37-cp37m-linux_x86_64.whl size=1630182 sha256=b15e255775a74a544ec85ae57f1aaf112748c0fd7c1a2f981ca15db22f9c7579\n",
            "  Stored in directory: /root/.cache/pip/wheels/76/44/74/b498c42be47b2406bd27994e16c5188e337c657025ab400c1c\n",
            "Successfully built scikit-surprise\n",
            "Installing collected packages: scikit-surprise\n",
            "Successfully installed scikit-surprise-1.1.1\n"
          ]
        }
      ],
      "source": [
        "!pip install scikit-surprise"
      ]
    },
    {
      "cell_type": "code",
      "source": [
        "from surprise import SVD\n",
        "from surprise import Dataset\n",
        "from surprise.model_selection import cross_validate"
      ],
      "metadata": {
        "id": "5eAtJkA7pQ-q"
      },
      "execution_count": 20,
      "outputs": []
    },
    {
      "cell_type": "code",
      "source": [
        "\n",
        "data = Dataset.load_builtin('ml-100k', prompt = False)\n",
        "raw_data = np.array(data.raw_ratings, dtype = int)"
      ],
      "metadata": {
        "id": "YpXYsEqvpr50",
        "colab": {
          "base_uri": "https://localhost:8080/"
        },
        "outputId": "4e9708cd-a90f-4b8f-fc66-9badd067e8b2"
      },
      "execution_count": 21,
      "outputs": [
        {
          "output_type": "stream",
          "name": "stdout",
          "text": [
            "Trying to download dataset from http://files.grouplens.org/datasets/movielens/ml-100k.zip...\n",
            "Done! Dataset ml-100k has been saved to /root/.surprise_data/ml-100k\n"
          ]
        }
      ]
    },
    {
      "cell_type": "code",
      "source": [
        "# user와 movie의 index를 0부터 시작할 수 있도록 1씩 빼준다.\n",
        "raw_data[:, 0] -= 1\n",
        "raw_data[:, 1] -= 1\n",
        "\n",
        "n_users = np.max(raw_data[:, 0])\n",
        "n_movies = np.max(raw_data[:, 1])\n",
        "# shape 자체는 위에서 1씩 빼준것을 감안하여 1씩 더해준 것을 shape으로 둔다.\n",
        "shape= (n_users +1, n_movies +1)\n",
        "shape"
      ],
      "metadata": {
        "colab": {
          "base_uri": "https://localhost:8080/"
        },
        "id": "b9y_FksKn4v3",
        "outputId": "47e90534-7c6b-4648-ccc5-6afebf2690cb"
      },
      "execution_count": 22,
      "outputs": [
        {
          "output_type": "execute_result",
          "data": {
            "text/plain": [
              "(943, 1682)"
            ]
          },
          "metadata": {},
          "execution_count": 22
        }
      ]
    },
    {
      "cell_type": "code",
      "source": [
        "# 인접행렬 생성\n",
        "adj_matrix = np.ndarray(shape, dtype=int)\n",
        "adj_matrix"
      ],
      "metadata": {
        "colab": {
          "base_uri": "https://localhost:8080/"
        },
        "id": "1r0f-iDvpDCb",
        "outputId": "144296fa-eab1-427f-dfc1-ab83c42cb58c"
      },
      "execution_count": 23,
      "outputs": [
        {
          "output_type": "execute_result",
          "data": {
            "text/plain": [
              "array([[0, 0, 0, ..., 0, 0, 0],\n",
              "       [0, 0, 0, ..., 0, 0, 0],\n",
              "       [0, 0, 0, ..., 0, 0, 0],\n",
              "       ...,\n",
              "       [0, 0, 0, ..., 0, 0, 0],\n",
              "       [0, 0, 0, ..., 0, 0, 0],\n",
              "       [0, 0, 0, ..., 0, 0, 0]])"
            ]
          },
          "metadata": {},
          "execution_count": 23
        }
      ]
    },
    {
      "cell_type": "code",
      "source": [
        "adj_matrix.shape  # 943개의 샘플(유저)과 1682개의 features(영화)에 대한 데이터"
      ],
      "metadata": {
        "colab": {
          "base_uri": "https://localhost:8080/"
        },
        "id": "RPiOnFTbswt0",
        "outputId": "f5a12d25-c0c0-48ae-c5fc-23e28a5f70c2"
      },
      "execution_count": 24,
      "outputs": [
        {
          "output_type": "execute_result",
          "data": {
            "text/plain": [
              "(943, 1682)"
            ]
          },
          "metadata": {},
          "execution_count": 24
        }
      ]
    },
    {
      "cell_type": "code",
      "source": [
        "for  user_id, movie_id, rating, time in raw_data:\n",
        "  adj_matrix[user_id][movie_id] = 1.  # 데이터가 있는 경우, 1로 설정해준다.\n",
        "adj_matrix\n"
      ],
      "metadata": {
        "colab": {
          "base_uri": "https://localhost:8080/"
        },
        "id": "NvLR_JDqpC_R",
        "outputId": "4b5957d1-d31d-4546-f266-b154f6a47e19"
      },
      "execution_count": 78,
      "outputs": [
        {
          "output_type": "execute_result",
          "data": {
            "text/plain": [
              "array([[1, 1, 1, ..., 0, 0, 0],\n",
              "       [1, 0, 0, ..., 0, 0, 0],\n",
              "       [0, 0, 0, ..., 0, 0, 0],\n",
              "       ...,\n",
              "       [1, 0, 0, ..., 0, 0, 0],\n",
              "       [0, 0, 0, ..., 0, 0, 0],\n",
              "       [0, 1, 0, ..., 0, 0, 0]])"
            ]
          },
          "metadata": {},
          "execution_count": 78
        }
      ]
    },
    {
      "cell_type": "code",
      "source": [
        "len(adj_matrix)"
      ],
      "metadata": {
        "colab": {
          "base_uri": "https://localhost:8080/"
        },
        "id": "KETKPVg3apGQ",
        "outputId": "1fe62fee-ac76-430f-8da6-ac6d6d2ba884"
      },
      "execution_count": 79,
      "outputs": [
        {
          "output_type": "execute_result",
          "data": {
            "text/plain": [
              "943"
            ]
          },
          "metadata": {},
          "execution_count": 79
        }
      ]
    },
    {
      "cell_type": "code",
      "source": [
        "len(adj_matrix[0])"
      ],
      "metadata": {
        "colab": {
          "base_uri": "https://localhost:8080/"
        },
        "id": "_Pd9n8Cya1-N",
        "outputId": "cf3c840a-3435-4637-caaa-57f26e24a302"
      },
      "execution_count": 80,
      "outputs": [
        {
          "output_type": "execute_result",
          "data": {
            "text/plain": [
              "1682"
            ]
          },
          "metadata": {},
          "execution_count": 80
        }
      ]
    },
    {
      "cell_type": "code",
      "source": [
        "# 추천 진행할 id와 matrix에서의 해당 id 설정\n",
        "id, vector = 0, adj_matrix[0]\n",
        "best_match, best_match_id, best_match_vector = -1,-1,[]\n",
        "\n",
        "for user_id, user_vector in enumerate(adj_matrix):\n",
        "  # 유저 id와 선택 id가 다른경우, 유사도를 체크 한다. 선택 id에 대해서는 할 필요가 없기 때문에 생랼\n",
        "  if id != user_id:\n",
        "    similarity = np.dot(vector, user_vector)\n",
        "    if similarity > best_match:  # 유사도가 기존 best_match보다 높을 경우\n",
        "      best_match = similarity # best_match에 해당 유사도 값을 넣어준다.\n",
        "      best_match_id = user_id # 현재 유사도를 계산한 유저 id를 best match id로 선정\n",
        "      best_match_vector = user_vector # 현재 유사도를 계산한 vector를 넣는다.\n",
        "\n",
        "print(f'Best Match (유사도 스코어): {best_match},\\nBest Match ID (id \"{id}\"번과 가장 유사한 id): {best_match_id}')\n"
      ],
      "metadata": {
        "colab": {
          "base_uri": "https://localhost:8080/"
        },
        "id": "SHN_ZSzWs0aj",
        "outputId": "1051bb6f-c748-4c32-899b-17d83a1dd0b4"
      },
      "execution_count": 81,
      "outputs": [
        {
          "output_type": "stream",
          "name": "stdout",
          "text": [
            "Best Match (유사도 스코어): 183,\n",
            "Best Match ID (id \"0\"번과 가장 유사한 id): 275\n"
          ]
        }
      ]
    },
    {
      "cell_type": "markdown",
      "source": [
        "### 특정 ID('0')에 대한 추천 리스트를 뽑아보기"
      ],
      "metadata": {
        "id": "ertsxGYqQFuN"
      }
    },
    {
      "cell_type": "code",
      "source": [
        "best_match_vector"
      ],
      "metadata": {
        "colab": {
          "base_uri": "https://localhost:8080/"
        },
        "id": "9UhJxAfRYpic",
        "outputId": "5b5feb0a-ecbf-4526-d197-47b564dbca94"
      },
      "execution_count": 82,
      "outputs": [
        {
          "output_type": "execute_result",
          "data": {
            "text/plain": [
              "array([1, 1, 1, ..., 0, 0, 0])"
            ]
          },
          "metadata": {},
          "execution_count": 82
        }
      ]
    },
    {
      "cell_type": "code",
      "source": [
        "vector"
      ],
      "metadata": {
        "colab": {
          "base_uri": "https://localhost:8080/"
        },
        "id": "ZG2O3X6wYnPZ",
        "outputId": "38e82c19-45cd-4923-d9ca-05e7ed062c2c"
      },
      "execution_count": 83,
      "outputs": [
        {
          "output_type": "execute_result",
          "data": {
            "text/plain": [
              "array([1, 1, 1, ..., 0, 0, 0])"
            ]
          },
          "metadata": {},
          "execution_count": 83
        }
      ]
    },
    {
      "cell_type": "code",
      "source": [
        "max(vector)"
      ],
      "metadata": {
        "colab": {
          "base_uri": "https://localhost:8080/"
        },
        "id": "HOzp3TCWd58C",
        "outputId": "addc3941-7035-49ae-c3e8-ddcade204375"
      },
      "execution_count": 84,
      "outputs": [
        {
          "output_type": "execute_result",
          "data": {
            "text/plain": [
              "1"
            ]
          },
          "metadata": {},
          "execution_count": 84
        }
      ]
    },
    {
      "cell_type": "code",
      "source": [
        "recommendation = []\n",
        "for i, log in enumerate(zip(vector, best_match_vector)):\n",
        "  log1, log2 = log # 유저 0이 본 영화정보 vector(log1)와 유저 0과 비슷한 유저가 본 영화정보 best_match_vector(log2)를 비교하기 위함\n",
        "  # 기존에 본 영화(log1)은 배제하고(0인 경우), 보지 않았던 영화 중, 가장 유사한 유저가 본 영화(log2가 1인경우) \n",
        "  if log1 < 1. and log2 > 0.:\n",
        "    recommendation.append(i)\n",
        "print(recommendation)"
      ],
      "metadata": {
        "colab": {
          "base_uri": "https://localhost:8080/"
        },
        "id": "tqq9UxCgpC7f",
        "outputId": "e4e322c1-ce57-4665-af7a-054c1ee56408"
      },
      "execution_count": 85,
      "outputs": [
        {
          "output_type": "stream",
          "name": "stdout",
          "text": [
            "[272, 273, 275, 280, 281, 283, 287, 288, 289, 290, 292, 293, 297, 299, 300, 301, 302, 306, 312, 314, 315, 316, 317, 321, 322, 323, 324, 327, 330, 331, 332, 333, 339, 342, 345, 346, 353, 354, 355, 356, 357, 363, 364, 365, 366, 372, 374, 378, 379, 381, 382, 383, 384, 385, 386, 387, 390, 391, 392, 394, 395, 396, 398, 400, 401, 402, 403, 404, 405, 406, 407, 408, 409, 410, 412, 414, 416, 417, 418, 419, 420, 422, 424, 425, 426, 427, 428, 430, 431, 432, 435, 442, 446, 447, 448, 449, 450, 451, 452, 454, 455, 457, 460, 461, 462, 468, 469, 470, 471, 472, 473, 474, 478, 495, 500, 507, 517, 522, 525, 530, 539, 540, 543, 545, 546, 548, 549, 550, 551, 553, 557, 558, 560, 561, 562, 563, 565, 566, 567, 568, 570, 571, 574, 575, 576, 577, 580, 581, 582, 585, 587, 589, 590, 594, 596, 602, 623, 626, 627, 630, 633, 635, 639, 646, 648, 651, 652, 654, 657, 664, 668, 671, 677, 678, 681, 683, 684, 685, 690, 691, 692, 695, 696, 708, 709, 714, 718, 719, 720, 724, 726, 727, 731, 733, 734, 736, 738, 741, 742, 745, 746, 747, 749, 750, 754, 758, 762, 764, 767, 768, 769, 770, 771, 772, 773, 778, 779, 782, 785, 788, 789, 793, 795, 796, 799, 800, 801, 802, 805, 806, 808, 815, 819, 822, 824, 830, 839, 842, 843, 844, 852, 853, 870, 875, 878, 880, 889, 901, 914, 915, 918, 921, 927, 929, 930, 938, 940, 941, 942, 948, 950, 958, 968, 973, 974, 976, 992, 999, 1005, 1009, 1010, 1012, 1015, 1018, 1027, 1030, 1034, 1035, 1041, 1043, 1045, 1046, 1051, 1055, 1072, 1073, 1078, 1080, 1082, 1088, 1089, 1090, 1094, 1097, 1108, 1109, 1117, 1128, 1130, 1134, 1139, 1140, 1144, 1156, 1169, 1171, 1179, 1193, 1198, 1207, 1209, 1212, 1217, 1219, 1220, 1227, 1231, 1238, 1239, 1243, 1244, 1252, 1266, 1272, 1273, 1300, 1313, 1406, 1412, 1415, 1470, 1477, 1480, 1481, 1482]\n"
          ]
        }
      ]
    },
    {
      "cell_type": "markdown",
      "source": [
        "### 유클리드 거리를 이용한 추천\n",
        "\n",
        "$euclidean = \\sqrt\\displaystyle\\sum_{d=i}^{D} (A_i - B_i)^2$\n",
        "\n",
        "유클리드 거리가 가까울 수록 지정 id와 유사한 사용자로 취급"
      ],
      "metadata": {
        "id": "2c714urs58NP"
      }
    },
    {
      "cell_type": "code",
      "source": [
        "for user_id, user_vector in enumerate(adj_matrix):\n",
        "  print(user_vector)"
      ],
      "metadata": {
        "colab": {
          "base_uri": "https://localhost:8080/"
        },
        "id": "OohPGnNY-DDA",
        "outputId": "2437cfb6-8e0d-4671-ee1c-d505325fc5bd"
      },
      "execution_count": 86,
      "outputs": [
        {
          "output_type": "stream",
          "name": "stdout",
          "text": [
            "[1 1 1 ... 0 0 0]\n",
            "[1 0 0 ... 0 0 0]\n",
            "[0 0 0 ... 0 0 0]\n",
            "[0 0 0 ... 0 0 0]\n",
            "[1 1 0 ... 0 0 0]\n",
            "[1 0 0 ... 0 0 0]\n",
            "[0 0 0 ... 0 0 0]\n",
            "[0 0 0 ... 0 0 0]\n",
            "[0 0 0 ... 0 0 0]\n",
            "[1 0 0 ... 0 0 0]\n",
            "[0 0 0 ... 0 0 0]\n",
            "[0 0 0 ... 0 0 0]\n",
            "[1 1 0 ... 0 0 0]\n",
            "[0 0 0 ... 0 0 0]\n",
            "[1 0 0 ... 0 0 0]\n",
            "[1 0 0 ... 0 0 0]\n",
            "[1 0 0 ... 0 0 0]\n",
            "[1 0 0 ... 0 0 0]\n",
            "[0 0 0 ... 0 0 0]\n",
            "[1 0 0 ... 0 0 0]\n",
            "[1 0 0 ... 0 0 0]\n",
            "[0 1 0 ... 0 0 0]\n",
            "[1 0 0 ... 0 0 0]\n",
            "[0 0 0 ... 0 0 0]\n",
            "[1 0 0 ... 0 0 0]\n",
            "[1 0 0 ... 0 0 0]\n",
            "[0 0 0 ... 0 0 0]\n",
            "[0 0 0 ... 0 0 0]\n",
            "[0 0 0 ... 0 0 0]\n",
            "[0 1 0 ... 0 0 0]\n",
            "[0 0 0 ... 0 0 0]\n",
            "[0 0 0 ... 0 0 0]\n",
            "[0 0 0 ... 0 0 0]\n",
            "[0 0 0 ... 0 0 0]\n",
            "[0 0 0 ... 0 0 0]\n",
            "[0 0 0 ... 0 0 0]\n",
            "[0 0 0 ... 0 0 0]\n",
            "[1 0 0 ... 0 0 0]\n",
            "[0 0 0 ... 0 0 0]\n",
            "[0 0 0 ... 0 0 0]\n",
            "[1 0 0 ... 0 0 0]\n",
            "[1 1 0 ... 0 0 0]\n",
            "[1 0 1 ... 0 0 0]\n",
            "[1 0 0 ... 0 0 0]\n",
            "[1 0 0 ... 0 0 0]\n",
            "[0 0 0 ... 0 0 0]\n",
            "[0 0 0 ... 0 0 0]\n",
            "[0 0 0 ... 0 0 0]\n",
            "[1 1 1 ... 0 0 0]\n",
            "[0 0 0 ... 0 0 0]\n",
            "[0 0 0 ... 0 0 0]\n",
            "[0 0 0 ... 0 0 0]\n",
            "[0 0 0 ... 0 0 0]\n",
            "[1 0 0 ... 0 0 0]\n",
            "[0 0 0 ... 0 0 0]\n",
            "[1 0 0 ... 0 0 0]\n",
            "[1 0 0 ... 0 0 0]\n",
            "[1 0 0 ... 0 0 0]\n",
            "[1 0 1 ... 0 0 0]\n",
            "[0 0 0 ... 0 0 0]\n",
            "[0 0 0 ... 0 0 0]\n",
            "[1 0 1 ... 0 0 0]\n",
            "[1 0 1 ... 0 0 0]\n",
            "[1 1 0 ... 0 0 0]\n",
            "[1 0 0 ... 0 0 0]\n",
            "[1 0 0 ... 0 0 0]\n",
            "[1 0 0 ... 0 0 0]\n",
            "[0 0 0 ... 0 0 0]\n",
            "[0 0 0 ... 0 0 0]\n",
            "[1 0 0 ... 0 0 0]\n",
            "[0 0 0 ... 0 0 0]\n",
            "[1 1 0 ... 0 0 0]\n",
            "[1 0 0 ... 0 0 0]\n",
            "[0 0 0 ... 0 0 0]\n",
            "[1 0 0 ... 0 0 0]\n",
            "[0 0 0 ... 0 0 0]\n",
            "[1 0 0 ... 0 0 0]\n",
            "[0 0 0 ... 0 0 0]\n",
            "[1 0 0 ... 0 0 0]\n",
            "[0 0 0 ... 0 0 0]\n",
            "[1 0 1 ... 0 0 0]\n",
            "[1 0 1 ... 0 0 0]\n",
            "[1 1 0 ... 0 0 0]\n",
            "[1 0 0 ... 0 0 0]\n",
            "[0 0 0 ... 0 0 0]\n",
            "[0 0 0 ... 0 0 0]\n",
            "[0 1 0 ... 0 0 0]\n",
            "[0 0 0 ... 0 0 0]\n",
            "[1 0 0 ... 0 0 0]\n",
            "[0 0 0 ... 0 0 0]\n",
            "[0 0 0 ... 0 0 0]\n",
            "[1 1 0 ... 0 0 0]\n",
            "[1 0 0 ... 0 0 0]\n",
            "[1 0 0 ... 0 0 0]\n",
            "[1 1 1 ... 0 0 0]\n",
            "[1 0 0 ... 0 0 0]\n",
            "[1 0 0 ... 0 0 0]\n",
            "[0 0 0 ... 0 0 0]\n",
            "[1 0 1 ... 0 0 0]\n",
            "[0 0 0 ... 0 0 0]\n",
            "[1 0 0 ... 0 0 0]\n",
            "[1 1 0 ... 0 0 0]\n",
            "[0 0 0 ... 0 0 0]\n",
            "[0 0 1 ... 0 0 0]\n",
            "[0 0 0 ... 0 0 0]\n",
            "[1 0 0 ... 0 0 0]\n",
            "[0 0 0 ... 0 0 0]\n",
            "[1 0 0 ... 0 0 0]\n",
            "[1 0 0 ... 0 0 0]\n",
            "[0 1 0 ... 0 0 0]\n",
            "[0 0 0 ... 0 0 0]\n",
            "[0 0 0 ... 0 0 0]\n",
            "[0 0 0 ... 0 0 0]\n",
            "[0 0 0 ... 0 0 0]\n",
            "[0 0 0 ... 0 0 0]\n",
            "[0 0 0 ... 0 0 0]\n",
            "[1 0 0 ... 0 0 0]\n",
            "[0 0 0 ... 0 0 0]\n",
            "[0 0 0 ... 0 0 0]\n",
            "[1 0 0 ... 0 0 0]\n",
            "[1 0 0 ... 0 0 0]\n",
            "[0 0 0 ... 0 0 0]\n",
            "[0 0 0 ... 0 0 0]\n",
            "[1 0 0 ... 0 0 0]\n",
            "[1 0 0 ... 0 0 0]\n",
            "[0 0 0 ... 0 0 0]\n",
            "[0 0 0 ... 0 0 0]\n",
            "[1 0 0 ... 0 0 0]\n",
            "[0 0 0 ... 0 0 0]\n",
            "[1 1 1 ... 0 0 0]\n",
            "[1 0 0 ... 0 0 0]\n",
            "[0 0 0 ... 0 0 0]\n",
            "[0 0 0 ... 0 0 0]\n",
            "[1 0 0 ... 0 0 0]\n",
            "[0 0 0 ... 0 0 0]\n",
            "[0 0 0 ... 0 0 0]\n",
            "[1 0 0 ... 0 0 0]\n",
            "[1 0 0 ... 0 0 0]\n",
            "[0 0 0 ... 0 0 0]\n",
            "[0 0 0 ... 0 0 0]\n",
            "[1 0 0 ... 0 0 0]\n",
            "[0 0 0 ... 0 0 0]\n",
            "[0 0 0 ... 0 0 0]\n",
            "[1 0 0 ... 0 0 0]\n",
            "[1 0 1 ... 0 0 0]\n",
            "[0 0 0 ... 0 0 0]\n",
            "[0 0 0 ... 0 0 0]\n",
            "[1 0 0 ... 0 0 0]\n",
            "[0 0 0 ... 0 0 0]\n",
            "[1 0 0 ... 0 0 0]\n",
            "[1 0 0 ... 0 0 0]\n",
            "[0 0 0 ... 0 0 0]\n",
            "[0 0 0 ... 0 0 0]\n",
            "[0 0 0 ... 0 0 0]\n",
            "[0 0 0 ... 0 0 0]\n",
            "[0 0 0 ... 0 0 0]\n",
            "[1 0 1 ... 0 0 0]\n",
            "[1 0 0 ... 0 0 0]\n",
            "[0 0 0 ... 0 0 0]\n",
            "[1 0 1 ... 0 0 0]\n",
            "[0 0 0 ... 0 0 0]\n",
            "[1 0 0 ... 0 0 0]\n",
            "[0 0 0 ... 0 0 0]\n",
            "[0 0 0 ... 0 0 0]\n",
            "[0 0 0 ... 0 0 0]\n",
            "[0 0 0 ... 0 0 0]\n",
            "[0 0 0 ... 0 0 0]\n",
            "[1 0 0 ... 0 0 0]\n",
            "[0 0 0 ... 0 0 0]\n",
            "[0 0 0 ... 0 0 0]\n",
            "[0 0 0 ... 0 0 0]\n",
            "[0 0 0 ... 0 0 0]\n",
            "[0 0 0 ... 0 0 0]\n",
            "[1 0 0 ... 0 0 0]\n",
            "[0 0 0 ... 0 0 0]\n",
            "[0 0 0 ... 0 0 0]\n",
            "[1 0 0 ... 0 0 0]\n",
            "[1 1 0 ... 0 0 0]\n",
            "[0 0 0 ... 0 0 0]\n",
            "[0 0 0 ... 0 0 0]\n",
            "[1 0 1 ... 0 0 0]\n",
            "[1 0 0 ... 0 0 0]\n",
            "[0 0 0 ... 0 0 0]\n",
            "[1 0 0 ... 0 0 0]\n",
            "[0 0 0 ... 0 0 0]\n",
            "[0 0 0 ... 0 0 0]\n",
            "[0 0 0 ... 0 0 0]\n",
            "[0 0 0 ... 0 0 0]\n",
            "[1 0 0 ... 0 0 0]\n",
            "[0 0 0 ... 0 0 0]\n",
            "[0 0 0 ... 0 0 0]\n",
            "[0 0 0 ... 0 0 0]\n",
            "[1 1 0 ... 0 0 0]\n",
            "[1 0 0 ... 0 0 0]\n",
            "[0 0 0 ... 0 0 0]\n",
            "[0 0 0 ... 0 0 0]\n",
            "[0 1 0 ... 0 0 0]\n",
            "[1 0 0 ... 0 0 0]\n",
            "[1 0 0 ... 0 0 0]\n",
            "[1 1 0 ... 0 0 0]\n",
            "[1 1 0 ... 0 0 0]\n",
            "[1 0 0 ... 0 0 0]\n",
            "[1 0 0 ... 0 0 0]\n",
            "[1 0 0 ... 0 0 0]\n",
            "[0 0 0 ... 0 0 0]\n",
            "[0 0 0 ... 0 0 0]\n",
            "[0 1 1 ... 0 0 0]\n",
            "[0 0 0 ... 0 0 0]\n",
            "[1 0 0 ... 0 0 0]\n",
            "[1 0 0 ... 0 0 0]\n",
            "[0 0 0 ... 0 0 0]\n",
            "[0 0 0 ... 0 0 0]\n",
            "[1 1 0 ... 0 0 0]\n",
            "[0 0 0 ... 0 0 0]\n",
            "[0 0 0 ... 0 0 0]\n",
            "[1 0 1 ... 0 0 0]\n",
            "[0 1 0 ... 0 0 0]\n",
            "[0 0 0 ... 0 0 0]\n",
            "[0 0 0 ... 0 0 0]\n",
            "[0 0 0 ... 0 0 0]\n",
            "[0 0 1 ... 0 0 0]\n",
            "[1 1 0 ... 0 0 0]\n",
            "[1 0 0 ... 0 0 0]\n",
            "[0 0 0 ... 0 0 0]\n",
            "[0 0 0 ... 0 0 0]\n",
            "[0 0 0 ... 0 0 0]\n",
            "[0 0 0 ... 0 0 0]\n",
            "[0 0 0 ... 0 0 0]\n",
            "[0 0 0 ... 0 0 0]\n",
            "[1 0 0 ... 0 0 0]\n",
            "[1 0 0 ... 0 0 0]\n",
            "[1 0 0 ... 0 0 0]\n",
            "[0 0 0 ... 0 0 0]\n",
            "[1 1 0 ... 0 0 0]\n",
            "[1 0 0 ... 0 0 0]\n",
            "[0 0 0 ... 0 0 0]\n",
            "[0 0 0 ... 0 0 0]\n",
            "[0 0 0 ... 0 0 0]\n",
            "[0 0 0 ... 0 0 0]\n",
            "[0 0 0 ... 0 0 0]\n",
            "[0 0 0 ... 0 0 0]\n",
            "[1 0 0 ... 0 0 0]\n",
            "[1 0 0 ... 0 0 0]\n",
            "[1 0 1 ... 0 0 0]\n",
            "[0 0 0 ... 0 0 0]\n",
            "[1 0 1 ... 0 0 0]\n",
            "[1 0 0 ... 0 0 0]\n",
            "[1 0 0 ... 0 0 0]\n",
            "[1 1 0 ... 0 0 0]\n",
            "[1 1 0 ... 0 0 0]\n",
            "[1 0 0 ... 0 0 0]\n",
            "[1 0 0 ... 0 0 0]\n",
            "[1 0 0 ... 0 0 0]\n",
            "[1 0 0 ... 0 0 0]\n",
            "[0 0 0 ... 0 0 0]\n",
            "[1 1 0 ... 0 0 0]\n",
            "[0 0 0 ... 0 0 0]\n",
            "[0 0 0 ... 0 0 0]\n",
            "[0 0 0 ... 0 0 0]\n",
            "[0 0 0 ... 0 0 0]\n",
            "[0 0 0 ... 0 0 0]\n",
            "[1 0 0 ... 0 0 0]\n",
            "[1 0 0 ... 0 0 0]\n",
            "[0 0 0 ... 0 0 0]\n",
            "[1 0 0 ... 0 0 0]\n",
            "[0 0 0 ... 0 0 0]\n",
            "[0 1 1 ... 0 0 0]\n",
            "[1 1 1 ... 0 0 0]\n",
            "[0 0 1 ... 0 0 0]\n",
            "[0 0 0 ... 0 0 0]\n",
            "[1 1 0 ... 0 0 0]\n",
            "[0 0 0 ... 0 0 0]\n",
            "[0 0 0 ... 0 0 0]\n",
            "[1 0 0 ... 0 0 0]\n",
            "[1 0 0 ... 0 0 0]\n",
            "[1 1 1 ... 0 0 0]\n",
            "[1 0 0 ... 0 0 0]\n",
            "[0 0 0 ... 0 0 0]\n",
            "[1 1 0 ... 0 0 0]\n",
            "[1 1 1 ... 0 0 0]\n",
            "[0 0 0 ... 0 0 0]\n",
            "[0 0 0 ... 0 0 0]\n",
            "[0 0 0 ... 0 0 0]\n",
            "[0 0 0 ... 0 0 0]\n",
            "[0 0 0 ... 0 0 0]\n",
            "[1 0 1 ... 0 0 0]\n",
            "[1 0 0 ... 0 0 0]\n",
            "[0 0 0 ... 0 0 0]\n",
            "[1 0 0 ... 0 0 0]\n",
            "[1 0 0 ... 0 0 0]\n",
            "[1 0 1 ... 0 0 0]\n",
            "[1 1 0 ... 0 0 0]\n",
            "[1 1 1 ... 0 0 0]\n",
            "[1 0 0 ... 0 0 0]\n",
            "[1 0 0 ... 0 0 0]\n",
            "[1 0 0 ... 0 0 0]\n",
            "[1 0 0 ... 0 0 0]\n",
            "[1 0 0 ... 0 0 0]\n",
            "[1 0 0 ... 0 0 0]\n",
            "[0 0 0 ... 0 0 0]\n",
            "[1 1 1 ... 0 0 0]\n",
            "[0 0 0 ... 0 0 0]\n",
            "[1 1 1 ... 0 0 0]\n",
            "[0 0 0 ... 0 0 0]\n",
            "[1 1 0 ... 0 0 0]\n",
            "[0 0 0 ... 0 0 0]\n",
            "[1 0 0 ... 0 0 0]\n",
            "[1 0 0 ... 0 0 0]\n",
            "[0 0 0 ... 0 0 0]\n",
            "[0 0 0 ... 0 0 0]\n",
            "[1 0 0 ... 0 0 0]\n",
            "[1 0 0 ... 0 0 0]\n",
            "[1 0 0 ... 0 0 0]\n",
            "[1 0 0 ... 0 0 0]\n",
            "[0 0 0 ... 0 0 0]\n",
            "[0 0 0 ... 0 0 0]\n",
            "[0 0 0 ... 0 0 0]\n",
            "[0 0 0 ... 0 0 0]\n",
            "[0 0 0 ... 0 0 0]\n",
            "[1 1 1 ... 0 0 0]\n",
            "[0 0 0 ... 0 0 0]\n",
            "[1 0 0 ... 0 0 0]\n",
            "[0 0 0 ... 0 0 0]\n",
            "[1 0 0 ... 0 0 0]\n",
            "[1 1 0 ... 0 0 0]\n",
            "[1 0 0 ... 0 0 0]\n",
            "[1 1 0 ... 0 0 0]\n",
            "[0 0 0 ... 0 0 0]\n",
            "[0 0 0 ... 0 0 0]\n",
            "[1 0 0 ... 0 0 0]\n",
            "[1 0 0 ... 0 0 0]\n",
            "[1 0 0 ... 0 0 0]\n",
            "[0 0 0 ... 0 0 0]\n",
            "[0 0 0 ... 0 0 0]\n",
            "[0 0 0 ... 0 0 0]\n",
            "[1 0 1 ... 0 0 0]\n",
            "[0 0 0 ... 0 0 0]\n",
            "[1 0 0 ... 0 0 0]\n",
            "[1 0 0 ... 0 0 0]\n",
            "[1 0 0 ... 0 0 0]\n",
            "[0 0 0 ... 0 0 0]\n",
            "[0 0 1 ... 0 0 0]\n",
            "[1 0 1 ... 0 0 0]\n",
            "[1 0 0 ... 0 0 0]\n",
            "[1 0 0 ... 0 0 0]\n",
            "[0 1 1 ... 0 0 0]\n",
            "[1 0 0 ... 0 0 0]\n",
            "[1 0 0 ... 0 0 0]\n",
            "[0 0 0 ... 0 0 0]\n",
            "[1 0 0 ... 0 0 0]\n",
            "[0 0 0 ... 0 0 0]\n",
            "[0 0 0 ... 0 0 0]\n",
            "[0 0 0 ... 0 0 0]\n",
            "[0 0 0 ... 0 0 0]\n",
            "[0 0 0 ... 0 0 0]\n",
            "[0 0 0 ... 0 0 0]\n",
            "[1 0 0 ... 0 0 0]\n",
            "[0 0 0 ... 0 0 0]\n",
            "[1 0 0 ... 0 0 0]\n",
            "[1 0 0 ... 0 0 0]\n",
            "[0 0 0 ... 0 0 0]\n",
            "[0 0 0 ... 0 0 0]\n",
            "[1 1 0 ... 0 0 0]\n",
            "[0 0 0 ... 0 0 0]\n",
            "[1 0 0 ... 0 0 0]\n",
            "[0 0 0 ... 0 0 0]\n",
            "[0 0 0 ... 0 0 0]\n",
            "[0 0 0 ... 0 0 0]\n",
            "[0 0 0 ... 0 0 0]\n",
            "[0 0 0 ... 0 0 0]\n",
            "[1 0 0 ... 0 0 0]\n",
            "[0 0 0 ... 0 0 0]\n",
            "[0 1 0 ... 0 0 0]\n",
            "[1 1 0 ... 0 0 0]\n",
            "[0 0 0 ... 0 0 0]\n",
            "[0 0 0 ... 0 0 0]\n",
            "[0 0 0 ... 0 0 0]\n",
            "[1 1 0 ... 0 0 0]\n",
            "[1 1 0 ... 0 0 0]\n",
            "[1 0 0 ... 0 0 0]\n",
            "[1 0 0 ... 0 0 0]\n",
            "[0 0 0 ... 0 0 0]\n",
            "[0 0 0 ... 0 0 0]\n",
            "[0 0 0 ... 0 0 0]\n",
            "[0 1 0 ... 0 0 0]\n",
            "[0 0 0 ... 0 0 0]\n",
            "[1 1 0 ... 0 0 0]\n",
            "[1 0 0 ... 0 0 0]\n",
            "[1 0 0 ... 0 0 0]\n",
            "[1 0 0 ... 0 0 0]\n",
            "[0 0 0 ... 0 0 0]\n",
            "[0 0 0 ... 0 0 0]\n",
            "[1 1 1 ... 0 0 0]\n",
            "[1 0 0 ... 0 0 0]\n",
            "[1 0 0 ... 0 0 0]\n",
            "[1 0 0 ... 0 0 0]\n",
            "[0 0 0 ... 0 0 0]\n",
            "[1 1 0 ... 0 0 0]\n",
            "[1 1 0 ... 0 0 0]\n",
            "[0 0 0 ... 0 0 0]\n",
            "[1 0 0 ... 0 0 0]\n",
            "[1 0 0 ... 0 0 0]\n",
            "[1 0 0 ... 0 0 0]\n",
            "[0 0 0 ... 0 0 0]\n",
            "[0 1 0 ... 0 0 0]\n",
            "[1 0 1 ... 0 0 0]\n",
            "[1 1 0 ... 0 0 0]\n",
            "[0 0 0 ... 0 0 0]\n",
            "[0 0 0 ... 0 0 0]\n",
            "[0 0 0 ... 0 0 0]\n",
            "[1 0 0 ... 0 0 0]\n",
            "[1 0 0 ... 0 0 0]\n",
            "[0 0 0 ... 0 0 0]\n",
            "[0 0 0 ... 0 0 0]\n",
            "[0 0 0 ... 0 0 0]\n",
            "[1 1 0 ... 0 0 0]\n",
            "[1 0 1 ... 0 0 0]\n",
            "[0 0 0 ... 0 0 0]\n",
            "[1 0 0 ... 0 0 0]\n",
            "[0 0 0 ... 0 0 0]\n",
            "[0 0 0 ... 0 0 0]\n",
            "[1 0 0 ... 0 0 0]\n",
            "[0 0 0 ... 0 0 0]\n",
            "[1 0 0 ... 0 0 0]\n",
            "[1 1 0 ... 0 0 0]\n",
            "[0 0 0 ... 0 0 0]\n",
            "[0 0 0 ... 0 0 0]\n",
            "[0 0 0 ... 0 0 0]\n",
            "[1 1 1 ... 0 0 0]\n",
            "[0 0 0 ... 0 0 0]\n",
            "[0 0 0 ... 0 0 0]\n",
            "[1 0 1 ... 0 0 0]\n",
            "[0 0 0 ... 0 0 0]\n",
            "[1 0 0 ... 0 0 0]\n",
            "[1 1 1 ... 0 0 0]\n",
            "[0 0 0 ... 0 0 0]\n",
            "[0 0 0 ... 0 0 0]\n",
            "[1 0 0 ... 0 0 0]\n",
            "[0 0 0 ... 0 0 0]\n",
            "[0 0 0 ... 0 0 0]\n",
            "[1 0 0 ... 0 0 0]\n",
            "[0 1 0 ... 0 0 0]\n",
            "[0 0 0 ... 0 0 0]\n",
            "[0 0 0 ... 0 0 0]\n",
            "[1 0 0 ... 0 0 0]\n",
            "[0 0 0 ... 0 0 0]\n",
            "[1 0 0 ... 0 0 0]\n",
            "[0 0 0 ... 0 0 0]\n",
            "[0 0 0 ... 0 0 0]\n",
            "[1 1 1 ... 0 0 0]\n",
            "[0 0 0 ... 0 0 0]\n",
            "[0 0 0 ... 0 0 0]\n",
            "[0 0 1 ... 0 0 0]\n",
            "[1 0 0 ... 0 0 0]\n",
            "[1 1 0 ... 0 0 0]\n",
            "[1 0 1 ... 0 0 0]\n",
            "[1 0 0 ... 0 0 0]\n",
            "[1 0 0 ... 0 0 0]\n",
            "[1 0 1 ... 0 0 0]\n",
            "[1 0 0 ... 0 0 0]\n",
            "[0 0 0 ... 0 0 0]\n",
            "[0 0 0 ... 0 0 0]\n",
            "[1 0 1 ... 0 0 0]\n",
            "[0 0 0 ... 0 0 0]\n",
            "[1 0 0 ... 0 0 0]\n",
            "[0 1 0 ... 0 0 0]\n",
            "[1 0 0 ... 0 0 0]\n",
            "[1 0 0 ... 0 0 0]\n",
            "[0 0 0 ... 0 0 0]\n",
            "[1 0 0 ... 0 0 0]\n",
            "[1 0 0 ... 0 0 0]\n",
            "[1 1 1 ... 0 0 0]\n",
            "[0 0 0 ... 0 0 0]\n",
            "[0 0 0 ... 0 0 0]\n",
            "[0 0 0 ... 0 0 0]\n",
            "[0 0 0 ... 0 0 0]\n",
            "[0 0 0 ... 0 0 0]\n",
            "[1 0 0 ... 0 0 0]\n",
            "[1 0 0 ... 0 0 0]\n",
            "[0 0 0 ... 0 0 0]\n",
            "[0 0 0 ... 0 0 0]\n",
            "[0 0 0 ... 0 0 0]\n",
            "[1 0 0 ... 0 0 0]\n",
            "[1 1 0 ... 0 0 0]\n",
            "[0 0 0 ... 0 0 0]\n",
            "[1 0 1 ... 0 0 0]\n",
            "[1 1 1 ... 0 0 0]\n",
            "[1 0 0 ... 0 0 0]\n",
            "[0 0 0 ... 0 0 0]\n",
            "[1 0 0 ... 0 0 0]\n",
            "[0 0 0 ... 0 0 0]\n",
            "[0 0 0 ... 0 0 0]\n",
            "[1 0 0 ... 0 0 0]\n",
            "[1 0 0 ... 0 0 0]\n",
            "[1 1 0 ... 0 0 0]\n",
            "[0 0 0 ... 0 0 0]\n",
            "[1 1 1 ... 0 0 0]\n",
            "[0 0 0 ... 0 0 0]\n",
            "[0 0 0 ... 0 0 0]\n",
            "[1 0 1 ... 0 0 0]\n",
            "[0 0 0 ... 0 0 0]\n",
            "[0 0 0 ... 0 0 0]\n",
            "[1 0 0 ... 0 0 0]\n",
            "[0 0 0 ... 0 0 0]\n",
            "[1 0 0 ... 0 0 0]\n",
            "[0 1 0 ... 0 0 0]\n",
            "[0 0 0 ... 0 0 0]\n",
            "[1 0 0 ... 0 0 0]\n",
            "[0 0 0 ... 0 0 0]\n",
            "[0 0 0 ... 0 0 0]\n",
            "[0 0 0 ... 0 0 0]\n",
            "[1 0 0 ... 0 0 0]\n",
            "[0 0 0 ... 0 0 0]\n",
            "[1 0 0 ... 0 0 0]\n",
            "[0 0 0 ... 0 0 0]\n",
            "[0 0 0 ... 0 0 0]\n",
            "[1 0 0 ... 0 0 0]\n",
            "[1 0 0 ... 0 0 0]\n",
            "[0 0 0 ... 0 0 0]\n",
            "[0 0 0 ... 0 0 0]\n",
            "[1 1 0 ... 0 0 0]\n",
            "[0 0 0 ... 0 0 0]\n",
            "[1 0 1 ... 0 0 0]\n",
            "[0 0 0 ... 0 0 0]\n",
            "[1 0 0 ... 0 0 0]\n",
            "[1 0 0 ... 0 0 0]\n",
            "[0 0 0 ... 0 0 0]\n",
            "[0 0 0 ... 0 0 0]\n",
            "[0 0 0 ... 0 0 0]\n",
            "[0 0 0 ... 0 0 0]\n",
            "[0 0 0 ... 0 0 0]\n",
            "[1 1 0 ... 0 0 0]\n",
            "[1 0 0 ... 0 0 0]\n",
            "[1 0 1 ... 0 0 0]\n",
            "[1 0 0 ... 0 0 0]\n",
            "[1 1 0 ... 0 0 0]\n",
            "[1 0 1 ... 0 0 0]\n",
            "[0 0 0 ... 0 0 0]\n",
            "[0 0 0 ... 0 0 0]\n",
            "[1 0 0 ... 0 0 0]\n",
            "[1 0 0 ... 0 0 0]\n",
            "[1 0 0 ... 0 0 0]\n",
            "[0 1 0 ... 0 0 0]\n",
            "[0 0 0 ... 0 0 0]\n",
            "[1 0 0 ... 0 0 0]\n",
            "[0 0 0 ... 0 0 0]\n",
            "[0 0 0 ... 0 0 0]\n",
            "[1 0 1 ... 0 0 0]\n",
            "[1 0 0 ... 0 0 0]\n",
            "[1 0 0 ... 0 0 0]\n",
            "[0 1 1 ... 0 0 0]\n",
            "[1 0 0 ... 0 0 0]\n",
            "[1 0 0 ... 0 0 0]\n",
            "[1 0 0 ... 0 0 0]\n",
            "[0 0 0 ... 0 0 0]\n",
            "[0 0 0 ... 0 0 0]\n",
            "[0 0 0 ... 0 0 0]\n",
            "[0 0 0 ... 0 0 0]\n",
            "[0 0 0 ... 0 0 0]\n",
            "[1 0 0 ... 0 0 0]\n",
            "[1 1 1 ... 0 0 0]\n",
            "[1 0 0 ... 0 0 0]\n",
            "[0 0 0 ... 0 0 0]\n",
            "[0 0 0 ... 0 0 0]\n",
            "[0 0 0 ... 0 0 0]\n",
            "[0 1 0 ... 0 0 0]\n",
            "[1 0 0 ... 0 0 0]\n",
            "[0 0 0 ... 0 0 0]\n",
            "[1 0 1 ... 0 0 0]\n",
            "[0 0 0 ... 0 0 0]\n",
            "[0 0 0 ... 0 0 0]\n",
            "[0 0 0 ... 0 0 0]\n",
            "[0 0 0 ... 0 0 0]\n",
            "[0 0 0 ... 0 0 0]\n",
            "[0 0 0 ... 0 0 0]\n",
            "[1 0 0 ... 0 0 0]\n",
            "[1 0 0 ... 0 0 0]\n",
            "[0 0 0 ... 0 0 0]\n",
            "[1 0 0 ... 0 0 0]\n",
            "[1 0 1 ... 0 0 0]\n",
            "[0 0 0 ... 0 0 0]\n",
            "[1 0 1 ... 0 0 0]\n",
            "[0 0 0 ... 0 0 0]\n",
            "[0 0 0 ... 0 0 0]\n",
            "[0 0 0 ... 0 0 0]\n",
            "[0 0 1 ... 0 0 0]\n",
            "[0 0 0 ... 0 0 0]\n",
            "[1 0 0 ... 0 0 0]\n",
            "[0 0 0 ... 0 0 0]\n",
            "[0 0 0 ... 0 0 0]\n",
            "[0 0 0 ... 0 0 0]\n",
            "[1 0 1 ... 0 0 0]\n",
            "[1 0 0 ... 0 0 0]\n",
            "[0 0 0 ... 0 0 0]\n",
            "[0 0 1 ... 0 0 0]\n",
            "[0 0 0 ... 0 0 0]\n",
            "[1 0 0 ... 0 0 0]\n",
            "[0 0 0 ... 0 0 0]\n",
            "[1 0 0 ... 0 0 0]\n",
            "[0 1 0 ... 0 0 0]\n",
            "[0 0 0 ... 0 0 0]\n",
            "[1 0 0 ... 0 0 0]\n",
            "[0 0 0 ... 0 0 0]\n",
            "[0 0 0 ... 0 0 0]\n",
            "[1 0 0 ... 0 0 0]\n",
            "[1 0 1 ... 0 0 0]\n",
            "[0 0 0 ... 0 0 0]\n",
            "[0 0 0 ... 0 0 0]\n",
            "[1 0 0 ... 0 0 0]\n",
            "[1 0 0 ... 0 0 0]\n",
            "[0 0 0 ... 0 0 0]\n",
            "[1 0 0 ... 0 0 0]\n",
            "[1 0 0 ... 0 0 0]\n",
            "[1 0 0 ... 0 0 0]\n",
            "[0 0 0 ... 0 0 0]\n",
            "[0 0 0 ... 0 0 0]\n",
            "[0 0 0 ... 0 0 0]\n",
            "[1 1 0 ... 0 0 0]\n",
            "[0 0 0 ... 0 0 0]\n",
            "[1 0 0 ... 0 0 0]\n",
            "[1 1 1 ... 0 0 0]\n",
            "[1 1 1 ... 0 0 0]\n",
            "[0 0 0 ... 0 0 0]\n",
            "[1 0 1 ... 0 0 0]\n",
            "[0 0 0 ... 0 0 0]\n",
            "[0 0 0 ... 0 0 0]\n",
            "[0 1 0 ... 0 0 0]\n",
            "[0 0 0 ... 0 0 0]\n",
            "[0 0 0 ... 0 0 0]\n",
            "[1 0 0 ... 0 0 0]\n",
            "[0 0 0 ... 0 0 0]\n",
            "[1 1 0 ... 0 0 0]\n",
            "[0 0 0 ... 0 0 0]\n",
            "[1 0 0 ... 0 0 0]\n",
            "[1 0 0 ... 0 0 0]\n",
            "[1 0 0 ... 0 0 0]\n",
            "[1 0 0 ... 0 0 0]\n",
            "[0 0 0 ... 0 0 0]\n",
            "[0 0 0 ... 0 0 0]\n",
            "[0 1 0 ... 0 0 0]\n",
            "[0 0 0 ... 0 0 0]\n",
            "[1 1 0 ... 0 0 0]\n",
            "[1 1 0 ... 0 0 0]\n",
            "[0 0 0 ... 0 0 0]\n",
            "[0 0 0 ... 0 0 0]\n",
            "[0 0 0 ... 0 0 0]\n",
            "[0 0 0 ... 0 0 0]\n",
            "[1 1 0 ... 0 0 0]\n",
            "[1 0 0 ... 0 0 0]\n",
            "[1 1 0 ... 0 0 0]\n",
            "[0 0 0 ... 0 0 0]\n",
            "[0 0 0 ... 0 0 0]\n",
            "[1 1 0 ... 0 0 0]\n",
            "[1 0 1 ... 0 0 0]\n",
            "[1 1 0 ... 0 0 0]\n",
            "[0 0 0 ... 0 0 0]\n",
            "[1 0 0 ... 0 0 0]\n",
            "[1 0 0 ... 0 0 0]\n",
            "[0 0 0 ... 0 0 0]\n",
            "[1 1 1 ... 0 0 0]\n",
            "[1 0 0 ... 0 0 0]\n",
            "[0 0 0 ... 0 0 0]\n",
            "[1 0 1 ... 0 0 0]\n",
            "[1 0 0 ... 0 0 0]\n",
            "[1 0 0 ... 0 0 0]\n",
            "[0 0 0 ... 0 0 0]\n",
            "[0 0 0 ... 0 0 0]\n",
            "[0 0 0 ... 0 0 0]\n",
            "[1 0 0 ... 0 0 0]\n",
            "[0 0 0 ... 0 0 0]\n",
            "[0 1 0 ... 0 0 0]\n",
            "[0 0 0 ... 0 0 0]\n",
            "[0 0 0 ... 0 0 0]\n",
            "[1 0 0 ... 0 0 0]\n",
            "[0 0 0 ... 0 0 0]\n",
            "[1 0 0 ... 0 0 0]\n",
            "[1 0 0 ... 0 0 0]\n",
            "[1 0 0 ... 0 0 0]\n",
            "[1 0 0 ... 0 0 0]\n",
            "[1 0 0 ... 0 0 0]\n",
            "[0 0 0 ... 0 0 0]\n",
            "[1 1 1 ... 0 0 0]\n",
            "[0 0 0 ... 0 0 0]\n",
            "[1 0 0 ... 0 0 0]\n",
            "[0 0 0 ... 0 0 0]\n",
            "[0 1 0 ... 0 0 0]\n",
            "[0 0 0 ... 0 0 0]\n",
            "[0 0 0 ... 0 0 0]\n",
            "[1 0 0 ... 0 0 0]\n",
            "[1 0 0 ... 0 0 0]\n",
            "[1 0 0 ... 0 0 0]\n",
            "[1 0 0 ... 0 0 0]\n",
            "[0 0 0 ... 0 0 0]\n",
            "[0 0 0 ... 0 0 0]\n",
            "[0 0 0 ... 0 0 0]\n",
            "[0 0 0 ... 0 0 0]\n",
            "[1 0 0 ... 0 0 0]\n",
            "[1 0 0 ... 0 0 0]\n",
            "[1 0 1 ... 0 0 0]\n",
            "[0 0 0 ... 0 0 0]\n",
            "[1 0 0 ... 0 0 0]\n",
            "[0 0 0 ... 0 0 0]\n",
            "[1 0 0 ... 0 0 0]\n",
            "[0 0 0 ... 0 0 0]\n",
            "[1 1 0 ... 0 0 0]\n",
            "[1 0 0 ... 0 0 0]\n",
            "[0 0 0 ... 0 0 0]\n",
            "[1 0 0 ... 0 0 0]\n",
            "[1 1 0 ... 0 0 0]\n",
            "[1 0 0 ... 0 0 0]\n",
            "[0 0 0 ... 0 0 0]\n",
            "[0 0 0 ... 0 0 0]\n",
            "[0 0 0 ... 0 0 0]\n",
            "[1 0 1 ... 0 0 0]\n",
            "[1 1 0 ... 0 0 0]\n",
            "[1 0 0 ... 0 0 0]\n",
            "[0 0 0 ... 0 0 0]\n",
            "[0 0 0 ... 0 0 0]\n",
            "[0 0 0 ... 0 0 0]\n",
            "[0 0 0 ... 0 0 0]\n",
            "[1 0 0 ... 0 0 0]\n",
            "[0 0 0 ... 0 0 0]\n",
            "[1 0 0 ... 0 0 0]\n",
            "[0 0 0 ... 0 0 0]\n",
            "[0 0 0 ... 0 0 0]\n",
            "[1 0 0 ... 0 0 0]\n",
            "[1 1 0 ... 0 0 0]\n",
            "[0 0 0 ... 0 0 0]\n",
            "[0 0 0 ... 0 0 0]\n",
            "[1 0 0 ... 0 0 0]\n",
            "[1 0 0 ... 0 0 0]\n",
            "[0 0 0 ... 0 0 0]\n",
            "[1 0 0 ... 0 0 0]\n",
            "[0 0 0 ... 0 0 0]\n",
            "[1 0 0 ... 0 0 0]\n",
            "[0 0 0 ... 0 0 0]\n",
            "[0 0 0 ... 0 0 0]\n",
            "[1 1 0 ... 0 0 0]\n",
            "[0 0 0 ... 0 0 0]\n",
            "[0 0 0 ... 0 0 0]\n",
            "[0 0 0 ... 0 0 0]\n",
            "[1 0 0 ... 0 0 0]\n",
            "[0 0 0 ... 0 0 0]\n",
            "[1 0 0 ... 0 0 0]\n",
            "[1 0 0 ... 0 0 0]\n",
            "[1 1 0 ... 0 0 0]\n",
            "[1 0 1 ... 0 0 0]\n",
            "[1 0 0 ... 0 0 0]\n",
            "[1 1 0 ... 0 0 0]\n",
            "[0 0 0 ... 0 0 0]\n",
            "[1 1 1 ... 0 0 0]\n",
            "[0 0 0 ... 0 0 0]\n",
            "[0 0 0 ... 0 0 0]\n",
            "[0 0 0 ... 0 0 0]\n",
            "[0 0 0 ... 0 0 0]\n",
            "[1 0 1 ... 0 0 0]\n",
            "[1 1 0 ... 0 0 0]\n",
            "[0 0 0 ... 0 0 0]\n",
            "[1 0 0 ... 0 0 0]\n",
            "[0 0 0 ... 0 0 0]\n",
            "[1 0 0 ... 0 0 0]\n",
            "[0 0 0 ... 0 0 0]\n",
            "[1 0 0 ... 0 0 0]\n",
            "[1 1 0 ... 0 0 0]\n",
            "[0 0 0 ... 0 0 0]\n",
            "[0 0 0 ... 0 0 0]\n",
            "[1 0 0 ... 0 0 0]\n",
            "[1 0 0 ... 0 0 0]\n",
            "[1 0 0 ... 0 0 0]\n",
            "[1 0 0 ... 0 0 0]\n",
            "[1 0 0 ... 0 0 0]\n",
            "[0 0 0 ... 0 0 0]\n",
            "[1 1 0 ... 0 0 0]\n",
            "[0 1 0 ... 0 0 0]\n",
            "[0 0 0 ... 0 0 0]\n",
            "[0 0 0 ... 0 0 0]\n",
            "[1 0 0 ... 0 0 0]\n",
            "[0 0 0 ... 0 0 0]\n",
            "[1 0 0 ... 0 0 0]\n",
            "[0 0 0 ... 0 0 0]\n",
            "[0 0 0 ... 0 0 0]\n",
            "[0 0 0 ... 0 0 0]\n",
            "[0 0 0 ... 0 0 0]\n",
            "[0 0 0 ... 0 0 0]\n",
            "[1 0 0 ... 0 0 0]\n",
            "[1 0 0 ... 0 0 0]\n",
            "[0 0 0 ... 0 0 0]\n",
            "[1 0 0 ... 0 0 0]\n",
            "[1 0 0 ... 0 0 0]\n",
            "[1 1 0 ... 0 0 0]\n",
            "[0 0 0 ... 0 0 0]\n",
            "[1 0 0 ... 0 0 0]\n",
            "[1 0 1 ... 0 0 0]\n",
            "[1 0 0 ... 0 0 0]\n",
            "[1 1 1 ... 0 0 0]\n",
            "[1 1 0 ... 0 0 0]\n",
            "[0 0 0 ... 0 0 0]\n",
            "[1 1 0 ... 0 0 0]\n",
            "[0 0 0 ... 0 0 0]\n",
            "[1 0 0 ... 0 0 0]\n",
            "[0 0 0 ... 0 0 0]\n",
            "[0 0 0 ... 0 0 0]\n",
            "[0 0 0 ... 0 0 0]\n",
            "[1 1 0 ... 0 0 0]\n",
            "[1 0 0 ... 0 0 0]\n",
            "[1 1 1 ... 0 0 0]\n",
            "[1 1 0 ... 0 0 0]\n",
            "[0 0 0 ... 0 0 0]\n",
            "[0 0 0 ... 0 0 0]\n",
            "[0 0 0 ... 0 0 0]\n",
            "[0 0 0 ... 0 0 0]\n",
            "[0 0 0 ... 0 0 0]\n",
            "[0 0 0 ... 0 0 0]\n",
            "[0 0 0 ... 0 0 0]\n",
            "[1 1 0 ... 0 0 0]\n",
            "[0 0 0 ... 0 0 0]\n",
            "[1 0 0 ... 0 0 0]\n",
            "[0 0 0 ... 0 0 0]\n",
            "[0 0 0 ... 0 0 0]\n",
            "[0 0 0 ... 0 0 0]\n",
            "[1 0 0 ... 0 0 0]\n",
            "[1 0 0 ... 0 0 0]\n",
            "[1 0 0 ... 0 0 0]\n",
            "[0 0 0 ... 0 0 0]\n",
            "[0 0 0 ... 0 0 0]\n",
            "[1 1 0 ... 0 0 0]\n",
            "[0 0 0 ... 0 0 0]\n",
            "[0 0 0 ... 0 0 0]\n",
            "[1 0 0 ... 0 0 0]\n",
            "[1 1 0 ... 0 0 0]\n",
            "[1 0 0 ... 0 0 0]\n",
            "[0 0 0 ... 0 0 0]\n",
            "[0 0 0 ... 0 0 0]\n",
            "[0 0 0 ... 0 0 0]\n",
            "[1 0 0 ... 0 0 0]\n",
            "[0 0 0 ... 0 0 0]\n",
            "[0 0 0 ... 0 0 0]\n",
            "[1 0 0 ... 0 0 0]\n",
            "[1 0 0 ... 0 0 0]\n",
            "[0 0 0 ... 0 0 0]\n",
            "[0 0 0 ... 0 0 0]\n",
            "[0 0 0 ... 0 0 0]\n",
            "[1 0 0 ... 0 0 0]\n",
            "[0 1 0 ... 0 0 0]\n",
            "[0 0 0 ... 0 0 0]\n",
            "[0 1 0 ... 0 0 0]\n",
            "[1 0 0 ... 0 0 0]\n",
            "[0 0 0 ... 0 0 0]\n",
            "[0 0 0 ... 0 0 0]\n",
            "[0 0 0 ... 0 0 0]\n",
            "[0 0 0 ... 0 0 0]\n",
            "[1 0 0 ... 0 0 0]\n",
            "[0 0 0 ... 0 0 0]\n",
            "[1 0 1 ... 0 0 0]\n",
            "[0 0 0 ... 0 0 0]\n",
            "[0 0 0 ... 0 0 0]\n",
            "[0 0 0 ... 0 0 0]\n",
            "[0 0 0 ... 0 0 0]\n",
            "[0 0 1 ... 0 0 0]\n",
            "[0 0 0 ... 0 0 0]\n",
            "[0 0 0 ... 0 0 0]\n",
            "[0 0 0 ... 0 0 0]\n",
            "[0 0 0 ... 1 0 0]\n",
            "[1 1 0 ... 0 0 0]\n",
            "[1 0 0 ... 0 0 0]\n",
            "[0 0 0 ... 0 0 0]\n",
            "[1 0 0 ... 0 0 0]\n",
            "[1 1 0 ... 0 0 0]\n",
            "[0 0 0 ... 0 0 0]\n",
            "[1 1 0 ... 0 0 0]\n",
            "[0 0 0 ... 0 0 0]\n",
            "[1 0 0 ... 0 0 0]\n",
            "[0 0 0 ... 0 0 0]\n",
            "[0 0 0 ... 0 0 0]\n",
            "[0 0 0 ... 0 0 0]\n",
            "[0 0 0 ... 0 0 0]\n",
            "[0 0 0 ... 0 0 0]\n",
            "[0 0 0 ... 0 0 0]\n",
            "[1 0 0 ... 0 0 0]\n",
            "[1 1 1 ... 0 0 0]\n",
            "[1 0 0 ... 0 0 0]\n",
            "[1 0 0 ... 0 0 0]\n",
            "[1 0 0 ... 0 0 0]\n",
            "[0 0 0 ... 0 0 0]\n",
            "[1 0 0 ... 0 0 0]\n",
            "[1 1 1 ... 0 0 0]\n",
            "[1 0 0 ... 0 0 0]\n",
            "[0 0 0 ... 0 0 0]\n",
            "[1 1 1 ... 0 0 0]\n",
            "[1 0 0 ... 0 0 0]\n",
            "[0 0 0 ... 0 0 0]\n",
            "[1 1 0 ... 0 0 0]\n",
            "[1 0 0 ... 0 0 0]\n",
            "[1 0 0 ... 0 0 0]\n",
            "[1 0 0 ... 0 0 0]\n",
            "[1 1 0 ... 0 1 0]\n",
            "[1 0 0 ... 0 0 0]\n",
            "[0 0 0 ... 0 0 0]\n",
            "[1 1 0 ... 0 0 0]\n",
            "[0 0 0 ... 0 0 0]\n",
            "[1 0 0 ... 0 0 0]\n",
            "[1 0 0 ... 0 0 0]\n",
            "[1 0 0 ... 0 0 0]\n",
            "[0 0 0 ... 0 0 0]\n",
            "[0 0 0 ... 0 0 0]\n",
            "[0 0 0 ... 0 0 0]\n",
            "[1 0 0 ... 0 0 0]\n",
            "[0 0 0 ... 0 0 0]\n",
            "[0 0 0 ... 0 0 0]\n",
            "[1 0 1 ... 0 0 0]\n",
            "[0 0 0 ... 0 0 0]\n",
            "[0 0 0 ... 0 0 0]\n",
            "[1 0 0 ... 0 0 0]\n",
            "[0 0 0 ... 0 0 0]\n",
            "[0 0 0 ... 0 0 0]\n",
            "[1 1 1 ... 0 0 1]\n",
            "[1 0 1 ... 0 0 0]\n",
            "[1 0 0 ... 0 0 0]\n",
            "[1 0 0 ... 0 0 0]\n",
            "[0 0 0 ... 0 0 0]\n",
            "[1 0 0 ... 0 0 0]\n",
            "[1 0 0 ... 0 0 0]\n",
            "[1 0 1 ... 0 0 0]\n",
            "[1 1 0 ... 0 0 0]\n",
            "[0 0 0 ... 0 0 0]\n",
            "[0 0 0 ... 0 0 0]\n",
            "[1 0 0 ... 0 0 0]\n",
            "[0 0 0 ... 0 0 0]\n",
            "[1 0 0 ... 0 0 0]\n",
            "[1 0 0 ... 0 0 0]\n",
            "[0 0 0 ... 0 0 0]\n",
            "[1 0 0 ... 0 0 0]\n",
            "[1 0 0 ... 0 0 0]\n",
            "[1 1 0 ... 0 0 0]\n",
            "[1 0 0 ... 0 0 0]\n",
            "[1 0 1 ... 0 0 0]\n",
            "[0 0 0 ... 0 0 0]\n",
            "[1 0 0 ... 0 0 0]\n",
            "[0 0 0 ... 0 0 0]\n",
            "[0 0 0 ... 0 0 0]\n",
            "[1 0 0 ... 0 0 0]\n",
            "[0 0 0 ... 0 0 0]\n",
            "[0 1 0 ... 0 0 0]\n"
          ]
        }
      ]
    },
    {
      "cell_type": "code",
      "source": [
        "id, vector = 0, adj_matrix[0]\n",
        "best_match, best_match_id, best_match_vector = 9999, -1, []\n",
        "\n",
        "for user_id, user_vector in enumerate(adj_matrix):\n",
        "  if id != user_id:\n",
        "    euclidean_dist = np.sqrt(np.sum(np.square(vector - user_vector)))\n",
        "    if euclidean_dist < best_match:\n",
        "      best_match = euclidean_dist\n",
        "      best_match_id = user_id\n",
        "      best_match_vector = user_vector\n",
        "\n",
        "print(f'Best Match: {best_match} \\nBest Match ID: {best_match_id} \\nBest_Match_Vector: {best_match_vector}')"
      ],
      "metadata": {
        "colab": {
          "base_uri": "https://localhost:8080/"
        },
        "id": "6GnvaudN6CVv",
        "outputId": "583d2435-54e1-469a-e81e-f68b09c1a0f5"
      },
      "execution_count": 87,
      "outputs": [
        {
          "output_type": "stream",
          "name": "stdout",
          "text": [
            "Best Match: 14.832396974191326 \n",
            "Best Match ID: 737 \n",
            "Best_Match_Vector: [1 1 0 ... 0 0 0]\n"
          ]
        }
      ]
    },
    {
      "cell_type": "code",
      "source": [
        "recommendation = []\n",
        "for i, log in enumerate(zip(vector, best_match_vector)):\n",
        "  log1, log2 = log\n",
        "  if log1 <1. and log2 >0.:\n",
        "    recommendation.append(i)\n",
        "print(recommendation)\n"
      ],
      "metadata": {
        "colab": {
          "base_uri": "https://localhost:8080/"
        },
        "id": "0xWntPJx6CDy",
        "outputId": "0810ceb5-e063-43f1-a79c-2f31c1a857a2"
      },
      "execution_count": 88,
      "outputs": [
        {
          "output_type": "stream",
          "name": "stdout",
          "text": [
            "[297, 312, 317, 342, 356, 366, 379, 384, 392, 402, 404, 407, 417, 422, 428, 433, 448, 454, 469, 473, 495, 510, 516, 526, 527, 549, 567, 602, 635, 649, 650, 654, 658, 661, 664, 696, 731, 746, 750, 754, 915, 918, 925, 929, 950, 968, 1015, 1046]\n"
          ]
        }
      ]
    },
    {
      "cell_type": "markdown",
      "source": [
        "### 코사인 유사도를 이용한 추천\n",
        "\n",
        "두 벡터가 이루는 값을 계산(내적)해 추천\n",
        "$cos\\theta = \\frac{A .B}{}$"
      ],
      "metadata": {
        "id": "cytgFeAFGwCN"
      }
    },
    {
      "cell_type": "code",
      "source": [
        "def compute_cos_similarity(v1,v2):\n",
        "  norm1 = np.sqrt(np.sum(np.square(v1)))\n",
        "  norm2 = np.sqrt(np.sum(np.square(v2)))\n",
        "  dot = np.dot(v1, v2)\n",
        "  return dot / (norm1 * norm2)\n"
      ],
      "metadata": {
        "id": "qplT0dMGGfX3"
      },
      "execution_count": 89,
      "outputs": []
    },
    {
      "cell_type": "code",
      "source": [
        "id, vector = 0, adj_matrix[0]\n",
        "best_match, best_match_id, best_match_vector = -1, -1, []\n",
        "\n",
        "for user_id, user_vector in enumerate(adj_matrix):\n",
        "  if id != user_id:\n",
        "    cos_similarity = compute_cos_similarity(vector, user_vector)\n",
        "    if cos_similarity > best_match:\n",
        "      best_match = cos_similarity\n",
        "      best_match_id = user_id\n",
        "      best_match_vector = user_vector\n",
        "\n",
        "print(f'Best Match: {best_match} \\nBest Match ID: {best_match_id} \\nBest_Match_Vector: {best_match_vector}')"
      ],
      "metadata": {
        "colab": {
          "base_uri": "https://localhost:8080/"
        },
        "id": "oB6kmemZGfUn",
        "outputId": "1fc2d640-b4d3-48d7-9ba5-db248f403ef8"
      },
      "execution_count": 90,
      "outputs": [
        {
          "output_type": "stream",
          "name": "stdout",
          "text": [
            "Best Match: 0.5278586163659506 \n",
            "Best Match ID: 915 \n",
            "Best_Match_Vector: [1 1 1 ... 0 0 1]\n"
          ]
        }
      ]
    },
    {
      "cell_type": "code",
      "source": [
        "recommendation = []\n",
        "for i, log in enumerate(zip(vector, best_match_vector)):\n",
        "  log1, log2 = log\n",
        "  if log1 <1. and log2 >0.:\n",
        "    recommendation.append(i)\n",
        "print(recommendation)\n"
      ],
      "metadata": {
        "colab": {
          "base_uri": "https://localhost:8080/"
        },
        "id": "S1DeB1aJHjL1",
        "outputId": "bde9d1b5-4644-49e0-e461-66cbecc16d87"
      },
      "execution_count": 91,
      "outputs": [
        {
          "output_type": "stream",
          "name": "stdout",
          "text": [
            "[272, 275, 279, 280, 283, 285, 289, 294, 297, 316, 317, 355, 365, 366, 368, 379, 380, 381, 384, 386, 392, 398, 401, 404, 416, 420, 422, 424, 426, 427, 430, 432, 450, 460, 461, 466, 469, 471, 473, 474, 475, 479, 482, 483, 497, 505, 508, 510, 511, 522, 526, 527, 529, 530, 534, 536, 540, 545, 548, 549, 556, 557, 558, 560, 565, 567, 568, 569, 577, 580, 581, 582, 592, 596, 630, 635, 639, 641, 649, 651, 654, 673, 677, 678, 683, 684, 692, 696, 701, 703, 707, 708, 709, 712, 714, 719, 720, 726, 731, 734, 736, 738, 740, 745, 747, 754, 755, 761, 762, 763, 766, 780, 789, 791, 805, 819, 823, 824, 830, 843, 862, 865, 918, 929, 930, 938, 942, 943, 947, 958, 959, 960, 970, 977, 1004, 1008, 1009, 1010, 1013, 1041, 1045, 1069, 1072, 1073, 1078, 1097, 1100, 1108, 1112, 1118, 1134, 1193, 1205, 1207, 1216, 1219, 1267, 1334, 1400, 1427, 1596, 1681]\n"
          ]
        }
      ]
    },
    {
      "cell_type": "markdown",
      "source": [
        "### 영화 점수를 살려서 진행해보기\n",
        "결과가 똑같음"
      ],
      "metadata": {
        "id": "B-flfBRmH9H9"
      }
    },
    {
      "cell_type": "code",
      "source": [
        "adj_matrix = np.ndarray(shape, dtype = int)\n",
        "for user_id, movie_id, rating, time in raw_data:\n",
        "  adj_matrix[user_id][movie_id] = rating\n",
        "adj_matrix"
      ],
      "metadata": {
        "colab": {
          "base_uri": "https://localhost:8080/"
        },
        "id": "G8wP2M1EHjJR",
        "outputId": "83ff8bc0-f030-4bcd-adc0-ec2260c6858e"
      },
      "execution_count": 92,
      "outputs": [
        {
          "output_type": "execute_result",
          "data": {
            "text/plain": [
              "array([[5, 3, 4, ..., 0, 0, 0],\n",
              "       [4, 0, 0, ..., 0, 0, 0],\n",
              "       [0, 0, 0, ..., 0, 0, 0],\n",
              "       ...,\n",
              "       [5, 0, 0, ..., 0, 0, 0],\n",
              "       [0, 0, 0, ..., 0, 0, 0],\n",
              "       [0, 5, 0, ..., 0, 0, 0]])"
            ]
          },
          "metadata": {},
          "execution_count": 92
        }
      ]
    },
    {
      "cell_type": "code",
      "source": [
        "id, vector = 0, adj_matrix[0]\n",
        "best_match, best_match_id, best_match_vector = -1, -1, []\n",
        "\n",
        "for user_id, user_vector in enumerate(adj_matrix):\n",
        "  if id != user_id:\n",
        "    cos_similarity = compute_cos_similarity(vector, user_vector)\n",
        "    if cos_similarity > best_match:\n",
        "      best_match = cos_similarity\n",
        "      best_match_id = user_id\n",
        "      best_match_vector = user_vector\n",
        "\n",
        "print(f'Best Match: {best_match} \\nBest Match ID: {best_match_id} \\nBest_Match_Vector: {best_match_vector}')"
      ],
      "metadata": {
        "colab": {
          "base_uri": "https://localhost:8080/"
        },
        "id": "t2oW6mK_IApS",
        "outputId": "7b697d79-5e8a-4b45-9a19-ad2a55c6cfda"
      },
      "execution_count": 93,
      "outputs": [
        {
          "output_type": "stream",
          "name": "stdout",
          "text": [
            "Best Match: 0.569065731527988 \n",
            "Best Match ID: 915 \n",
            "Best_Match_Vector: [4 3 3 ... 0 0 3]\n"
          ]
        }
      ]
    },
    {
      "cell_type": "markdown",
      "source": [
        "## sklearn 패키지 SVD를 이용해 추천하기\n",
        "\n",
        "User Based Collaborative Filtering"
      ],
      "metadata": {
        "id": "7GTUTvLYPF4c"
      }
    },
    {
      "cell_type": "code",
      "source": [
        "from sklearn.decomposition import randomized_svd\n",
        "\n",
        "# SVD를 이용해 특이값 2개짜리의 행렬로 분해한 뒤 곱해준다.\n",
        "U, S, V = randomized_svd(adj_matrix, n_components = 2 )\n",
        "S = np.diag(S)"
      ],
      "metadata": {
        "id": "2ztEaXxHjlz9",
        "colab": {
          "base_uri": "https://localhost:8080/"
        },
        "outputId": "9a18db5f-0c68-454b-a827-8f608c3075bb"
      },
      "execution_count": 61,
      "outputs": [
        {
          "output_type": "stream",
          "name": "stderr",
          "text": [
            "/usr/local/lib/python3.7/dist-packages/sklearn/utils/extmath.py:376: FutureWarning: If 'random_state' is not supplied, the current default is to use 0 as a fixed seed. This will change to  None in version 1.2 leading to non-deterministic results that better reflect nature of the randomized_svd solver. If you want to silence this warning, set 'random_state' to an integer seed or to None explicitly depending if you want your code to be deterministic or not.\n",
            "  FutureWarning,\n"
          ]
        }
      ]
    },
    {
      "cell_type": "code",
      "source": [
        "adj_matrix"
      ],
      "metadata": {
        "id": "NNabzfgHQTsb",
        "outputId": "7dde09d6-7e3f-458f-de52-59a71c263127",
        "colab": {
          "base_uri": "https://localhost:8080/"
        }
      },
      "execution_count": 59,
      "outputs": [
        {
          "output_type": "execute_result",
          "data": {
            "text/plain": [
              "array([[5, 3, 4, ..., 0, 0, 0],\n",
              "       [4, 0, 0, ..., 0, 0, 0],\n",
              "       [0, 0, 0, ..., 0, 0, 0],\n",
              "       ...,\n",
              "       [5, 0, 0, ..., 0, 0, 0],\n",
              "       [0, 0, 0, ..., 0, 0, 0],\n",
              "       [0, 5, 0, ..., 0, 0, 0]])"
            ]
          },
          "metadata": {},
          "execution_count": 59
        }
      ]
    },
    {
      "cell_type": "markdown",
      "source": [
        "np.matmul과 np.dot의 차이 확인하기:\n",
        "https://jlog1016.tistory.com/80\n",
        "\n",
        "보통 n차원 행렬인 경우 np.matmul을 이용"
      ],
      "metadata": {
        "id": "RLdZhoZpQ8IU"
      }
    },
    {
      "cell_type": "code",
      "source": [
        "matmuled_matrix = np.matmul(np.matmul(U,S),V)"
      ],
      "metadata": {
        "id": "IBD1xqO7QLVc"
      },
      "execution_count": 62,
      "outputs": []
    },
    {
      "cell_type": "code",
      "source": [
        "U"
      ],
      "metadata": {
        "id": "tRflt1yZXEOC",
        "outputId": "b255502b-fb5f-43b3-a0e8-5c5b5bd7dcc8",
        "colab": {
          "base_uri": "https://localhost:8080/"
        }
      },
      "execution_count": 66,
      "outputs": [
        {
          "output_type": "execute_result",
          "data": {
            "text/plain": [
              "array([[ 0.06580431,  0.00597507],\n",
              "       [ 0.01402104, -0.04662601],\n",
              "       [ 0.00565798, -0.02561846],\n",
              "       ...,\n",
              "       [ 0.00744452, -0.02502129],\n",
              "       [ 0.02403119,  0.0080961 ],\n",
              "       [ 0.04224209, -0.01092715]])"
            ]
          },
          "metadata": {},
          "execution_count": 66
        }
      ]
    },
    {
      "cell_type": "code",
      "source": [
        "# 행렬분해한 U 행렬을 사용 - 유저기반 콜라보러티브 필터링\n",
        "id, vector = 0, U[0]\n",
        "best_match_id, best_match_vector, best_match = -1, [], -1\n",
        "\n",
        "for user_id, user_vector in enumerate(U):\n",
        "  if id != user_id:\n",
        "    cosine_similarity = compute_cos_similarity(vector, user_vector)\n",
        "    if cosine_similarity > best_match:\n",
        "      best_match_id = user_id\n",
        "      best_match_vector = user_vector\n",
        "      best_match = cosine_similarity\n",
        "\n",
        "print(f'Best Match: {best_match} \\nBest Match ID: {best_match_id} \\nBest_Match_Vector: {best_match_vector}')"
      ],
      "metadata": {
        "id": "f-k8t1-zS81L",
        "outputId": "956d7aea-d0e1-48e5-9aff-962c259a3412",
        "colab": {
          "base_uri": "https://localhost:8080/"
        }
      },
      "execution_count": 96,
      "outputs": [
        {
          "output_type": "stream",
          "name": "stdout",
          "text": [
            "Best Match: 0.9999942295956324 \n",
            "Best Match ID: 235 \n",
            "Best_Match_Vector: [0.03467744 0.00326754]\n"
          ]
        }
      ]
    },
    {
      "cell_type": "code",
      "source": [
        "# 행렬분해한 VT 행렬을 사용 - 아이템기반 콜라보러티브 필터링\n",
        "id, vector = 0, V.T[0]\n",
        "best_match_id, best_match_vector, best_match = -1, [], -1\n",
        "\n",
        "for user_id, user_vector in enumerate(U):\n",
        "  if id != user_id:\n",
        "    cosine_similarity = compute_cos_similarity(vector, user_vector)\n",
        "    if cosine_similarity > best_match:\n",
        "      best_match_id = user_id\n",
        "      best_match_vector = user_vector\n",
        "      best_match = cosine_similarity\n",
        "\n",
        "print(f'Best Match: {best_match} \\nBest Match ID: {best_match_id} \\nBest_Match_Vector: {best_match_vector}')"
      ],
      "metadata": {
        "id": "6XKTxtluWwwJ",
        "outputId": "5b507524-2796-4e42-b547-b92cef2612d8",
        "colab": {
          "base_uri": "https://localhost:8080/"
        }
      },
      "execution_count": 97,
      "outputs": [
        {
          "output_type": "stream",
          "name": "stdout",
          "text": [
            "Best Match: 0.9999999758529564 \n",
            "Best Match ID: 873 \n",
            "Best_Match_Vector: [ 0.00932328 -0.00848059]\n"
          ]
        }
      ]
    },
    {
      "cell_type": "code",
      "source": [
        ""
      ],
      "metadata": {
        "id": "MtdJL4S7Y-Ub"
      },
      "execution_count": null,
      "outputs": []
    }
  ]
}