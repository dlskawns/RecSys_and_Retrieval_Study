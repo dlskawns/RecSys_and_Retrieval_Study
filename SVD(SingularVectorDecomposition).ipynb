{
  "nbformat": 4,
  "nbformat_minor": 0,
  "metadata": {
    "colab": {
      "name": "SVD(SingularVectorDecomposition).ipynb",
      "provenance": [],
      "authorship_tag": "ABX9TyPb4/O2IMlzIodIIKg3LMBS",
      "include_colab_link": true
    },
    "kernelspec": {
      "name": "python3",
      "display_name": "Python 3"
    },
    "language_info": {
      "name": "python"
    }
  },
  "cells": [
    {
      "cell_type": "markdown",
      "metadata": {
        "id": "view-in-github",
        "colab_type": "text"
      },
      "source": [
        "<a href=\"https://colab.research.google.com/github/dlskawns/RecSys_and_Retrieval_Study/blob/main/SVD(SingularVectorDecomposition).ipynb\" target=\"_parent\"><img src=\"https://colab.research.google.com/assets/colab-badge.svg\" alt=\"Open In Colab\"/></a>"
      ]
    },
    {
      "cell_type": "markdown",
      "source": [
        "# Surprise 패키지를 활용한 SVD 모델 구현\n",
        "\n",
        "## SVD 모델의 원리\n",
        "\n",
        "Singular Vector Decomposition을 이용한 모델.\n",
        "\n",
        "singular matrix = 역행렬이 없는 매트릭스를 의미\n",
        "det(A) = 0\n",
        "\n",
        "```\n",
        "a = [[a,b],\n",
        "     [c,d]]\n",
        "일때,\n",
        "det(A) = ad - bc\n",
        "\n",
        "A^-1 = det{A}^-1\n",
        "```\n",
        "\n",
        "A: 기존 Input data matrix [m x n] 행렬\n",
        "\n",
        "U: 왼쪽 singular matrix -> y에 따라 x가 무한이거나 존재하지 않음\n",
        "\n",
        "$\\sum$: r개의 특이값을 갖는 대각행렬\n",
        "\n",
        "V: 오른쪽 singluar matrix\n",
        "\n",
        "특이값(Singular Value): A에 대해 $A^TA$한 대칭행렬의 고유값을 구해 루트를 씌워준 값을 의미\n",
        "\n",
        "고유값(Eigen Value): 임의의 벡터 v에 선형변환 A를 적용했을 때, Av = $\\lambda$v를 만족하는 상황에서의 $\\lambda$값\n",
        "\n",
        "고유벡터(Eigen Vector): 위 상황에서의 v값을 의미하며, 고유값을 구한 뒤, 가우스 소거법을 이용해 계산한다. 고유벡터는 영벡터가 아닌 벡터를 의미\n",
        "\n",
        "SVD 특이값 분해의 이용: 정방행렬이 아닌 m x n 의 행렬 A에 대해서도 대칭행렬을 만들 수 있고 이를 바탕으로 행렬 분해가 가능하며, 차원의 축소 역시도 가능하게 만든다.\n",
        "\n",
        "\n",
        "\n",
        "\n",
        "\n"
      ],
      "metadata": {
        "id": "GjpYRVzcmaBk"
      }
    },
    {
      "cell_type": "code",
      "source": [
        "print(data)"
      ],
      "metadata": {
        "colab": {
          "base_uri": "https://localhost:8080/"
        },
        "id": "5g84AHWE6Gfj",
        "outputId": "319c659a-ee90-4585-9730-f53846fa9023"
      },
      "execution_count": null,
      "outputs": [
        {
          "output_type": "stream",
          "name": "stdout",
          "text": [
            "<surprise.dataset.DatasetAutoFolds object at 0x7f56daa92190>\n"
          ]
        }
      ]
    },
    {
      "cell_type": "code",
      "source": [
        "model = SVD()"
      ],
      "metadata": {
        "id": "0HNLALkUp0Gx"
      },
      "execution_count": null,
      "outputs": []
    },
    {
      "cell_type": "code",
      "source": [
        "cross_validate(model, data[:10], measures=['rmse', 'mae'], cv = 5, verbose = True)"
      ],
      "metadata": {
        "id": "AMCxdv8wp4MJ"
      },
      "execution_count": null,
      "outputs": []
    },
    {
      "cell_type": "markdown",
      "source": [
        "## Numpy package의 SVD를 이용해보기"
      ],
      "metadata": {
        "id": "APIE_71s09oL"
      }
    },
    {
      "cell_type": "code",
      "source": [
        "import numpy as np\n",
        "from numpy.linalg import svd\n",
        "\n",
        "# 4 x 4 행렬 생성\n",
        "np.random.seed(42)\n",
        "a = np.random.randn(4,4)  # 평균 0, 표준편차 1의 가우시간 난수 생성\n",
        "print(np.round(a, 3))"
      ],
      "metadata": {
        "id": "FPBW7VMaqBjh",
        "colab": {
          "base_uri": "https://localhost:8080/"
        },
        "outputId": "37f23ba6-32b9-4e6f-97d4-a0d929ed960d"
      },
      "execution_count": 14,
      "outputs": [
        {
          "output_type": "stream",
          "name": "stdout",
          "text": [
            "[[ 0.497 -0.138  0.648  1.523]\n",
            " [-0.234 -0.234  1.579  0.767]\n",
            " [-0.469  0.543 -0.463 -0.466]\n",
            " [ 0.242 -1.913 -1.725 -0.562]]\n"
          ]
        }
      ]
    },
    {
      "cell_type": "markdown",
      "source": [
        "### $U$, $\\sum$, $V^T$ 확인해보기"
      ],
      "metadata": {
        "id": "pBfs0GXt1OQj"
      }
    },
    {
      "cell_type": "code",
      "source": [
        "# SVD 함수 적용해서 각 U, Sigma, Vt 확인해보기\n",
        "U, Sigma, Vt = svd(a)\n",
        "print('U:', np.round(U,3))\n",
        "print('Sigma:', np.round(Sigma,3))  # 시그마의 경우, 대각행렬의 요소값인 Singular Value를 내림차순으로 가져온다.\n",
        "print('Vt:', np.round(Vt,3))"
      ],
      "metadata": {
        "colab": {
          "base_uri": "https://localhost:8080/"
        },
        "id": "SuMmq9dwzlCh",
        "outputId": "9cf774f2-d826-480f-e735-f338f891d0f6"
      },
      "execution_count": 15,
      "outputs": [
        {
          "output_type": "stream",
          "name": "stdout",
          "text": [
            "U: [[-0.373 -0.598  0.642 -0.302]\n",
            " [-0.488 -0.35  -0.745 -0.289]\n",
            " [ 0.113  0.444  0.062 -0.887]\n",
            " [ 0.781 -0.568 -0.168 -0.197]]\n",
            "Sigma: [3.08  1.926 0.92  0.342]\n",
            "Vt: [[ 0.021 -0.412 -0.783 -0.466]\n",
            " [-0.291  0.775 -0.086 -0.554]\n",
            " [ 0.461  0.479 -0.544  0.512]\n",
            " [ 0.838  0.017  0.289 -0.462]]\n"
          ]
        }
      ]
    },
    {
      "cell_type": "code",
      "source": [
        "# 시그마의 대각행렬을 원상복구 해주는 방법: np.diag\n",
        "Sigma_matrix = np.diag(Sigma)\n",
        "print('Sigma :', np.round(Sigma_matrix, 3))"
      ],
      "metadata": {
        "colab": {
          "base_uri": "https://localhost:8080/"
        },
        "id": "s3Cid09600He",
        "outputId": "425d84ae-64a1-475a-cec1-68ef4f9fe8b5"
      },
      "execution_count": 16,
      "outputs": [
        {
          "output_type": "stream",
          "name": "stdout",
          "text": [
            "Sigma : [[3.08  0.    0.    0.   ]\n",
            " [0.    1.926 0.    0.   ]\n",
            " [0.    0.    0.92  0.   ]\n",
            " [0.    0.    0.    0.342]]\n"
          ]
        }
      ]
    },
    {
      "cell_type": "markdown",
      "source": [
        "### A = $U \\sum V^T$ 만들어보기"
      ],
      "metadata": {
        "id": "xq8dKDo_IVOS"
      }
    },
    {
      "cell_type": "code",
      "source": [
        "a_ = np.dot(np.dot(U,Sigma_matrix), Vt)\n",
        "print(np.round(a, 3) )  # 맨 처음의 매트릭스 a와 같음을 확인할 수 있다."
      ],
      "metadata": {
        "colab": {
          "base_uri": "https://localhost:8080/"
        },
        "id": "u3wUPRQNIgDf",
        "outputId": "791f970f-b327-47fc-b316-e79f9bfbdd3b"
      },
      "execution_count": 19,
      "outputs": [
        {
          "output_type": "stream",
          "name": "stdout",
          "text": [
            "[[ 0.497 -0.138  0.648  1.523]\n",
            " [-0.234 -0.234  1.579  0.767]\n",
            " [-0.469  0.543 -0.463 -0.466]\n",
            " [ 0.242 -1.913 -1.725 -0.562]]\n"
          ]
        }
      ]
    },
    {
      "cell_type": "markdown",
      "source": [
        "### COMPACT SVD 구현해보기\n"
      ],
      "metadata": {
        "id": "5N4FwEQwXFa8"
      }
    },
    {
      "cell_type": "code",
      "source": [
        "# 데이터 의존도가 서로 존재하는 행렬을 만들어본다.\n",
        "a[2] = a[0]+a[1]\n",
        "a[3] = a[0]"
      ],
      "metadata": {
        "id": "wRi3gEFD2fyM"
      },
      "execution_count": 20,
      "outputs": []
    },
    {
      "cell_type": "code",
      "source": [
        "print(np.round(a,3))"
      ],
      "metadata": {
        "colab": {
          "base_uri": "https://localhost:8080/"
        },
        "id": "i_jNx0Ee3JP-",
        "outputId": "48b3bce2-04cf-45e5-f452-4e829170686d"
      },
      "execution_count": 21,
      "outputs": [
        {
          "output_type": "stream",
          "name": "stdout",
          "text": [
            "[[ 0.497 -0.138  0.648  1.523]\n",
            " [-0.234 -0.234  1.579  0.767]\n",
            " [ 0.263 -0.372  2.227  2.29 ]\n",
            " [ 0.497 -0.138  0.648  1.523]]\n"
          ]
        }
      ]
    },
    {
      "cell_type": "code",
      "source": [
        "# SVD 분할진행\n",
        "U, Sigma, Vt = svd(a)\n",
        "print('U:', np.round(U,3))\n",
        "print('Sigma:', np.round(Sigma,3))  # 시그마의 3,4번째 특잇값이 0임을 확인할 수 있다.\n",
        "print('Vt:', np.round(Vt,3))"
      ],
      "metadata": {
        "colab": {
          "base_uri": "https://localhost:8080/"
        },
        "id": "QsmsNqGM3TDr",
        "outputId": "d0615814-3e13-40fb-906c-53812a1c0099"
      },
      "execution_count": 22,
      "outputs": [
        {
          "output_type": "stream",
          "name": "stdout",
          "text": [
            "U: [[-0.381  0.505  0.775  0.003]\n",
            " [-0.374 -0.679  0.256  0.579]\n",
            " [-0.755 -0.174 -0.256 -0.579]\n",
            " [-0.381  0.505 -0.519  0.575]]\n",
            "Sigma: [4.266 1.19  0.    0.   ]\n",
            "Vt: [[-0.115  0.111 -0.648 -0.745]\n",
            " [ 0.517  0.071 -0.677  0.52 ]\n",
            " [-0.848 -0.    -0.328  0.416]\n",
            " [ 0.024 -0.991 -0.121 -0.047]]\n"
          ]
        }
      ]
    },
    {
      "cell_type": "code",
      "source": [
        "# 특이값 행렬 시그마의 0을 제거한 Compact SVD를 진행한다.\n",
        "U_ = U[:, :2]\n",
        "Sigma_ = np.diag(Sigma[:2])\n",
        "Vt_ = Vt[:2]\n",
        "print('U_:', np.round(U_,3))\n",
        "print('Sigma_:', np.round(Sigma_,3))  \n",
        "print('Vt_:', np.round(Vt_,3))"
      ],
      "metadata": {
        "colab": {
          "base_uri": "https://localhost:8080/"
        },
        "id": "r77hih6v3Xk7",
        "outputId": "f5cfc6c5-750a-441c-a1ed-a1f26d6649c4"
      },
      "execution_count": 28,
      "outputs": [
        {
          "output_type": "stream",
          "name": "stdout",
          "text": [
            "U_: [[-0.381  0.505]\n",
            " [-0.374 -0.679]\n",
            " [-0.755 -0.174]\n",
            " [-0.381  0.505]]\n",
            "Sigma_: [[4.266 0.   ]\n",
            " [0.    1.19 ]]\n",
            "Vt_: [[-0.115  0.111 -0.648 -0.745]\n",
            " [ 0.517  0.071 -0.677  0.52 ]]\n"
          ]
        }
      ]
    },
    {
      "cell_type": "code",
      "source": [
        "# 다시 복구하기\n",
        "\n",
        "a_ = np.dot(np.dot(U_, Sigma_), Vt_)\n",
        "print(np.round(a_, 3))"
      ],
      "metadata": {
        "colab": {
          "base_uri": "https://localhost:8080/"
        },
        "id": "8IYZhXpMX8_K",
        "outputId": "99ae5f58-7ce0-49af-c148-f048763176f3"
      },
      "execution_count": 29,
      "outputs": [
        {
          "output_type": "stream",
          "name": "stdout",
          "text": [
            "[[ 0.497 -0.138  0.648  1.523]\n",
            " [-0.234 -0.234  1.579  0.767]\n",
            " [ 0.263 -0.372  2.227  2.29 ]\n",
            " [ 0.497 -0.138  0.648  1.523]]\n"
          ]
        }
      ]
    },
    {
      "cell_type": "markdown",
      "source": [
        "## Scipy 패키지를 이용해 SVD 구현하기\n",
        "\n",
        "full_matrices = True -> U를 (M,M), Vt를 (N,N)으로 분할\n",
        "full_matrices = False -> U를 (M,k), Vt를 (k,N)으로 분할\n",
        "\n"
      ],
      "metadata": {
        "id": "kp4Pw_MvcvHP"
      }
    },
    {
      "cell_type": "code",
      "source": [
        "from scipy.sparse.linalg import svds\n",
        "from scipy.linalg import svd\n",
        "\n",
        "# 원본 행렬 생성\n",
        "np.random.seed(12)\n",
        "matrix = np.random.random((6,6))\n",
        "print( np.round(matrix, 3))"
      ],
      "metadata": {
        "colab": {
          "base_uri": "https://localhost:8080/"
        },
        "id": "cFkCXKYoYYJa",
        "outputId": "4a1d7cfc-8111-4b50-b009-0090567c157d"
      },
      "execution_count": 31,
      "outputs": [
        {
          "output_type": "stream",
          "name": "stdout",
          "text": [
            "[[0.154 0.74  0.263 0.534 0.015 0.919]\n",
            " [0.901 0.033 0.957 0.137 0.284 0.606]\n",
            " [0.944 0.853 0.002 0.521 0.552 0.485]\n",
            " [0.768 0.161 0.765 0.021 0.135 0.116]\n",
            " [0.31  0.671 0.471 0.816 0.29  0.733]\n",
            " [0.703 0.328 0.335 0.978 0.625 0.95 ]]\n"
          ]
        }
      ]
    },
    {
      "cell_type": "code",
      "source": [
        "U, Sigma, Vt = svd(matrix, full_matrices = False)\n",
        "print('U:', np.round(U,3))\n",
        "print('Sigma:', np.round(Sigma,3)) \n",
        "print('Vt:', np.round(Vt,3))"
      ],
      "metadata": {
        "colab": {
          "base_uri": "https://localhost:8080/"
        },
        "id": "GYlCsGESdGag",
        "outputId": "eb6a08ef-926b-4769-f578-e6335b3e77a2"
      },
      "execution_count": 32,
      "outputs": [
        {
          "output_type": "stream",
          "name": "stdout",
          "text": [
            "U: [[-0.363  0.377  0.435  0.501 -0.449  0.292]\n",
            " [-0.385 -0.64   0.235 -0.061 -0.383 -0.487]\n",
            " [-0.443  0.149 -0.818  0.259 -0.13  -0.17 ]\n",
            " [-0.25  -0.582 -0.058  0.308  0.386  0.593]\n",
            " [-0.432  0.254  0.29   0.107  0.695 -0.413]\n",
            " [-0.524  0.151  0.006 -0.756 -0.055  0.357]]\n",
            "Sigma: [3.145 1.289 0.799 0.603 0.301 0.058]\n",
            "Vt: [[-0.482 -0.369 -0.329 -0.429 -0.269 -0.517]\n",
            " [-0.497  0.396 -0.611  0.414 -0.004  0.227]\n",
            " [-0.555 -0.226  0.54   0.099 -0.373  0.446]\n",
            " [ 0.008  0.768  0.177 -0.418 -0.442 -0.092]\n",
            " [-0.212  0.181  0.397  0.535  0.106 -0.684]\n",
            " [ 0.41  -0.182 -0.193  0.417 -0.762 -0.079]]\n"
          ]
        }
      ]
    },
    {
      "cell_type": "markdown",
      "source": [
        "### Scipy svd를 통해 Truncated SVD 구현해보기"
      ],
      "metadata": {
        "id": "cn-g4sjdfQgC"
      }
    },
    {
      "cell_type": "code",
      "source": [
        "#사용할 특이값 개수 지정\n",
        "num_comp = 4\n",
        "\n",
        "U_, Sigma_, Vt_ = svds(matrix, k = num_comp)\n",
        "print('U_:', np.round(U_,3))          # 4개의 특이값에 맞춰 행렬곱을 취할 수 있도록 행렬이 분할되었다.\n",
        "print('Sigma_:', np.round(Sigma_,3))  # 시그마 행렬에서는 4개의 특이값만을 가진 대각행렬이 된 것을 볼 수 있다.\n",
        "print('Vt_:', np.round(Vt_,3))        # U와 마찬가지."
      ],
      "metadata": {
        "colab": {
          "base_uri": "https://localhost:8080/"
        },
        "id": "2B494k8GfMZ_",
        "outputId": "b83e079a-df03-48ab-b0a2-b7315be660d4"
      },
      "execution_count": 33,
      "outputs": [
        {
          "output_type": "stream",
          "name": "stdout",
          "text": [
            "U_: [[ 0.501  0.435  0.377  0.363]\n",
            " [-0.061  0.235 -0.64   0.385]\n",
            " [ 0.259 -0.818  0.149  0.443]\n",
            " [ 0.308 -0.058 -0.582  0.25 ]\n",
            " [ 0.107  0.29   0.254  0.432]\n",
            " [-0.756  0.006  0.151  0.524]]\n",
            "Sigma_: [0.603 0.799 1.289 3.145]\n",
            "Vt_: [[ 0.008  0.768  0.177 -0.418 -0.442 -0.092]\n",
            " [-0.555 -0.226  0.54   0.099 -0.373  0.446]\n",
            " [-0.497  0.396 -0.611  0.414 -0.004  0.227]\n",
            " [ 0.482  0.369  0.329  0.429  0.269  0.517]]\n"
          ]
        }
      ]
    },
    {
      "cell_type": "code",
      "source": [
        "# 행렬 다시 합치기 -> Truncated 이므로 0이 아닌 Singular Value도 없는 상태에서의 행렬곱을 취한것이므로, 그 값이 완전히 맨 처음의 값과 일치하진 않는다.\n",
        "\n",
        "a_ = np.dot(np.dot(U_, np.diag(Sigma_)), Vt_)\n",
        "print(np.round(a_, 3))"
      ],
      "metadata": {
        "colab": {
          "base_uri": "https://localhost:8080/"
        },
        "id": "vLpwtAWMftYF",
        "outputId": "2d98befd-18dd-41bb-85b4-a54f3e83f604"
      },
      "execution_count": 35,
      "outputs": [
        {
          "output_type": "stream",
          "name": "stdout",
          "text": [
            "[[ 0.119  0.768  0.32   0.599  0.042  0.828]\n",
            " [ 0.888  0.049  0.997  0.211  0.274  0.525]\n",
            " [ 0.94   0.858  0.016  0.546  0.549  0.458]\n",
            " [ 0.779  0.146  0.725 -0.056  0.149  0.198]\n",
            " [ 0.364  0.629  0.383  0.714  0.249  0.874]\n",
            " [ 0.691  0.334  0.345  0.978  0.642  0.941]]\n"
          ]
        }
      ]
    },
    {
      "cell_type": "markdown",
      "source": [
        "## Scikit-Learn패키지를 이용해 SVD 해보기"
      ],
      "metadata": {
        "id": "eaPLzgTWhaio"
      }
    },
    {
      "cell_type": "code",
      "source": [
        "# 원본 행렬 생성\n",
        "np.random.seed(12)\n",
        "matrix = np.random.random((6,6))\n",
        "print( np.round(matrix, 3))"
      ],
      "metadata": {
        "colab": {
          "base_uri": "https://localhost:8080/"
        },
        "id": "gArT1AjUiGqe",
        "outputId": "8be2a67c-5b05-4bca-cedd-04bf7586e027"
      },
      "execution_count": 40,
      "outputs": [
        {
          "output_type": "stream",
          "name": "stdout",
          "text": [
            "[[0.154 0.74  0.263 0.534 0.015 0.919]\n",
            " [0.901 0.033 0.957 0.137 0.284 0.606]\n",
            " [0.944 0.853 0.002 0.521 0.552 0.485]\n",
            " [0.768 0.161 0.765 0.021 0.135 0.116]\n",
            " [0.31  0.671 0.471 0.816 0.29  0.733]\n",
            " [0.703 0.328 0.335 0.978 0.625 0.95 ]]\n"
          ]
        }
      ]
    },
    {
      "cell_type": "code",
      "source": [
        "from sklearn.decomposition import TruncatedSVD\n",
        "\n",
        "tsvd = TruncatedSVD(n_components=4)\n",
        "tsvd.fit(matrix)\n",
        "a_tr = tsvd.transform(matrix)\n",
        "a_tr"
      ],
      "metadata": {
        "colab": {
          "base_uri": "https://localhost:8080/"
        },
        "id": "G6v8XMj7g4z-",
        "outputId": "f14362d8-16da-4f30-fce5-0c15e16932e4"
      },
      "execution_count": 43,
      "outputs": [
        {
          "output_type": "execute_result",
          "data": {
            "text/plain": [
              "array([[ 1.14188038, -0.48539404, -0.34749425, -0.30191158],\n",
              "       [ 1.20960458,  0.82529355, -0.1876061 ,  0.03686302],\n",
              "       [ 1.39327376, -0.19179119,  0.65318726, -0.15636906],\n",
              "       [ 0.78638259,  0.75033534,  0.04616277, -0.18548138],\n",
              "       [ 1.35902108, -0.32771741, -0.23137577, -0.06471603],\n",
              "       [ 1.64798258, -0.1950719 , -0.00497557,  0.4562135 ]])"
            ]
          },
          "metadata": {},
          "execution_count": 43
        }
      ]
    },
    {
      "cell_type": "code",
      "source": [
        ""
      ],
      "metadata": {
        "id": "Vg7IWkpxhnDm"
      },
      "execution_count": null,
      "outputs": []
    },
    {
      "cell_type": "markdown",
      "source": [
        "## Surprise 패키지를 이용해 SVD 구현하기"
      ],
      "metadata": {
        "id": "OOZoIhYljOPA"
      }
    },
    {
      "cell_type": "markdown",
      "source": [
        "### 인접행렬 및 유사도를 통한 가장 비슷한 유저 찾기"
      ],
      "metadata": {
        "id": "yUFVaHyQz_5h"
      }
    },
    {
      "cell_type": "code",
      "execution_count": 85,
      "metadata": {
        "colab": {
          "base_uri": "https://localhost:8080/"
        },
        "id": "k-Tk0hGyo1KI",
        "outputId": "614bb862-d7ee-4528-d680-bbdd01511978"
      },
      "outputs": [
        {
          "output_type": "stream",
          "name": "stdout",
          "text": [
            "Requirement already satisfied: scikit-surprise in /usr/local/lib/python3.7/dist-packages (1.1.1)\n",
            "Requirement already satisfied: numpy>=1.11.2 in /usr/local/lib/python3.7/dist-packages (from scikit-surprise) (1.21.5)\n",
            "Requirement already satisfied: scipy>=1.0.0 in /usr/local/lib/python3.7/dist-packages (from scikit-surprise) (1.4.1)\n",
            "Requirement already satisfied: joblib>=0.11 in /usr/local/lib/python3.7/dist-packages (from scikit-surprise) (1.1.0)\n",
            "Requirement already satisfied: six>=1.10.0 in /usr/local/lib/python3.7/dist-packages (from scikit-surprise) (1.15.0)\n"
          ]
        }
      ],
      "source": [
        "!pip install scikit-surprise"
      ]
    },
    {
      "cell_type": "code",
      "source": [
        "from surprise import SVD\n",
        "from surprise import Dataset\n",
        "from surprise.model_selection import cross_validate"
      ],
      "metadata": {
        "id": "5eAtJkA7pQ-q"
      },
      "execution_count": 86,
      "outputs": []
    },
    {
      "cell_type": "code",
      "source": [
        "data = Dataset.load_builtin('ml-100k', prompt = False)\n",
        "raw_data = np.array(data.raw_ratings, dtype = int)"
      ],
      "metadata": {
        "id": "YpXYsEqvpr50"
      },
      "execution_count": 87,
      "outputs": []
    },
    {
      "cell_type": "code",
      "source": [
        "# user와 movie의 index를 0부터 시작할 수 있도록 1씩 빼준다.\n",
        "raw_data[:, 0] -= 1\n",
        "raw_data[:, 1] -= 1\n",
        "\n",
        "n_users = np.max(raw_data[:, 0])\n",
        "n_movies = np.max(raw_data[:, 1])\n",
        "# shape 자체는 위에서 1씩 빼준것을 감안하여 1씩 더해준 것을 shape으로 둔다.\n",
        "shape= (n_users +1, n_movies +1)\n",
        "shape"
      ],
      "metadata": {
        "colab": {
          "base_uri": "https://localhost:8080/"
        },
        "id": "b9y_FksKn4v3",
        "outputId": "315a5d76-4bc5-482d-f507-156c2c62732c"
      },
      "execution_count": 88,
      "outputs": [
        {
          "output_type": "execute_result",
          "data": {
            "text/plain": [
              "(943, 1682)"
            ]
          },
          "metadata": {},
          "execution_count": 88
        }
      ]
    },
    {
      "cell_type": "code",
      "source": [
        "# 인접행렬 생성\n",
        "adj_matrix = np.ndarray(shape, dtype=int)\n",
        "adj_matrix"
      ],
      "metadata": {
        "colab": {
          "base_uri": "https://localhost:8080/"
        },
        "id": "1r0f-iDvpDCb",
        "outputId": "bf4fe3a7-fd8f-4311-f893-43cd1aa7c3a9"
      },
      "execution_count": 89,
      "outputs": [
        {
          "output_type": "execute_result",
          "data": {
            "text/plain": [
              "array([[0, 0, 0, ..., 0, 0, 0],\n",
              "       [0, 0, 0, ..., 0, 0, 0],\n",
              "       [0, 0, 0, ..., 0, 0, 0],\n",
              "       ...,\n",
              "       [0, 0, 0, ..., 0, 0, 0],\n",
              "       [0, 0, 0, ..., 0, 0, 0],\n",
              "       [0, 0, 0, ..., 0, 0, 0]])"
            ]
          },
          "metadata": {},
          "execution_count": 89
        }
      ]
    },
    {
      "cell_type": "code",
      "source": [
        "adj_matrix.shape  # 943개의 샘플(유저)과 1682개의 features(영화)에 대한 데이터"
      ],
      "metadata": {
        "colab": {
          "base_uri": "https://localhost:8080/"
        },
        "id": "RPiOnFTbswt0",
        "outputId": "f2fc0480-e852-47fa-b43d-f592d0466158"
      },
      "execution_count": 90,
      "outputs": [
        {
          "output_type": "execute_result",
          "data": {
            "text/plain": [
              "(943, 1682)"
            ]
          },
          "metadata": {},
          "execution_count": 90
        }
      ]
    },
    {
      "cell_type": "code",
      "source": [
        "for  user_id, movie_id, rating, time in raw_data:\n",
        "  adj_matrix[user_id][movie_id] = 1.  # 데이터가 있는 경우, 1로 설정해준다.\n",
        "adj_matrix\n"
      ],
      "metadata": {
        "colab": {
          "base_uri": "https://localhost:8080/"
        },
        "id": "NvLR_JDqpC_R",
        "outputId": "09a3d53b-da68-426b-b042-ab2907f72c8e"
      },
      "execution_count": 91,
      "outputs": [
        {
          "output_type": "execute_result",
          "data": {
            "text/plain": [
              "array([[1, 1, 1, ..., 0, 0, 0],\n",
              "       [1, 0, 0, ..., 0, 0, 0],\n",
              "       [0, 0, 0, ..., 0, 0, 0],\n",
              "       ...,\n",
              "       [1, 0, 0, ..., 0, 0, 0],\n",
              "       [0, 0, 0, ..., 0, 0, 0],\n",
              "       [0, 1, 0, ..., 0, 0, 0]])"
            ]
          },
          "metadata": {},
          "execution_count": 91
        }
      ]
    },
    {
      "cell_type": "code",
      "source": [
        "len(adj_matrix)"
      ],
      "metadata": {
        "colab": {
          "base_uri": "https://localhost:8080/"
        },
        "id": "KETKPVg3apGQ",
        "outputId": "40414a7e-9127-4307-8125-40fb8fde17a8"
      },
      "execution_count": 103,
      "outputs": [
        {
          "output_type": "execute_result",
          "data": {
            "text/plain": [
              "943"
            ]
          },
          "metadata": {},
          "execution_count": 103
        }
      ]
    },
    {
      "cell_type": "code",
      "source": [
        "len(adj_matrix[0])"
      ],
      "metadata": {
        "colab": {
          "base_uri": "https://localhost:8080/"
        },
        "id": "_Pd9n8Cya1-N",
        "outputId": "85ae9836-ea2d-4b62-91a8-2d458585173d"
      },
      "execution_count": 108,
      "outputs": [
        {
          "output_type": "execute_result",
          "data": {
            "text/plain": [
              "1682"
            ]
          },
          "metadata": {},
          "execution_count": 108
        }
      ]
    },
    {
      "cell_type": "code",
      "source": [
        "# 추천 진행할 id와 matrix에서의 해당 id 설정\n",
        "id, vector = 0, adj_matrix[0]\n",
        "best_match, best_match_id, best_match_vector = -1,-1,[]\n",
        "\n",
        "for user_id, user_vector in enumerate(adj_matrix):\n",
        "  # 유저 id와 선택 id가 다른경우, 유사도를 체크 한다. 선택 id에 대해서는 할 필요가 없기 때문에 생랼\n",
        "  if id != user_id:\n",
        "    similarity = np.dot(vector, user_vector)\n",
        "    if similarity > best_match:  # 유사도가 기존 best_match보다 높을 경우\n",
        "      best_match = similarity # best_match에 해당 유사도 값을 넣어준다.\n",
        "      best_match_id = user_id # 현재 유사도를 계산한 유저 id를 best match id로 선정\n",
        "      best_match_vector = user_vector # 현재 유사도를 계산한 vector를 넣는다.\n",
        "\n",
        "print(f'Best Match (유사도 스코어): {best_match},\\nBest Match ID (id \"{id}\"번과 가장 유사한 id): {best_match_id}')\n"
      ],
      "metadata": {
        "colab": {
          "base_uri": "https://localhost:8080/"
        },
        "id": "SHN_ZSzWs0aj",
        "outputId": "79f02a33-cec4-47a2-8127-e09cc253366b"
      },
      "execution_count": 109,
      "outputs": [
        {
          "output_type": "stream",
          "name": "stdout",
          "text": [
            "Best Match (유사도 스코어): 183,\n",
            "Best Match ID (id \"0\"번과 가장 유사한 id): 275\n"
          ]
        }
      ]
    },
    {
      "cell_type": "markdown",
      "source": [
        "### 특정 ID('0')에 대한 추천 리스트를 뽑아보기"
      ],
      "metadata": {
        "id": "ertsxGYqQFuN"
      }
    },
    {
      "cell_type": "code",
      "source": [
        "best_match_vector"
      ],
      "metadata": {
        "colab": {
          "base_uri": "https://localhost:8080/"
        },
        "id": "9UhJxAfRYpic",
        "outputId": "c8c15ade-6ba3-4f8e-8011-24a19ae19225"
      },
      "execution_count": 99,
      "outputs": [
        {
          "output_type": "execute_result",
          "data": {
            "text/plain": [
              "array([1, 1, 1, ..., 0, 0, 0])"
            ]
          },
          "metadata": {},
          "execution_count": 99
        }
      ]
    },
    {
      "cell_type": "code",
      "source": [
        "vector"
      ],
      "metadata": {
        "colab": {
          "base_uri": "https://localhost:8080/"
        },
        "id": "ZG2O3X6wYnPZ",
        "outputId": "0e3b920d-8422-4575-fa6a-2a856e1920dd"
      },
      "execution_count": 111,
      "outputs": [
        {
          "output_type": "execute_result",
          "data": {
            "text/plain": [
              "array([1, 1, 1, ..., 0, 0, 0])"
            ]
          },
          "metadata": {},
          "execution_count": 111
        }
      ]
    },
    {
      "cell_type": "code",
      "source": [
        "max(vector)"
      ],
      "metadata": {
        "colab": {
          "base_uri": "https://localhost:8080/"
        },
        "id": "HOzp3TCWd58C",
        "outputId": "5ab94d92-ce27-474b-842c-ec7c464943b4"
      },
      "execution_count": 112,
      "outputs": [
        {
          "output_type": "execute_result",
          "data": {
            "text/plain": [
              "1"
            ]
          },
          "metadata": {},
          "execution_count": 112
        }
      ]
    },
    {
      "cell_type": "code",
      "source": [
        "recommendation = []\n",
        "for i, log in enumerate(zip(vector, best_match_vector)):\n",
        "  log1, log2 = log # 유저 0이 본 영화정보 vector(log1)와 유저 0과 비슷한 유저가 본 영화정보 best_match_vector(log2)를 비교하기 위함\n",
        "  # 기존에 본 영화(log1)은 배제하고(0인 경우), 보지 않았던 영화 중, 가장 유사한 유저가 본 영화(log2가 1인경우) \n",
        "  if log1 < 1. and log2 > 0.:\n",
        "    recommendation.append(i)\n",
        "print(recommendation)"
      ],
      "metadata": {
        "colab": {
          "base_uri": "https://localhost:8080/"
        },
        "id": "tqq9UxCgpC7f",
        "outputId": "0d826dd4-3860-4383-a010-cfaf4a49960b"
      },
      "execution_count": 116,
      "outputs": [
        {
          "output_type": "stream",
          "name": "stdout",
          "text": [
            "[272, 273, 275, 280, 281, 283, 287, 288, 289, 290, 292, 293, 297, 299, 300, 301, 302, 306, 312, 314, 315, 316, 317, 321, 322, 323, 324, 327, 330, 331, 332, 333, 339, 342, 345, 346, 353, 354, 355, 356, 357, 363, 364, 365, 366, 372, 374, 378, 379, 381, 382, 383, 384, 385, 386, 387, 390, 391, 392, 394, 395, 396, 398, 400, 401, 402, 403, 404, 405, 406, 407, 408, 409, 410, 412, 414, 416, 417, 418, 419, 420, 422, 424, 425, 426, 427, 428, 430, 431, 432, 435, 442, 446, 447, 448, 449, 450, 451, 452, 454, 455, 457, 460, 461, 462, 468, 469, 470, 471, 472, 473, 474, 478, 495, 500, 507, 517, 522, 525, 530, 539, 540, 543, 545, 546, 548, 549, 550, 551, 553, 557, 558, 560, 561, 562, 563, 565, 566, 567, 568, 570, 571, 574, 575, 576, 577, 580, 581, 582, 585, 587, 589, 590, 594, 596, 602, 623, 626, 627, 630, 633, 635, 639, 646, 648, 651, 652, 654, 657, 664, 668, 671, 677, 678, 681, 683, 684, 685, 690, 691, 692, 695, 696, 708, 709, 714, 718, 719, 720, 724, 726, 727, 731, 733, 734, 736, 738, 741, 742, 745, 746, 747, 749, 750, 754, 758, 762, 764, 767, 768, 769, 770, 771, 772, 773, 778, 779, 782, 785, 788, 789, 793, 795, 796, 799, 800, 801, 802, 805, 806, 808, 815, 819, 822, 824, 830, 839, 842, 843, 844, 852, 853, 870, 875, 878, 880, 889, 901, 914, 915, 918, 921, 927, 929, 930, 938, 940, 941, 942, 948, 950, 958, 968, 973, 974, 976, 992, 999, 1005, 1009, 1010, 1012, 1015, 1018, 1027, 1030, 1034, 1035, 1041, 1043, 1045, 1046, 1051, 1055, 1072, 1073, 1078, 1080, 1082, 1088, 1089, 1090, 1094, 1097, 1108, 1109, 1117, 1128, 1130, 1134, 1139, 1140, 1144, 1156, 1169, 1171, 1179, 1193, 1198, 1207, 1209, 1212, 1217, 1219, 1220, 1227, 1231, 1238, 1239, 1243, 1244, 1252, 1266, 1272, 1273, 1300, 1313, 1406, 1412, 1415, 1470, 1477, 1480, 1481, 1482]\n"
          ]
        }
      ]
    },
    {
      "cell_type": "code",
      "source": [
        "import numpy as np\n",
        "from sklearn.decomposition import randomized_svd, non_negative_factorization\n",
        "from surprise import Dataset\n",
        "\n",
        "\n",
        "# model = SVD()"
      ],
      "metadata": {
        "id": "0L8edcUbjVRm"
      },
      "execution_count": 93,
      "outputs": []
    },
    {
      "cell_type": "code",
      "source": [
        "data = Dataset.load_builtin('ml-100k', prompt = False)\n",
        "raw_data = np.array(data.raw_ratings, dtype = int)\n",
        "# raw_data[:,0] -= 1\n",
        "# raw_data[:,1] -= 1"
      ],
      "metadata": {
        "id": "0yOhsAYt4r01"
      },
      "execution_count": 94,
      "outputs": []
    },
    {
      "cell_type": "code",
      "source": [
        "raw_data"
      ],
      "metadata": {
        "colab": {
          "base_uri": "https://localhost:8080/"
        },
        "id": "0FysI6UK4rva",
        "outputId": "ce23c577-f681-43c9-e2bc-9cc6753104d9"
      },
      "execution_count": 95,
      "outputs": [
        {
          "output_type": "execute_result",
          "data": {
            "text/plain": [
              "array([[      196,       242,         3, 881250949],\n",
              "       [      186,       302,         3, 891717742],\n",
              "       [       22,       377,         1, 878887116],\n",
              "       ...,\n",
              "       [      276,      1090,         1, 874795795],\n",
              "       [       13,       225,         2, 882399156],\n",
              "       [       12,       203,         3, 879959583]])"
            ]
          },
          "metadata": {},
          "execution_count": 95
        }
      ]
    },
    {
      "cell_type": "code",
      "source": [
        "raw_data[:,0] -= 1\n",
        "raw_data[:,1] -= 1\n",
        "raw_data"
      ],
      "metadata": {
        "colab": {
          "base_uri": "https://localhost:8080/"
        },
        "id": "cuj-Sap-jdlr",
        "outputId": "ba2eaa53-d0d3-45fc-87ee-3db87c4cd6dc"
      },
      "execution_count": 96,
      "outputs": [
        {
          "output_type": "execute_result",
          "data": {
            "text/plain": [
              "array([[      195,       241,         3, 881250949],\n",
              "       [      185,       301,         3, 891717742],\n",
              "       [       21,       376,         1, 878887116],\n",
              "       ...,\n",
              "       [      275,      1089,         1, 874795795],\n",
              "       [       12,       224,         2, 882399156],\n",
              "       [       11,       202,         3, 879959583]])"
            ]
          },
          "metadata": {},
          "execution_count": 96
        }
      ]
    },
    {
      "cell_type": "code",
      "source": [
        ""
      ],
      "metadata": {
        "id": "2ztEaXxHjlz9"
      },
      "execution_count": null,
      "outputs": []
    }
  ]
}