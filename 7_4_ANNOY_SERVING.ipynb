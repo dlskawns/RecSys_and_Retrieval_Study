{
  "nbformat": 4,
  "nbformat_minor": 0,
  "metadata": {
    "colab": {
      "name": "7_4_ANNOY_SERVING.ipynb",
      "provenance": [],
      "authorship_tag": "ABX9TyOxXb+dCjd+mcwJf3sjL4Rz",
      "include_colab_link": true
    },
    "kernelspec": {
      "name": "python3",
      "display_name": "Python 3"
    },
    "language_info": {
      "name": "python"
    }
  },
  "cells": [
    {
      "cell_type": "markdown",
      "metadata": {
        "id": "view-in-github",
        "colab_type": "text"
      },
      "source": [
        "<a href=\"https://colab.research.google.com/github/dlskawns/RecSys_and_Retrieval_Study/blob/main/7_4_ANNOY_SERVING.ipynb\" target=\"_parent\"><img src=\"https://colab.research.google.com/assets/colab-badge.svg\" alt=\"Open In Colab\"/></a>"
      ]
    },
    {
      "cell_type": "markdown",
      "source": [
        "# MF 서빙 이슈\n",
        "(모델의 학습 이후)\n",
        "* 유저 1명에게 추천을 제공하기 위해 유저벡터와 후보 아이템 벡터 간의 연산 필요\n",
        "  * $\\hat r_{ui} = p_uq_i$, 추천 예측 스코어는 두 벡터 내적값\n",
        "* 특정 아이템과 비슷한 아이템을 연관추천 -> 아이템 벡터와 후보 아이템벡터 유사도 연산 필요\n",
        "  * 특정 아이템 $i$에 대해서 모든 아이템들의 유사도를 구해 내림차순 정렬 상위 아이템 추천\n",
        "\n",
        "#### 배치 적용\n",
        "배치를 적용해서 진행할 경우, 하루에 한번은 배치를 말아서 진행해야 한다.   \n",
        "할 수는 있지만, 데이터가 엄청 많은 플랫폼의 경우, 배치 자체만으로도 오래걸릴 수 있다.\n"
      ],
      "metadata": {
        "id": "uMbpoCVHYTxv"
      }
    },
    {
      "cell_type": "markdown",
      "source": [
        "### ANNOY (Approximate nearest neighborhood)\n",
        "spotify에서 추천시스템 적용을 위해 개발한 라이브러리\n",
        "* 수 많은 데이터가 있는 n차원 벡터공간에서 주어진 벡터와 가장 유사한 벡터를 찾는 알고리즘\n",
        "* 오래전에 썼었고, 최근은 facebook의 faise를 많이 사용\n",
        "* 트리 구조를 이용. 권역별로 벡터들을 나누어 해당 권역 내에서만 유사 벡터를 찾음\t\n",
        "  * angular distance = $\\sqrt {2(1-cos(i,i'))}$: 주어진 아이템벡터와 가장 비슷한 아이템 벡터 n개 찾아 아이템과 비슷한 아이템 추천 \n",
        "  * dot product: 주어진 유저벡터에 내적이 최대가 되어야 하므로 유저에게 아이템 추천할때 사용\n",
        "\n",
        "* 트리를 이용해 기본 인스턴스 안에 값을 넣어두고 필요할때마다 계산해서 쓰기 때문에 속도가 훨씬 빠름\n",
        "\n",
        "* faiss가 더 최신식 방법\n",
        "* 100만, 1000만개 유저, 아이템일 경우는 스파크를 쓰지만, 그렇지 않은 경우는 일반적으로 ANN으로도 소화가 가능하고, ALS의 Implicit도 GPU를 지원하기 때문에 10만 정도 데이터는 소화해 낼 수 있음\n",
        "\n",
        "    \n"
      ],
      "metadata": {
        "id": "Rjb8h1eiaeml"
      }
    },
    {
      "cell_type": "code",
      "execution_count": null,
      "metadata": {
        "id": "CUzak3g7YScK"
      },
      "outputs": [],
      "source": [
        ""
      ]
    }
  ]
}