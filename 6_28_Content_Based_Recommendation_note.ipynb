{
  "nbformat": 4,
  "nbformat_minor": 0,
  "metadata": {
    "colab": {
      "name": "6_28_Content_Based_Recommendation_note.ipynb",
      "provenance": [],
      "authorship_tag": "ABX9TyOEUBeNYkIWuEsFrmXhFpMO",
      "include_colab_link": true
    },
    "kernelspec": {
      "name": "python3",
      "display_name": "Python 3"
    },
    "language_info": {
      "name": "python"
    }
  },
  "cells": [
    {
      "cell_type": "markdown",
      "metadata": {
        "id": "view-in-github",
        "colab_type": "text"
      },
      "source": [
        "<a href=\"https://colab.research.google.com/github/dlskawns/RecSys_and_Retrieval_Study/blob/main/6_28_Content_Based_Recommendation_note.ipynb\" target=\"_parent\"><img src=\"https://colab.research.google.com/assets/colab-badge.svg\" alt=\"Open In Colab\"/></a>"
      ]
    },
    {
      "cell_type": "markdown",
      "source": [
        "# Content Based Recommendation\n"
      ],
      "metadata": {
        "id": "qtmuT7Z4P8gt"
      }
    },
    {
      "cell_type": "markdown",
      "source": [
        "## Text Feature\n",
        "문서\n",
        "\n",
        "## TF-IDF\n",
        "일반적으로 Text데이터의 키워드 추출에 활용되는 기법\n",
        "* 추출의 방식이 빈도에 따른다\n",
        "* 빈도에 따라 가장 중요한 단어(word)를 찾게 된다.\n",
        "* Item Profile을 중요한 단어의 집합으로 표현할 수 있다.\n",
        "\n",
        "### TF (Term Frequency)\n",
        "\n",
        "단어(word)가 문서(document)에 등장하는 횟수\n",
        "  * $TF(word, document) = freq_{w,d}$\n",
        "  * Normalized$TF(word, documnet) = \\frac{freq_{w,d}}{max_k(freq_{k,d}}$\n",
        "    * 문서 길이가 너무 제각각인 경우 단어 빈도수를 max 빈도수로 나눠줘서 TF가 1미만으로 나오도록 정규화 하기도 한다.\n",
        "    * 잘 사용 안한다.\n",
        "\n",
        "### IDF (Inverse Document Frequency)\n",
        "\n",
        "전체문서(Documents) 중 단어(word)가 있는 문서(document) 수\n",
        "  * $IDF(w) = log \\frac {N}{n_w} \\therefore N: 전체문서개수, n_w: w 등장한 문서개수$\n",
        "  * IDF값의 변동이 크기 때문에 smoothing으로 log를 취해줌\n",
        "  \n",
        "  \n",
        "\n",
        "\n",
        "### TF-IDF \n",
        "\n",
        "$TFIDF(w,d) = TF(w,d) \\cdot IDF(w)$\n",
        "\n",
        "||w1|w2|w3|w4|w5|w6|\n",
        "|:-:|:-:|:-:|:-:|:-:|:-:|:-:|\n",
        "|d1|2$\\cdot$log(4/2)|2$\\cdot$log(4/1)|1$\\cdot$log(4/3)|3$\\cdot$log(4/4)|0$\\cdot$log(4/1)|2$\\cdot$log(4/4)|\n",
        "|d2|0$\\cdot$log(4/2)|0$\\cdot$log(4/1)|0$\\cdot$log(4/3)|1$\\cdot$log(4/4)|0$\\cdot$log(4/1)|3$\\cdot$log(4/4)|\n",
        "|d3|0$\\cdot$log(4/2)|0$\\cdot$log(4/1)|1$\\cdot$log(4/3)|1$\\cdot$log(4/4)|0$\\cdot$log(4/1)|2$\\cdot$log(4/4)|\n",
        "|d4|2$\\cdot$log(4/2)|0$\\cdot$log(4/1)|2$\\cdot$log(4/3)|1$\\cdot$log(4/4)|2$\\cdot$log(4/1)|3$\\cdot$log(4/4)|\n",
        "|IDF|log(4/2)|log(4/1)|log(4/3)|log(4/4)|log(4/1)|log(4/4)|\n"
      ],
      "metadata": {
        "id": "k4ATrkw8P8Rh"
      }
    },
    {
      "cell_type": "markdown",
      "source": [
        "### Item Profile\n",
        "\n",
        "* 아이템을 벡터로 만들어 임베딩 하기 위해선 아이템 프로파일이 필요.\n",
        "* TF IDF의 전체 문서의 전체 토큰이 곧 각각의 아이템이 되며, 해당 문서 내 가장 많이 나온 토큰이 가장 중요한 아이템. 대표성을 띄는 것으로 볼 수 있음\n",
        "\n",
        "\n",
        "### User Profile\n",
        "\n",
        "* User가 d1과 d3을 선호할 경우: User Vector = $\\frac {v_{d1}+ v_{d3}}{2}$\n",
        "\n",
        "* $score(u,i) = cos(u,i) = \\frac {u\\cdot i}{|u|\\cdot|i|}$\n",
        "* 위와 같이 표현하여 "
      ],
      "metadata": {
        "id": "lfqG-QoOQDj2"
      }
    },
    {
      "cell_type": "markdown",
      "source": [
        "### 영화 평점을 활용한다면? 평점을 예측하는 방법을 활용할 수 있음\n",
        "\n",
        "유저 벡터를 구할 필요없이 유저 $u$가 선호하는 아이템 I = {$i_1,...i_N$}의 Item vector $V = {v_1,...v_n}$, 평점은 $r_{ui} for i \\in l$ 일때의 새로운 아이템 $i'$에 대한 예측\n",
        "\n",
        "* 다시말해 유저가 선호하는 아이템의 평점이 주어졌을 때, 기존 선호하던 아이템과 새로운 아이템의 유사도를 바탕으로 새로운 아이템에 대한 선호도를 예측한다.\n",
        "\n",
        "* 아이템 간 유사도 $sim(i, i') = cos(v_i,v_{i'})$를 weight 삼아 평점(선호도) $r_{ui}$를 곱해줌으로써 유사도가 높은 아이템일 수록 스코어가 올라간다.\n",
        "  * $prediction(i') = \\frac {\\sum_{i=1}^Nsim(i,i')\\cdot r_{u,i}}{\\sum_{i=1}^Nsim(i,i')}$\n",
        "  * $\\frac {sim(i_1, i')\\cdot r_{ui_1}+sim(i_2, i')\\cdot r_{ui_2}+ ... + sim(i_n, i')\\cdot r_{ui_n}}{sim(i_1, i')+sim(i_2, i')+ ... + sim(i_n, i')}$ \n",
        "\n",
        "* 예시\n",
        "  * 특정 유저가 선호한 영화 3 가지 w/ TF-IDF\n",
        "    * m1:$r_{m1}=3.0, v_{m1} = [0.2, 0.4, 1.2, 1.5]$\n",
        "    * m2:$r_{m2}=3.0, v_{m2} = [0.4, 0.7, 0.3, 0.5]$\n",
        "    * m3:$r_{m3}=3.0, v_{m3} = [0.3, 1.2, 1.0, 1.0]$\n",
        "  * 예측 영화 m4의 $v_{m4} = [0.4,1.4,3.1,1.0]$ 일때의 각 기존 선호 아이템과의 유사도 파악\n",
        "    * $sim(m4,m1) = cos(v_{m4}, v_{m1}) = 0.83$\n",
        "    * $sim(m4,m2) = cos(v_{m4}, v_{m2}) = 0.72$\n",
        "    * $sim(m4,m3) = cos(v_{m4}, v_{m3}) = 0.88$\n",
        "  * $prediction(m4) = \\frac {0.83\\cdot 3.0 + 0.72\\cdot 2.5 + 0.88 \\cdot 4.0}{0.83+0.72+0.88}= 3.2$"
      ],
      "metadata": {
        "id": "gVXMkQX_TkUA"
      }
    },
    {
      "cell_type": "markdown",
      "source": [
        "장점: \n",
        "* 다른 유저의 데이터가 필요하지 않다. \n",
        "  * 추가적인 cost가 덜 든다. 유저의 많은 정보가 없이도 가능하다.\n",
        "* Cold start 또는 인기가 낮은 아이템을 추천할 수 있다. \n",
        "  * 가장 많이 활용되는 CF 모델에선 사실 인기도가 높은 상품이 주로 추천되는데, 조금 더 맞춤형(개인화) 관점으로 추천이 가능하다. 성능이 꼭 좋진 않을 수도 있다. \n",
        "* 추천 아이템에 대한 설명(Explanation)이 가능하다. 실효성에 대한 검증이 어느정도 될 수 있다. ex: 블라우스를 구매 또는 조회 했을 때, 비슷한 다른 블라우스를 보여줌으로써 진짜 원하는 상품을 찾을 수 있도록 도와준다. \n",
        "\n",
        "단점:\n",
        "* 아이템의 적합한 피처를 찾는 것이 어렵다. 피쳐를 가공하는 것이 어렵다.\n",
        "  * TF-IDF를 이용한 것은 가장 쉬운 것이기 때문. 이미지를 이용할 경우, CNN을 이용해 벡터화 해야하는 등 어려운 점들이 있다. \n",
        "* 한 분야/장르의 추천 결과만 계속 나올 수 있다. \n",
        "  * 이런 부분을 해소하기 위해, CB N개, CF N'개 등과 같이 섞어서 하이브리드로 진행한다.\n",
        "* 다른 유저의 데이터를 활용할 수 없음\n",
        "  * 장점이면서도 단점인 것이, 유저가 봤던 것 안에서만 추천이 가능하기 때문에 이러한 부분에서 쉽지 않다. (CF의 경우 유저가 봤던것에서 다른 것을 찾아낼 수도 있는데 말이다. 각각의 장단점이 있음\n"
      ],
      "metadata": {
        "id": "acdxDKE9XtW2"
      }
    },
    {
      "cell_type": "code",
      "source": [
        ""
      ],
      "metadata": {
        "id": "ty2MrBoxQOf5"
      },
      "execution_count": null,
      "outputs": []
    },
    {
      "cell_type": "code",
      "source": [
        ""
      ],
      "metadata": {
        "id": "3WYCEFCHP8Gm"
      },
      "execution_count": null,
      "outputs": []
    },
    {
      "cell_type": "code",
      "execution_count": null,
      "metadata": {
        "id": "m0WfXeVUP6F5"
      },
      "outputs": [],
      "source": [
        ""
      ]
    }
  ]
}