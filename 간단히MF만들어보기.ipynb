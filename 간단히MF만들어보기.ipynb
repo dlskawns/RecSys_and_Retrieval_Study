{
  "nbformat": 4,
  "nbformat_minor": 0,
  "metadata": {
    "colab": {
      "name": "간단히MF만들어보기.ipynb",
      "provenance": [],
      "authorship_tag": "ABX9TyMPyLS6KkEHMpD9HoPFQT2f",
      "include_colab_link": true
    },
    "kernelspec": {
      "name": "python3",
      "display_name": "Python 3"
    },
    "language_info": {
      "name": "python"
    }
  },
  "cells": [
    {
      "cell_type": "markdown",
      "metadata": {
        "id": "view-in-github",
        "colab_type": "text"
      },
      "source": [
        "<a href=\"https://colab.research.google.com/github/dlskawns/RecSys_and_Retrieval_Study/blob/main/%EA%B0%84%EB%8B%A8%ED%9E%88MF%EB%A7%8C%EB%93%A4%EC%96%B4%EB%B3%B4%EA%B8%B0.ipynb\" target=\"_parent\"><img src=\"https://colab.research.google.com/assets/colab-badge.svg\" alt=\"Open In Colab\"/></a>"
      ]
    },
    {
      "cell_type": "code",
      "source": [
        "ratings"
      ],
      "metadata": {
        "colab": {
          "base_uri": "https://localhost:8080/"
        },
        "id": "IF12cEWpwToa",
        "outputId": "3e47e0b8-d138-4a89-f88c-153c4ea688f9"
      },
      "execution_count": 16,
      "outputs": [
        {
          "output_type": "execute_result",
          "data": {
            "text/plain": [
              "array([[0, 0, 0, 0, 3, 4, 1, 2, 0, 0],\n",
              "       [0, 0, 0, 0, 5, 0, 1, 0, 0, 0],\n",
              "       [0, 0, 0, 0, 0, 4, 0, 0, 0, 3],\n",
              "       [0, 0, 0, 0, 0, 0, 0, 4, 2, 0],\n",
              "       [0, 0, 1, 0, 2, 0, 0, 0, 0, 2]])"
            ]
          },
          "metadata": {},
          "execution_count": 16
        }
      ]
    },
    {
      "cell_type": "code",
      "source": [
        "a = np.random.rand(5, 3) \n",
        "a"
      ],
      "metadata": {
        "colab": {
          "base_uri": "https://localhost:8080/"
        },
        "id": "LDXeAPvdwtO8",
        "outputId": "6423ef69-2c4f-4792-de48-822107900fe3"
      },
      "execution_count": 20,
      "outputs": [
        {
          "output_type": "execute_result",
          "data": {
            "text/plain": [
              "array([[0.770302  , 0.80847474, 0.8030573 ],\n",
              "       [0.11476295, 0.88808986, 0.10667592],\n",
              "       [0.23981016, 0.80759403, 0.10198876],\n",
              "       [0.07828535, 0.34543636, 0.83598444],\n",
              "       [0.06554275, 0.6360506 , 0.67026503]])"
            ]
          },
          "metadata": {},
          "execution_count": 20
        }
      ]
    },
    {
      "cell_type": "code",
      "source": [
        "b = np.random.rand(10, 3) \n",
        "b"
      ],
      "metadata": {
        "colab": {
          "base_uri": "https://localhost:8080/"
        },
        "id": "COQxsDm-wv5x",
        "outputId": "ba616fb7-e4e7-457f-f533-17e6bddaa667"
      },
      "execution_count": 21,
      "outputs": [
        {
          "output_type": "execute_result",
          "data": {
            "text/plain": [
              "array([[0.79456481, 0.2994673 , 0.75812402],\n",
              "       [0.83553903, 0.37388061, 0.41591966],\n",
              "       [0.7343975 , 0.70654535, 0.7356914 ],\n",
              "       [0.57297293, 0.94526627, 0.28584853],\n",
              "       [0.65293073, 0.81104054, 0.40542651],\n",
              "       [0.51364871, 0.14014905, 0.15721947],\n",
              "       [0.03541432, 0.49180601, 0.68388763],\n",
              "       [0.17620439, 0.78650459, 0.13184595],\n",
              "       [0.60086037, 0.51830006, 0.00414951],\n",
              "       [0.08791205, 0.52267979, 0.00458374]])"
            ]
          },
          "metadata": {},
          "execution_count": 21
        }
      ]
    },
    {
      "cell_type": "code",
      "source": [
        "ratings.nonzero()"
      ],
      "metadata": {
        "colab": {
          "base_uri": "https://localhost:8080/"
        },
        "id": "CBEg_M8axUXm",
        "outputId": "b6c88aa4-f201-4ded-f59a-6b19fb42e7bb"
      },
      "execution_count": 17,
      "outputs": [
        {
          "output_type": "execute_result",
          "data": {
            "text/plain": [
              "(array([0, 0, 0, 0, 1, 1, 2, 2, 3, 3, 4, 4, 4]),\n",
              " array([4, 5, 6, 7, 4, 6, 5, 9, 7, 8, 2, 4, 9]))"
            ]
          },
          "metadata": {},
          "execution_count": 17
        }
      ]
    },
    {
      "cell_type": "code",
      "source": [
        "for u, i in zip(*ratings.nonzero()):\n",
        "  print(u, i)"
      ],
      "metadata": {
        "colab": {
          "base_uri": "https://localhost:8080/"
        },
        "id": "kEJSVINTw3Fc",
        "outputId": "7efdf46a-2009-48c9-da93-95c0c7b4d6a7"
      },
      "execution_count": 15,
      "outputs": [
        {
          "output_type": "stream",
          "name": "stdout",
          "text": [
            "0 4\n",
            "0 5\n",
            "0 6\n",
            "0 7\n",
            "1 4\n",
            "1 6\n",
            "2 5\n",
            "2 9\n",
            "3 7\n",
            "3 8\n",
            "4 2\n",
            "4 4\n",
            "4 9\n"
          ]
        }
      ]
    },
    {
      "cell_type": "code",
      "source": [
        "a[0,:]"
      ],
      "metadata": {
        "colab": {
          "base_uri": "https://localhost:8080/"
        },
        "id": "v0uDGO4EzhYF",
        "outputId": "b0abd1a8-bcd1-4a2b-df70-a7306d2a6412"
      },
      "execution_count": 22,
      "outputs": [
        {
          "output_type": "execute_result",
          "data": {
            "text/plain": [
              "array([0.770302  , 0.80847474, 0.8030573 ])"
            ]
          },
          "metadata": {},
          "execution_count": 22
        }
      ]
    },
    {
      "cell_type": "code",
      "source": [
        "b[4,:]"
      ],
      "metadata": {
        "colab": {
          "base_uri": "https://localhost:8080/"
        },
        "id": "d73SpaKxzqIY",
        "outputId": "099df6ee-2c79-4511-dfeb-6e4a56066402"
      },
      "execution_count": 23,
      "outputs": [
        {
          "output_type": "execute_result",
          "data": {
            "text/plain": [
              "array([0.65293073, 0.81104054, 0.40542651])"
            ]
          },
          "metadata": {},
          "execution_count": 23
        }
      ]
    },
    {
      "cell_type": "code",
      "source": [
        "ratings[0,4]-a[0,:].dot(b[4,:])"
      ],
      "metadata": {
        "colab": {
          "base_uri": "https://localhost:8080/"
        },
        "id": "5FiWTtC3zXIZ",
        "outputId": "cd533e06-c8dc-4aac-fb79-9549b4879bb8"
      },
      "execution_count": 24,
      "outputs": [
        {
          "output_type": "execute_result",
          "data": {
            "text/plain": [
              "1.515759647450651"
            ]
          },
          "metadata": {},
          "execution_count": 24
        }
      ]
    },
    {
      "cell_type": "code",
      "source": [
        "a[0,0] = 0.0003 * (2 * )"
      ],
      "metadata": {
        "colab": {
          "base_uri": "https://localhost:8080/"
        },
        "id": "HvBB2zv6NByw",
        "outputId": "ea0df8d4-d599-4e1b-e2f8-82c10ee1d0e2"
      },
      "execution_count": 27,
      "outputs": [
        {
          "output_type": "execute_result",
          "data": {
            "text/plain": [
              "0.770302002065551"
            ]
          },
          "metadata": {},
          "execution_count": 27
        }
      ]
    },
    {
      "cell_type": "code",
      "execution_count": 1,
      "metadata": {
        "id": "W-XSrMmJtDb4"
      },
      "outputs": [],
      "source": [
        "import numpy as np\n",
        "\n",
        "def mf(R, k, n_epoch=5000, lr=.0003, l2=.04):\n",
        "  tol = .001  # Tolerant loss.\n",
        "  m, n = R.shape  # 5, 10               # 5명의 유저, 10개의 아이템\n",
        "  # Initialize the embedding weights.\n",
        "  P = np.random.rand(m, k)  # 5, 3      # 행렬 P를 임의의 복소수로 초기화\n",
        "  Q = np.random.rand(n, k)  # 10, 3     # 행렬 Q를 임의의 복소수로 초기화\n",
        "  for epoch in range(n_epoch):          \n",
        "    # Update weights by gradients.\n",
        "    for u, i in zip(*R.nonzero()):      # u: 행렬 내 0이 아닌 수의 열, i: 행렬 내 0이 아닌 수의 행\n",
        "      err_ui = R[u,i] - P[u,:].dot(Q[i,:])    # 오차 구하기 = 기존 행렬 점수에서 P행렬과 Q행렬의 내적 값을 제외한 값\n",
        "      for j in range(k):                      # \n",
        "        P[u][j] += lr * (2 * err_ui * Q[i][j] - l2/2 * P[u][j])   # P행렬 오차 업데이트 = 기존 P행렬에서 학습률 * (2 * 오차* Q행렬) - 레귤러 텀 * P행렬의 유저\n",
        "        Q[i][j] += lr * (2 * err_ui * P[u][j] - l2/2 * Q[i][j])\n",
        "    # compute the loss.\n",
        "    E = (R - P.dot(Q.T))**2\n",
        "    obj = E[R.nonzero()].sum() + lr*((P**2).sum() +(Q**2).sum())\n",
        "    if obj < tol:\n",
        "        break\n",
        "  return P, Q"
      ]
    },
    {
      "cell_type": "code",
      "source": [
        "np.random.seed(777)\n",
        "\n",
        "# Make missing more prevail.\n",
        "stars = np.arange(6)\n",
        "p = np.array([10, 1, 1, 1, 1, 1]) # 확률, 0이 제일 높고 나머지 평점은 균일 - sparse하게 만듦\n",
        "m = 5\n",
        "n = 10\n",
        "\n",
        "# A 5-star rating matrix.\n",
        "ratings = np.random.choice(stars, size=m*n, p=p / p.sum()).reshape((m, n))\n",
        "print(ratings)"
      ],
      "metadata": {
        "colab": {
          "base_uri": "https://localhost:8080/"
        },
        "id": "Zw14lzt7tWMH",
        "outputId": "d4c8cc67-9b62-4bd0-f651-b1f13b11bab0"
      },
      "execution_count": 45,
      "outputs": [
        {
          "output_type": "stream",
          "name": "stdout",
          "text": [
            "[[0 0 0 0 3 4 1 2 0 0]\n",
            " [0 0 0 0 5 0 1 0 0 0]\n",
            " [0 0 0 0 0 4 0 0 0 3]\n",
            " [0 0 0 0 0 0 0 4 2 0]\n",
            " [0 0 1 0 2 0 0 0 0 2]]\n"
          ]
        }
      ]
    },
    {
      "cell_type": "code",
      "source": [
        "P, Q = mf(ratings, k=3)\n",
        "\n",
        "print(P)  # User embeddings."
      ],
      "metadata": {
        "colab": {
          "base_uri": "https://localhost:8080/"
        },
        "id": "FqfR32rgtYKw",
        "outputId": "98a64e6a-bfee-4a85-adc7-d70abfc55422"
      },
      "execution_count": 47,
      "outputs": [
        {
          "output_type": "stream",
          "name": "stdout",
          "text": [
            "[[0.63030098 1.32632817 0.22731696]\n",
            " [0.91776555 1.65371568 1.13847576]\n",
            " [0.94394792 1.20334036 0.08460967]\n",
            " [1.48581284 1.84234102 0.85833273]\n",
            " [0.90108838 0.48804721 0.31216772]]\n"
          ]
        }
      ]
    },
    {
      "cell_type": "code",
      "source": [
        "print(Q)  # Item embeddings."
      ],
      "metadata": {
        "colab": {
          "base_uri": "https://localhost:8080/"
        },
        "id": "avIuG89Wta2j",
        "outputId": "a8a60b88-519d-4a19-ab7c-3a8c5cd2a306"
      },
      "execution_count": 48,
      "outputs": [
        {
          "output_type": "stream",
          "name": "stdout",
          "text": [
            "[[ 0.69258857  0.83594341  0.42432199]\n",
            " [ 0.8487743   0.54679121  0.35410346]\n",
            " [ 0.73827766  0.1010681   0.87686572]\n",
            " [ 0.33625828  0.89183268  0.296849  ]\n",
            " [ 0.87169152  1.62740441  1.29970871]\n",
            " [ 1.50389245  2.12570844  0.65550343]\n",
            " [ 0.37660684  0.52827304 -0.1436639 ]\n",
            " [ 1.11657344  0.99507904  0.50060044]\n",
            " [ 0.32235812  0.39279822  0.93554762]\n",
            " [ 1.48046418  1.27550157  0.17612006]]\n"
          ]
        }
      ]
    },
    {
      "cell_type": "code",
      "source": [
        "l2 = np.sqrt(pow(P, 2).sum(axis=1))\n",
        "\n",
        "np.outer(l2, l2)"
      ],
      "metadata": {
        "colab": {
          "base_uri": "https://localhost:8080/"
        },
        "id": "ElXkd3hcc4kz",
        "outputId": "cc4e9370-0f80-403b-8cb1-2e4941e8001f"
      },
      "execution_count": 50,
      "outputs": [
        {
          "output_type": "execute_result",
          "data": {
            "text/plain": [
              "array([[2.20809874, 3.28031986, 2.27611408, 3.74115548, 1.59185803],\n",
              "       [3.28031986, 4.87319621, 3.38136248, 5.557807  , 2.36484149],\n",
              "       [2.27611408, 3.38136248, 2.34622448, 3.85639307, 1.64089151],\n",
              "       [3.74115548, 5.557807  , 3.85639307, 6.33859532, 2.69706616],\n",
              "       [1.59185803, 2.36484149, 1.64089151, 2.69706616, 1.14759903]])"
            ]
          },
          "metadata": {},
          "execution_count": 50
        }
      ]
    },
    {
      "cell_type": "code",
      "source": [
        "l2"
      ],
      "metadata": {
        "colab": {
          "base_uri": "https://localhost:8080/"
        },
        "id": "rHb05fEsgNTo",
        "outputId": "e0fad202-bb34-4d12-8a78-f6ac36653562"
      },
      "execution_count": 55,
      "outputs": [
        {
          "output_type": "execute_result",
          "data": {
            "text/plain": [
              "array([1.48596727, 2.2075317 , 1.53173904, 2.51765671, 1.07126049])"
            ]
          },
          "metadata": {},
          "execution_count": 55
        }
      ]
    },
    {
      "cell_type": "code",
      "source": [
        "P.dot(P.T)"
      ],
      "metadata": {
        "colab": {
          "base_uri": "https://localhost:8080/"
        },
        "id": "iMnPPdUAf6s9",
        "outputId": "b9764ff8-9b5d-43e2-89fa-51b0ab2d27d2"
      },
      "execution_count": 51,
      "outputs": [
        {
          "output_type": "execute_result",
          "data": {
            "text/plain": [
              "array([[2.20809874, 3.03063306, 2.21022872, 3.57517167, 1.28622867],\n",
              "       [3.03063306, 4.87319621, 2.95263175, 5.38752708, 1.98947458],\n",
              "       [2.21022872, 2.95263175, 2.34622448, 3.69211649, 1.46427981],\n",
              "       [3.57517167, 5.38752708, 3.69211649, 6.33859532, 2.50594186],\n",
              "       [1.28622867, 1.98947458, 1.46427981, 2.50594186, 1.14759903]])"
            ]
          },
          "metadata": {},
          "execution_count": 51
        }
      ]
    },
    {
      "cell_type": "code",
      "source": [
        "P.dot(P.T) / np.outer(l2, l2)  # 유저 간 유사도를 구하기 위해 \n"
      ],
      "metadata": {
        "colab": {
          "base_uri": "https://localhost:8080/"
        },
        "id": "pA-AqsF8f7ny",
        "outputId": "10fdbe5a-af78-49d5-c2db-fa4b2ae5ac8f"
      },
      "execution_count": 53,
      "outputs": [
        {
          "output_type": "execute_result",
          "data": {
            "text/plain": [
              "array([[1.        , 0.9238834 , 0.97105358, 0.95563301, 0.80800464],\n",
              "       [0.9238834 , 1.        , 0.8732077 , 0.96936203, 0.84127185],\n",
              "       [0.97105358, 0.8732077 , 1.        , 0.95740149, 0.89236845],\n",
              "       [0.95563301, 0.96936203, 0.95740149, 1.        , 0.92913622],\n",
              "       [0.80800464, 0.84127185, 0.89236845, 0.92913622, 1.        ]])"
            ]
          },
          "metadata": {},
          "execution_count": 53
        }
      ]
    },
    {
      "cell_type": "code",
      "source": [
        "# User similarity.\n",
        "l2 = np.sqrt(pow(P, 2).sum(axis=1)) # 유저 행렬의 각 유저 별 벡터를 제곱 후 더한 뒤 제곱근 처리한 값\n",
        "user_sim = P.dot(P.T) / np.outer(l2, l2)  # 유저 간 유사도를 구하기 위해 \n",
        "print(np.round(user_sim, 2))"
      ],
      "metadata": {
        "colab": {
          "base_uri": "https://localhost:8080/"
        },
        "id": "Eza7b2F2tde1",
        "outputId": "05aa595a-3a44-4588-94b2-0865dabc4bab"
      },
      "execution_count": 56,
      "outputs": [
        {
          "output_type": "stream",
          "name": "stdout",
          "text": [
            "[[1.   0.92 0.97 0.96 0.81]\n",
            " [0.92 1.   0.87 0.97 0.84]\n",
            " [0.97 0.87 1.   0.96 0.89]\n",
            " [0.96 0.97 0.96 1.   0.93]\n",
            " [0.81 0.84 0.89 0.93 1.  ]]\n"
          ]
        }
      ]
    },
    {
      "cell_type": "code",
      "source": [
        "from sklearn.metrics.pairwise import cosine_similarity\n",
        "cosine_similarity(P)"
      ],
      "metadata": {
        "colab": {
          "base_uri": "https://localhost:8080/"
        },
        "id": "Wo9rpIvthSDo",
        "outputId": "cd9c0333-b097-4cb3-d051-522c5b41bc8a"
      },
      "execution_count": 57,
      "outputs": [
        {
          "output_type": "execute_result",
          "data": {
            "text/plain": [
              "array([[1.        , 0.9238834 , 0.97105358, 0.95563301, 0.80800464],\n",
              "       [0.9238834 , 1.        , 0.8732077 , 0.96936203, 0.84127185],\n",
              "       [0.97105358, 0.8732077 , 1.        , 0.95740149, 0.89236845],\n",
              "       [0.95563301, 0.96936203, 0.95740149, 1.        , 0.92913622],\n",
              "       [0.80800464, 0.84127185, 0.89236845, 0.92913622, 1.        ]])"
            ]
          },
          "metadata": {},
          "execution_count": 57
        }
      ]
    },
    {
      "cell_type": "code",
      "source": [
        "predictions = P.dot(Q.T)"
      ],
      "metadata": {
        "id": "kYpWfm11hkAU"
      },
      "execution_count": 58,
      "outputs": []
    },
    {
      "cell_type": "code",
      "source": [
        "mask = np.zeros_like(ratings)\n",
        "mask[ratings.nonzero()] = 1"
      ],
      "metadata": {
        "id": "yVfUdwcFhvZl"
      },
      "execution_count": 61,
      "outputs": []
    },
    {
      "cell_type": "code",
      "source": [
        "np.zeros_like(ratings)"
      ],
      "metadata": {
        "colab": {
          "base_uri": "https://localhost:8080/"
        },
        "id": "mrsmdfzVh6rc",
        "outputId": "79c00285-aac6-4080-8366-91e4639058b7"
      },
      "execution_count": 59,
      "outputs": [
        {
          "output_type": "execute_result",
          "data": {
            "text/plain": [
              "array([[0, 0, 0, 0, 0, 0, 0, 0, 0, 0],\n",
              "       [0, 0, 0, 0, 0, 0, 0, 0, 0, 0],\n",
              "       [0, 0, 0, 0, 0, 0, 0, 0, 0, 0],\n",
              "       [0, 0, 0, 0, 0, 0, 0, 0, 0, 0],\n",
              "       [0, 0, 0, 0, 0, 0, 0, 0, 0, 0]])"
            ]
          },
          "metadata": {},
          "execution_count": 59
        }
      ]
    },
    {
      "cell_type": "code",
      "source": [
        "mask"
      ],
      "metadata": {
        "colab": {
          "base_uri": "https://localhost:8080/"
        },
        "id": "0hhGhAB-h7Ga",
        "outputId": "38039916-2ee6-4f70-87cf-5e9eeb4dffaa"
      },
      "execution_count": 62,
      "outputs": [
        {
          "output_type": "execute_result",
          "data": {
            "text/plain": [
              "array([[0, 0, 0, 0, 1, 1, 1, 1, 0, 0],\n",
              "       [0, 0, 0, 0, 1, 0, 1, 0, 0, 0],\n",
              "       [0, 0, 0, 0, 0, 1, 0, 0, 0, 1],\n",
              "       [0, 0, 0, 0, 0, 0, 0, 1, 1, 0],\n",
              "       [0, 0, 1, 0, 1, 0, 0, 0, 0, 1]])"
            ]
          },
          "metadata": {},
          "execution_count": 62
        }
      ]
    },
    {
      "cell_type": "code",
      "source": [
        "predictions*(1-mask)"
      ],
      "metadata": {
        "colab": {
          "base_uri": "https://localhost:8080/"
        },
        "id": "k-3vP8aPiNbR",
        "outputId": "266b3f9d-e03b-47b7-8cf5-8da88729f763"
      },
      "execution_count": 65,
      "outputs": [
        {
          "output_type": "execute_result",
          "data": {
            "text/plain": [
              "array([[1.64173013, 1.34070158, 0.79871305, 1.46228554, 0.        ,\n",
              "        0.        , 0.        , 0.        , 0.93682782, 2.66490676],\n",
              "       [2.50112696, 2.08635122, 1.84299407, 2.12139934, 0.        ,\n",
              "        5.64181282, 0.        , 3.24025191, 2.01052404, 3.66854438],\n",
              "       [1.69559372, 1.48913524, 0.89270631, 1.41570485, 2.89112072,\n",
              "        0.        , 0.97903415, 2.29376158, 0.8561156 , 0.        ],\n",
              "       [2.93335929, 2.57243423, 2.03578689, 2.39747202, 5.40898689,\n",
              "        6.71342263, 1.40951494, 0.        , 0.        , 4.70077117],\n",
              "       [1.16452299, 1.14222026, 0.        , 0.83092156, 0.        ,\n",
              "        2.5972131 , 0.552331  , 1.6480482 , 0.774225  , 0.        ]])"
            ]
          },
          "metadata": {},
          "execution_count": 65
        }
      ]
    },
    {
      "cell_type": "code",
      "source": [
        ""
      ],
      "metadata": {
        "id": "T-Kmhjmxis1x"
      },
      "execution_count": null,
      "outputs": []
    }
  ]
}