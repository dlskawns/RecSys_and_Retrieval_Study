{
  "nbformat": 4,
  "nbformat_minor": 0,
  "metadata": {
    "colab": {
      "name": "Item2vec.ipynb",
      "provenance": [],
      "collapsed_sections": [],
      "authorship_tag": "ABX9TyOBcfVD/pvouMBSYKk4bLfn",
      "include_colab_link": true
    },
    "kernelspec": {
      "name": "python3",
      "display_name": "Python 3"
    },
    "language_info": {
      "name": "python"
    }
  },
  "cells": [
    {
      "cell_type": "markdown",
      "metadata": {
        "id": "view-in-github",
        "colab_type": "text"
      },
      "source": [
        "<a href=\"https://colab.research.google.com/github/dlskawns/RecSys_and_Retrieval_Study/blob/main/Item2vec.ipynb\" target=\"_parent\"><img src=\"https://colab.research.google.com/assets/colab-badge.svg\" alt=\"Open In Colab\"/></a>"
      ]
    },
    {
      "cell_type": "markdown",
      "source": [
        "# Item2Vec\n",
        "\n",
        "gensim package word2vec을 활용해 상품 명 기반으로 임베딩 하여 비슷한 상품들을 모아 연관추천을 하는 방법\n",
        "\n",
        "* 유저의 구매 목록을 활용해 구매 아이템 하나하나를 단어 대용으로 사용하는 방법입니다.\n",
        "* 일반적인 MF처럼 유저 - 아이템 매트릭스가 아니기 때문에 유저 식별없이 세션 단위로도 사용 가능합니다. \n",
        "* word2vec으로 아이템을 벡터화 -> item based CF보다 높은 성능\n",
        "  * skipgram negative sampling 기반"
      ],
      "metadata": {
        "id": "w8O7oVBmuxHI"
      }
    },
    {
      "cell_type": "markdown",
      "source": [
        "## Item2Vec의 방식\n",
        "* 유저 별, 세션 별 소비한 아이템 리스트 생성 -> 집합으로 변화(순서무시)\n",
        "  * 집합 내 아이템은 서로 유사하다 -> 그만큼 세션 단위로 잘게 쪼개야 한다.\n",
        "  * 그렇지 않으면 시기별로 다 다른 내용(아이템)들이 모두 한 집합 내에 쌓이게 된다.\n",
        "* 집합 내 두 아이템에 대한 SGNS word2vec의 positive sample\n",
        "  * 아이템이 5개라면 5C2로 10개의 PS가 생기고, 그 내부 중 하나씩 NS를 뽑아 skipgram 진행 후 임베딩을 진행\n",
        "* 하여 아이템 벡터(세션의 벡터)간의 유사도를 찾아 "
      ],
      "metadata": {
        "id": "rYQp8TGZyOhI"
      }
    },
    {
      "cell_type": "markdown",
      "source": [
        "## Item2Vec의 예시\n",
        "### * 아프리가TV Live2vec: \n",
        "* 유저시청 이력 = 문장\n",
        "* 방송 = 단어\n",
        "\n",
        "### * 쇼핑몰 계정 Item2vec:\n",
        "* 세션 내 구매 상품들 = 문장\n",
        "* 상품 =  단어\n",
        "\n",
        "### * Spotify Song2vec:\n",
        "* 플레이리스트 = 문장\n",
        "* 노래 = 단어\n"
      ],
      "metadata": {
        "id": "0U0finU69Jfo"
      }
    },
    {
      "cell_type": "code",
      "execution_count": null,
      "metadata": {
        "id": "pJxnGtW1utPk"
      },
      "outputs": [],
      "source": [
        ""
      ]
    }
  ]
}