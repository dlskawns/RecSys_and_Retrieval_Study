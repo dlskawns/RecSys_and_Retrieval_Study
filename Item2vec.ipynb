{
  "nbformat": 4,
  "nbformat_minor": 0,
  "metadata": {
    "colab": {
      "name": "Item2vec.ipynb",
      "provenance": [],
      "authorship_tag": "ABX9TyOolAoFVZMyLCvCd49GZWmP",
      "include_colab_link": true
    },
    "kernelspec": {
      "name": "python3",
      "display_name": "Python 3"
    },
    "language_info": {
      "name": "python"
    }
  },
  "cells": [
    {
      "cell_type": "markdown",
      "metadata": {
        "id": "view-in-github",
        "colab_type": "text"
      },
      "source": [
        "<a href=\"https://colab.research.google.com/github/dlskawns/RecSys_and_Retrieval_Study/blob/main/Item2vec.ipynb\" target=\"_parent\"><img src=\"https://colab.research.google.com/assets/colab-badge.svg\" alt=\"Open In Colab\"/></a>"
      ]
    },
    {
      "cell_type": "markdown",
      "source": [
        "# Item2Vec\n",
        "\n",
        "gensim package word2vec을 활용해 상품 명 기반으로 임베딩 하여 비슷한 상품들을 모아 연관추천을 하는 방법\n",
        "\n",
        "* 유저의 구매 목록을 활용해 구매 아이템 하나하나를 단어 대용으로 사용하는 방법입니다.\n",
        "* 일반적인 MF처럼 유저 - 아이템 매트릭스가 아니기 때문에 유저 식별없이 세션 단위로도 사용 가능합니다. \n",
        "* word2vec으로 아이템을 벡터화 -> item based CF보다 높은 성능\n",
        "  * skipgram negative sampling 기반"
      ],
      "metadata": {
        "id": "w8O7oVBmuxHI"
      }
    },
    {
      "cell_type": "code",
      "execution_count": null,
      "metadata": {
        "id": "pJxnGtW1utPk"
      },
      "outputs": [],
      "source": [
        ""
      ]
    }
  ]
}