{
  "nbformat": 4,
  "nbformat_minor": 0,
  "metadata": {
    "colab": {
      "name": "SVD(SingularVectorDecomposition).ipynb",
      "provenance": [],
      "machine_shape": "hm",
      "authorship_tag": "ABX9TyN9L60QreOPGuWJ6qYFqK4a",
      "include_colab_link": true
    },
    "kernelspec": {
      "name": "python3",
      "display_name": "Python 3"
    },
    "language_info": {
      "name": "python"
    },
    "accelerator": "GPU",
    "gpuClass": "standard"
  },
  "cells": [
    {
      "cell_type": "markdown",
      "metadata": {
        "id": "view-in-github",
        "colab_type": "text"
      },
      "source": [
        "<a href=\"https://colab.research.google.com/github/dlskawns/RecSys_and_Retrieval_Study/blob/main/SVD(SingularValueDecomposition).ipynb\" target=\"_parent\"><img src=\"https://colab.research.google.com/assets/colab-badge.svg\" alt=\"Open In Colab\"/></a>"
      ]
    },
    {
      "cell_type": "markdown",
      "source": [
        "# Surprise 패키지를 활용한 SVD 모델 구현\n",
        "\n",
        "## SVD 모델의 원리\n",
        "\n",
        "Singular Vector Decomposition을 이용한 모델.\n",
        "\n",
        "singular matrix = 역행렬이 없는 매트릭스를 의미\n",
        "det(A) = 0\n",
        "\n",
        "```\n",
        "a = [[a,b],\n",
        "     [c,d]]\n",
        "일때,\n",
        "det(A) = ad - bc\n",
        "\n",
        "A^-1 = det{A}^-1\n",
        "```\n",
        "\n",
        "A: 기존 Input data matrix [m x n] 행렬\n",
        "\n",
        "U: 왼쪽 singular matrix -> y에 따라 x가 무한이거나 존재하지 않음\n",
        "\n",
        "$\\sum$: r개의 특이값을 갖는 대각행렬\n",
        "\n",
        "V: 오른쪽 singluar matrix\n",
        "\n",
        "특이값(Singular Value): A에 대해 $A^TA$한 대칭행렬의 고유값을 구해 루트를 씌워준 값을 의미\n",
        "\n",
        "고유값(Eigen Value): 임의의 벡터 v에 선형변환 A를 적용했을 때, Av = $\\lambda$v를 만족하는 상황에서의 $\\lambda$값\n",
        "\n",
        "고유벡터(Eigen Vector): 위 상황에서의 v값을 의미하며, 고유값을 구한 뒤, 가우스 소거법을 이용해 계산한다. 고유벡터는 영벡터가 아닌 벡터를 의미\n",
        "\n",
        "SVD 특이값 분해의 이용: 정방행렬이 아닌 m x n 의 행렬 A에 대해서도 대칭행렬을 만들 수 있고 이를 바탕으로 행렬 분해가 가능하며, 차원의 축소 역시도 가능하게 만든다.\n",
        "\n",
        "\n",
        "\n",
        "\n",
        "\n"
      ],
      "metadata": {
        "id": "GjpYRVzcmaBk"
      }
    },
    {
      "cell_type": "code",
      "source": [
        "# print(data)"
      ],
      "metadata": {
        "id": "5g84AHWE6Gfj"
      },
      "execution_count": null,
      "outputs": []
    },
    {
      "cell_type": "code",
      "source": [
        "# model = SVD()"
      ],
      "metadata": {
        "id": "0HNLALkUp0Gx"
      },
      "execution_count": null,
      "outputs": []
    },
    {
      "cell_type": "code",
      "source": [
        "# cross_validate(model, data[:10], measures=['rmse', 'mae'], cv = 5, verbose = True)"
      ],
      "metadata": {
        "id": "AMCxdv8wp4MJ"
      },
      "execution_count": null,
      "outputs": []
    },
    {
      "cell_type": "markdown",
      "source": [
        "## Numpy package의 SVD를 이용해보기"
      ],
      "metadata": {
        "id": "APIE_71s09oL"
      }
    },
    {
      "cell_type": "code",
      "source": [
        "import numpy as np\n",
        "from numpy.linalg import svd\n",
        "\n",
        "# 4 x 4 행렬 생성\n",
        "np.random.seed(42)\n",
        "a = np.random.randn(4,4)  # 평균 0, 표준편차 1의 가우시간 난수 생성\n",
        "print(np.round(a, 3))"
      ],
      "metadata": {
        "id": "FPBW7VMaqBjh",
        "colab": {
          "base_uri": "https://localhost:8080/"
        },
        "outputId": "613f36d0-82ec-4d90-c34f-f2c1288e9bc5"
      },
      "execution_count": null,
      "outputs": [
        {
          "output_type": "stream",
          "name": "stdout",
          "text": [
            "[[ 0.497 -0.138  0.648  1.523]\n",
            " [-0.234 -0.234  1.579  0.767]\n",
            " [-0.469  0.543 -0.463 -0.466]\n",
            " [ 0.242 -1.913 -1.725 -0.562]]\n"
          ]
        }
      ]
    },
    {
      "cell_type": "markdown",
      "source": [
        "### $U$, $\\sum$, $V^T$ 확인해보기"
      ],
      "metadata": {
        "id": "pBfs0GXt1OQj"
      }
    },
    {
      "cell_type": "code",
      "source": [
        "# SVD 함수 적용해서 각 U, Sigma, Vt 확인해보기\n",
        "U, Sigma, Vt = svd(a)\n",
        "print('U:', np.round(U,3))\n",
        "print('Sigma:', np.round(Sigma,3))  # 시그마의 경우, 대각행렬의 요소값인 Singular Value를 내림차순으로 가져온다.\n",
        "print('Vt:', np.round(Vt,3))"
      ],
      "metadata": {
        "colab": {
          "base_uri": "https://localhost:8080/"
        },
        "id": "SuMmq9dwzlCh",
        "outputId": "245ba57c-3097-49a0-c65b-36958a13f1e5"
      },
      "execution_count": null,
      "outputs": [
        {
          "output_type": "stream",
          "name": "stdout",
          "text": [
            "U: [[-0.373 -0.598  0.642 -0.302]\n",
            " [-0.488 -0.35  -0.745 -0.289]\n",
            " [ 0.113  0.444  0.062 -0.887]\n",
            " [ 0.781 -0.568 -0.168 -0.197]]\n",
            "Sigma: [3.08  1.926 0.92  0.342]\n",
            "Vt: [[ 0.021 -0.412 -0.783 -0.466]\n",
            " [-0.291  0.775 -0.086 -0.554]\n",
            " [ 0.461  0.479 -0.544  0.512]\n",
            " [ 0.838  0.017  0.289 -0.462]]\n"
          ]
        }
      ]
    },
    {
      "cell_type": "code",
      "source": [
        "# 시그마의 대각행렬을 원상복구 해주는 방법: np.diag\n",
        "Sigma_matrix = np.diag(Sigma)\n",
        "print('Sigma :', np.round(Sigma_matrix, 3))"
      ],
      "metadata": {
        "colab": {
          "base_uri": "https://localhost:8080/"
        },
        "id": "s3Cid09600He",
        "outputId": "a1a892cc-88fa-4138-f217-5d36ea85b027"
      },
      "execution_count": null,
      "outputs": [
        {
          "output_type": "stream",
          "name": "stdout",
          "text": [
            "Sigma : [[3.08  0.    0.    0.   ]\n",
            " [0.    1.926 0.    0.   ]\n",
            " [0.    0.    0.92  0.   ]\n",
            " [0.    0.    0.    0.342]]\n"
          ]
        }
      ]
    },
    {
      "cell_type": "markdown",
      "source": [
        "### A = $U \\sum V^T$ 만들어보기"
      ],
      "metadata": {
        "id": "xq8dKDo_IVOS"
      }
    },
    {
      "cell_type": "code",
      "source": [
        "a_ = np.dot(np.dot(U,Sigma_matrix), Vt)\n",
        "print(np.round(a, 3) )  # 맨 처음의 매트릭스 a와 같음을 확인할 수 있다."
      ],
      "metadata": {
        "colab": {
          "base_uri": "https://localhost:8080/"
        },
        "id": "u3wUPRQNIgDf",
        "outputId": "42c42a2b-69a8-4015-db25-de8056c3ec05"
      },
      "execution_count": null,
      "outputs": [
        {
          "output_type": "stream",
          "name": "stdout",
          "text": [
            "[[ 0.497 -0.138  0.648  1.523]\n",
            " [-0.234 -0.234  1.579  0.767]\n",
            " [-0.469  0.543 -0.463 -0.466]\n",
            " [ 0.242 -1.913 -1.725 -0.562]]\n"
          ]
        }
      ]
    },
    {
      "cell_type": "markdown",
      "source": [
        "### COMPACT SVD 구현해보기\n"
      ],
      "metadata": {
        "id": "5N4FwEQwXFa8"
      }
    },
    {
      "cell_type": "code",
      "source": [
        "# 데이터 의존도가 서로 존재하는 행렬을 만들어본다.\n",
        "a[2] = a[0]+a[1]\n",
        "a[3] = a[0]"
      ],
      "metadata": {
        "id": "wRi3gEFD2fyM"
      },
      "execution_count": null,
      "outputs": []
    },
    {
      "cell_type": "code",
      "source": [
        "print(np.round(a,3))"
      ],
      "metadata": {
        "colab": {
          "base_uri": "https://localhost:8080/"
        },
        "id": "i_jNx0Ee3JP-",
        "outputId": "d0b5c875-d723-4fdb-a65f-a1660c09a9bf"
      },
      "execution_count": null,
      "outputs": [
        {
          "output_type": "stream",
          "name": "stdout",
          "text": [
            "[[ 0.497 -0.138  0.648  1.523]\n",
            " [-0.234 -0.234  1.579  0.767]\n",
            " [ 0.263 -0.372  2.227  2.29 ]\n",
            " [ 0.497 -0.138  0.648  1.523]]\n"
          ]
        }
      ]
    },
    {
      "cell_type": "code",
      "source": [
        "# SVD 분할진행\n",
        "U, Sigma, Vt = svd(a)\n",
        "print('U:', np.round(U,3))\n",
        "print('Sigma:', np.round(Sigma,3))  # 시그마의 3,4번째 특잇값이 0임을 확인할 수 있다.\n",
        "print('Vt:', np.round(Vt,3))"
      ],
      "metadata": {
        "colab": {
          "base_uri": "https://localhost:8080/"
        },
        "id": "QsmsNqGM3TDr",
        "outputId": "2ba50b2f-b465-4119-c209-f9fb3d74995a"
      },
      "execution_count": null,
      "outputs": [
        {
          "output_type": "stream",
          "name": "stdout",
          "text": [
            "U: [[-0.381  0.505  0.775  0.003]\n",
            " [-0.374 -0.679  0.256  0.579]\n",
            " [-0.755 -0.174 -0.256 -0.579]\n",
            " [-0.381  0.505 -0.519  0.575]]\n",
            "Sigma: [4.266 1.19  0.    0.   ]\n",
            "Vt: [[-0.115  0.111 -0.648 -0.745]\n",
            " [ 0.517  0.071 -0.677  0.52 ]\n",
            " [-0.848 -0.    -0.328  0.416]\n",
            " [ 0.024 -0.991 -0.121 -0.047]]\n"
          ]
        }
      ]
    },
    {
      "cell_type": "code",
      "source": [
        "# 특이값 행렬 시그마의 0을 제거한 Compact SVD를 진행한다.\n",
        "U_ = U[:, :2]\n",
        "Sigma_ = np.diag(Sigma[:2])\n",
        "Vt_ = Vt[:2]\n",
        "print('U_:', np.round(U_,3))\n",
        "print('Sigma_:', np.round(Sigma_,3))  \n",
        "print('Vt_:', np.round(Vt_,3))"
      ],
      "metadata": {
        "colab": {
          "base_uri": "https://localhost:8080/"
        },
        "id": "r77hih6v3Xk7",
        "outputId": "9e117873-3f8e-49fa-b436-46364041fd3d"
      },
      "execution_count": null,
      "outputs": [
        {
          "output_type": "stream",
          "name": "stdout",
          "text": [
            "U_: [[-0.381  0.505]\n",
            " [-0.374 -0.679]\n",
            " [-0.755 -0.174]\n",
            " [-0.381  0.505]]\n",
            "Sigma_: [[4.266 0.   ]\n",
            " [0.    1.19 ]]\n",
            "Vt_: [[-0.115  0.111 -0.648 -0.745]\n",
            " [ 0.517  0.071 -0.677  0.52 ]]\n"
          ]
        }
      ]
    },
    {
      "cell_type": "code",
      "source": [
        "# 다시 복구하기\n",
        "\n",
        "a_ = np.dot(np.dot(U_, Sigma_), Vt_)\n",
        "print(np.round(a_, 3))"
      ],
      "metadata": {
        "colab": {
          "base_uri": "https://localhost:8080/"
        },
        "id": "8IYZhXpMX8_K",
        "outputId": "44c833d6-28ad-4ac9-9f8e-732efa2ebe74"
      },
      "execution_count": null,
      "outputs": [
        {
          "output_type": "stream",
          "name": "stdout",
          "text": [
            "[[ 0.497 -0.138  0.648  1.523]\n",
            " [-0.234 -0.234  1.579  0.767]\n",
            " [ 0.263 -0.372  2.227  2.29 ]\n",
            " [ 0.497 -0.138  0.648  1.523]]\n"
          ]
        }
      ]
    },
    {
      "cell_type": "markdown",
      "source": [
        "## Scipy 패키지를 이용해 SVD 구현하기\n",
        "\n",
        "full_matrices = True -> U를 (M,M), Vt를 (N,N)으로 분할\n",
        "full_matrices = False -> U를 (M,k), Vt를 (k,N)으로 분할\n",
        "\n"
      ],
      "metadata": {
        "id": "kp4Pw_MvcvHP"
      }
    },
    {
      "cell_type": "code",
      "source": [
        "from scipy.sparse.linalg import svds\n",
        "from scipy.linalg import svd\n",
        "\n",
        "# 원본 행렬 생성\n",
        "np.random.seed(12)\n",
        "matrix = np.random.random((6,6))\n",
        "print( np.round(matrix, 3))"
      ],
      "metadata": {
        "colab": {
          "base_uri": "https://localhost:8080/"
        },
        "id": "cFkCXKYoYYJa",
        "outputId": "bb4302ef-af51-448a-fe90-dc3199a0593f"
      },
      "execution_count": null,
      "outputs": [
        {
          "output_type": "stream",
          "name": "stdout",
          "text": [
            "[[0.154 0.74  0.263 0.534 0.015 0.919]\n",
            " [0.901 0.033 0.957 0.137 0.284 0.606]\n",
            " [0.944 0.853 0.002 0.521 0.552 0.485]\n",
            " [0.768 0.161 0.765 0.021 0.135 0.116]\n",
            " [0.31  0.671 0.471 0.816 0.29  0.733]\n",
            " [0.703 0.328 0.335 0.978 0.625 0.95 ]]\n"
          ]
        }
      ]
    },
    {
      "cell_type": "code",
      "source": [
        "U, Sigma, Vt = svd(matrix, full_matrices = False)\n",
        "print('U:', np.round(U,3))\n",
        "print('Sigma:', np.round(Sigma,3)) \n",
        "print('Vt:', np.round(Vt,3))"
      ],
      "metadata": {
        "colab": {
          "base_uri": "https://localhost:8080/"
        },
        "id": "GYlCsGESdGag",
        "outputId": "92e7f423-4247-4c4f-fd69-5ac1ed31357c"
      },
      "execution_count": null,
      "outputs": [
        {
          "output_type": "stream",
          "name": "stdout",
          "text": [
            "U: [[-0.363  0.377  0.435  0.501 -0.449  0.292]\n",
            " [-0.385 -0.64   0.235 -0.061 -0.383 -0.487]\n",
            " [-0.443  0.149 -0.818  0.259 -0.13  -0.17 ]\n",
            " [-0.25  -0.582 -0.058  0.308  0.386  0.593]\n",
            " [-0.432  0.254  0.29   0.107  0.695 -0.413]\n",
            " [-0.524  0.151  0.006 -0.756 -0.055  0.357]]\n",
            "Sigma: [3.145 1.289 0.799 0.603 0.301 0.058]\n",
            "Vt: [[-0.482 -0.369 -0.329 -0.429 -0.269 -0.517]\n",
            " [-0.497  0.396 -0.611  0.414 -0.004  0.227]\n",
            " [-0.555 -0.226  0.54   0.099 -0.373  0.446]\n",
            " [ 0.008  0.768  0.177 -0.418 -0.442 -0.092]\n",
            " [-0.212  0.181  0.397  0.535  0.106 -0.684]\n",
            " [ 0.41  -0.182 -0.193  0.417 -0.762 -0.079]]\n"
          ]
        }
      ]
    },
    {
      "cell_type": "markdown",
      "source": [
        "### Scipy svd를 통해 Truncated SVD 구현해보기"
      ],
      "metadata": {
        "id": "cn-g4sjdfQgC"
      }
    },
    {
      "cell_type": "code",
      "source": [
        "#사용할 특이값 개수 지정\n",
        "num_comp = 4\n",
        "\n",
        "U_, Sigma_, Vt_ = svds(matrix, k = num_comp)\n",
        "print('U_:', np.round(U_,3))          # 4개의 특이값에 맞춰 행렬곱을 취할 수 있도록 행렬이 분할되었다.\n",
        "print('Sigma_:', np.round(Sigma_,3))  # 시그마 행렬에서는 4개의 특이값만을 가진 대각행렬이 된 것을 볼 수 있다.\n",
        "print('Vt_:', np.round(Vt_,3))        # U와 마찬가지."
      ],
      "metadata": {
        "colab": {
          "base_uri": "https://localhost:8080/"
        },
        "id": "2B494k8GfMZ_",
        "outputId": "916e4ad3-b24d-4862-d20e-539bf85d2974"
      },
      "execution_count": null,
      "outputs": [
        {
          "output_type": "stream",
          "name": "stdout",
          "text": [
            "U_: [[ 0.501  0.435  0.377  0.363]\n",
            " [-0.061  0.235 -0.64   0.385]\n",
            " [ 0.259 -0.818  0.149  0.443]\n",
            " [ 0.308 -0.058 -0.582  0.25 ]\n",
            " [ 0.107  0.29   0.254  0.432]\n",
            " [-0.756  0.006  0.151  0.524]]\n",
            "Sigma_: [0.603 0.799 1.289 3.145]\n",
            "Vt_: [[ 0.008  0.768  0.177 -0.418 -0.442 -0.092]\n",
            " [-0.555 -0.226  0.54   0.099 -0.373  0.446]\n",
            " [-0.497  0.396 -0.611  0.414 -0.004  0.227]\n",
            " [ 0.482  0.369  0.329  0.429  0.269  0.517]]\n"
          ]
        }
      ]
    },
    {
      "cell_type": "code",
      "source": [
        "# 행렬 다시 합치기 -> Truncated 이므로 0이 아닌 Singular Value도 없는 상태에서의 행렬곱을 취한것이므로, 그 값이 완전히 맨 처음의 값과 일치하진 않는다.\n",
        "\n",
        "a_ = np.dot(np.dot(U_, np.diag(Sigma_)), Vt_)\n",
        "print(np.round(a_, 3))"
      ],
      "metadata": {
        "colab": {
          "base_uri": "https://localhost:8080/"
        },
        "id": "vLpwtAWMftYF",
        "outputId": "b62dedaa-9a2d-4834-8e67-b8df646434ca"
      },
      "execution_count": null,
      "outputs": [
        {
          "output_type": "stream",
          "name": "stdout",
          "text": [
            "[[ 0.119  0.768  0.32   0.599  0.042  0.828]\n",
            " [ 0.888  0.049  0.997  0.211  0.274  0.525]\n",
            " [ 0.94   0.858  0.016  0.546  0.549  0.458]\n",
            " [ 0.779  0.146  0.725 -0.056  0.149  0.198]\n",
            " [ 0.364  0.629  0.383  0.714  0.249  0.874]\n",
            " [ 0.691  0.334  0.345  0.978  0.642  0.941]]\n"
          ]
        }
      ]
    },
    {
      "cell_type": "markdown",
      "source": [
        "## Scikit-Learn패키지를 이용해 SVD 해보기"
      ],
      "metadata": {
        "id": "eaPLzgTWhaio"
      }
    },
    {
      "cell_type": "code",
      "source": [
        "# 원본 행렬 생성\n",
        "np.random.seed(12)\n",
        "matrix = np.random.random((6,6))\n",
        "print( np.round(matrix, 3))"
      ],
      "metadata": {
        "colab": {
          "base_uri": "https://localhost:8080/"
        },
        "id": "gArT1AjUiGqe",
        "outputId": "1ccf7d16-68b9-4106-dbb7-8ab5e8d7470d"
      },
      "execution_count": null,
      "outputs": [
        {
          "output_type": "stream",
          "name": "stdout",
          "text": [
            "[[0.154 0.74  0.263 0.534 0.015 0.919]\n",
            " [0.901 0.033 0.957 0.137 0.284 0.606]\n",
            " [0.944 0.853 0.002 0.521 0.552 0.485]\n",
            " [0.768 0.161 0.765 0.021 0.135 0.116]\n",
            " [0.31  0.671 0.471 0.816 0.29  0.733]\n",
            " [0.703 0.328 0.335 0.978 0.625 0.95 ]]\n"
          ]
        }
      ]
    },
    {
      "cell_type": "code",
      "source": [
        "from sklearn.decomposition import TruncatedSVD\n",
        "\n",
        "tsvd = TruncatedSVD(n_components=4)\n",
        "tsvd.fit(matrix)\n",
        "a_tr = tsvd.transform(matrix)\n",
        "a_tr"
      ],
      "metadata": {
        "colab": {
          "base_uri": "https://localhost:8080/"
        },
        "id": "G6v8XMj7g4z-",
        "outputId": "949d5fdc-cabd-493a-e43f-9655e525011f"
      },
      "execution_count": null,
      "outputs": [
        {
          "output_type": "execute_result",
          "data": {
            "text/plain": [
              "array([[ 1.14188038, -0.48539404, -0.34749425, -0.30191158],\n",
              "       [ 1.20960458,  0.82529355, -0.1876061 ,  0.03686302],\n",
              "       [ 1.39327376, -0.19179119,  0.65318726, -0.15636906],\n",
              "       [ 0.78638259,  0.75033534,  0.04616277, -0.18548138],\n",
              "       [ 1.35902108, -0.32771741, -0.23137577, -0.06471603],\n",
              "       [ 1.64798258, -0.1950719 , -0.00497557,  0.4562135 ]])"
            ]
          },
          "metadata": {},
          "execution_count": 18
        }
      ]
    },
    {
      "cell_type": "code",
      "source": [],
      "metadata": {
        "id": "Vg7IWkpxhnDm"
      },
      "execution_count": null,
      "outputs": []
    },
    {
      "cell_type": "markdown",
      "source": [
        "## Matrix 유사도를 통한 추천\n",
        "\n",
        "각 영화를 본 내용을 바탕으로 가장 유사한 유저를 찾아 해당 유저가 본 영화를 추천한다."
      ],
      "metadata": {
        "id": "OOZoIhYljOPA"
      }
    },
    {
      "cell_type": "markdown",
      "source": [
        "\n",
        "\n",
        "### 인접행렬 및 유사도를 통한 가장 비슷한 유저 찾기"
      ],
      "metadata": {
        "id": "yUFVaHyQz_5h"
      }
    },
    {
      "cell_type": "code",
      "execution_count": null,
      "metadata": {
        "colab": {
          "base_uri": "https://localhost:8080/"
        },
        "id": "k-Tk0hGyo1KI",
        "outputId": "c7050101-9bbe-4c4a-8b8e-8afa2f7f6035"
      },
      "outputs": [
        {
          "output_type": "stream",
          "name": "stdout",
          "text": [
            "Collecting scikit-surprise\n",
            "  Downloading scikit-surprise-1.1.1.tar.gz (11.8 MB)\n",
            "\u001b[K     |████████████████████████████████| 11.8 MB 4.0 MB/s \n",
            "\u001b[?25hRequirement already satisfied: joblib>=0.11 in /usr/local/lib/python3.7/dist-packages (from scikit-surprise) (1.1.0)\n",
            "Requirement already satisfied: numpy>=1.11.2 in /usr/local/lib/python3.7/dist-packages (from scikit-surprise) (1.21.5)\n",
            "Requirement already satisfied: scipy>=1.0.0 in /usr/local/lib/python3.7/dist-packages (from scikit-surprise) (1.4.1)\n",
            "Requirement already satisfied: six>=1.10.0 in /usr/local/lib/python3.7/dist-packages (from scikit-surprise) (1.15.0)\n",
            "Building wheels for collected packages: scikit-surprise\n",
            "  Building wheel for scikit-surprise (setup.py) ... \u001b[?25l\u001b[?25hdone\n",
            "  Created wheel for scikit-surprise: filename=scikit_surprise-1.1.1-cp37-cp37m-linux_x86_64.whl size=1630194 sha256=87b62e2f5b059d8afc80f7f3786e4d7bfe7f2fa3f8d5db143868d1c76a9bb3b0\n",
            "  Stored in directory: /root/.cache/pip/wheels/76/44/74/b498c42be47b2406bd27994e16c5188e337c657025ab400c1c\n",
            "Successfully built scikit-surprise\n",
            "Installing collected packages: scikit-surprise\n",
            "Successfully installed scikit-surprise-1.1.1\n"
          ]
        }
      ],
      "source": [
        "!pip install scikit-surprise"
      ]
    },
    {
      "cell_type": "code",
      "source": [
        "from surprise import SVD\n",
        "from surprise import Dataset\n",
        "from surprise.model_selection import cross_validate"
      ],
      "metadata": {
        "id": "5eAtJkA7pQ-q"
      },
      "execution_count": null,
      "outputs": []
    },
    {
      "cell_type": "code",
      "source": [
        "\n",
        "data = Dataset.load_builtin('ml-100k', prompt = False)\n",
        "raw_data = np.array(data.raw_ratings, dtype = int)"
      ],
      "metadata": {
        "id": "YpXYsEqvpr50",
        "colab": {
          "base_uri": "https://localhost:8080/"
        },
        "outputId": "31aa0725-30ad-496a-a902-61b488024663"
      },
      "execution_count": null,
      "outputs": [
        {
          "output_type": "stream",
          "name": "stdout",
          "text": [
            "Trying to download dataset from http://files.grouplens.org/datasets/movielens/ml-100k.zip...\n",
            "Done! Dataset ml-100k has been saved to /root/.surprise_data/ml-100k\n"
          ]
        }
      ]
    },
    {
      "cell_type": "code",
      "source": [
        "# user와 movie의 index를 0부터 시작할 수 있도록 1씩 빼준다.\n",
        "raw_data[:, 0] -= 1\n",
        "raw_data[:, 1] -= 1\n",
        "\n",
        "n_users = np.max(raw_data[:, 0])\n",
        "n_movies = np.max(raw_data[:, 1])\n",
        "# shape 자체는 위에서 1씩 빼준것을 감안하여 1씩 더해준 것을 shape으로 둔다.\n",
        "shape= (n_users +1, n_movies +1)\n",
        "shape"
      ],
      "metadata": {
        "colab": {
          "base_uri": "https://localhost:8080/"
        },
        "id": "b9y_FksKn4v3",
        "outputId": "8b2a30da-dcd3-456a-8b1c-9e761a1eec1e"
      },
      "execution_count": null,
      "outputs": [
        {
          "output_type": "execute_result",
          "data": {
            "text/plain": [
              "(943, 1682)"
            ]
          },
          "metadata": {},
          "execution_count": 22
        }
      ]
    },
    {
      "cell_type": "code",
      "source": [
        "# 인접행렬 생성\n",
        "adj_matrix = np.ndarray(shape, dtype=int)\n",
        "adj_matrix"
      ],
      "metadata": {
        "colab": {
          "base_uri": "https://localhost:8080/"
        },
        "id": "1r0f-iDvpDCb",
        "outputId": "088cf13e-61b7-40ea-a7f8-2098cef968e1"
      },
      "execution_count": null,
      "outputs": [
        {
          "output_type": "execute_result",
          "data": {
            "text/plain": [
              "array([[0, 0, 0, ..., 0, 0, 0],\n",
              "       [0, 0, 0, ..., 0, 0, 0],\n",
              "       [0, 0, 0, ..., 0, 0, 0],\n",
              "       ...,\n",
              "       [0, 0, 0, ..., 0, 0, 0],\n",
              "       [0, 0, 0, ..., 0, 0, 0],\n",
              "       [0, 0, 0, ..., 0, 0, 0]])"
            ]
          },
          "metadata": {},
          "execution_count": 23
        }
      ]
    },
    {
      "cell_type": "code",
      "source": [
        "adj_matrix.shape  # 943개의 샘플(유저)과 1682개의 features(영화)에 대한 데이터"
      ],
      "metadata": {
        "colab": {
          "base_uri": "https://localhost:8080/"
        },
        "id": "RPiOnFTbswt0",
        "outputId": "64fbf976-5631-46bd-f40e-c8a69d13aaa4"
      },
      "execution_count": null,
      "outputs": [
        {
          "output_type": "execute_result",
          "data": {
            "text/plain": [
              "(943, 1682)"
            ]
          },
          "metadata": {},
          "execution_count": 24
        }
      ]
    },
    {
      "cell_type": "code",
      "source": [
        "for  user_id, movie_id, rating, time in raw_data:\n",
        "  adj_matrix[user_id][movie_id] = 1.  # 데이터가 있는 경우, 1로 설정해준다.\n",
        "adj_matrix\n"
      ],
      "metadata": {
        "colab": {
          "base_uri": "https://localhost:8080/"
        },
        "id": "NvLR_JDqpC_R",
        "outputId": "5e8d5fc5-3479-48e6-9cbc-ea9e3e0479c9"
      },
      "execution_count": null,
      "outputs": [
        {
          "output_type": "execute_result",
          "data": {
            "text/plain": [
              "array([[1, 1, 1, ..., 0, 0, 0],\n",
              "       [1, 0, 0, ..., 0, 0, 0],\n",
              "       [0, 0, 0, ..., 0, 0, 0],\n",
              "       ...,\n",
              "       [1, 0, 0, ..., 0, 0, 0],\n",
              "       [0, 0, 0, ..., 0, 0, 0],\n",
              "       [0, 1, 0, ..., 0, 0, 0]])"
            ]
          },
          "metadata": {},
          "execution_count": 25
        }
      ]
    },
    {
      "cell_type": "code",
      "source": [
        "len(adj_matrix)"
      ],
      "metadata": {
        "colab": {
          "base_uri": "https://localhost:8080/"
        },
        "id": "KETKPVg3apGQ",
        "outputId": "5a1ef276-93e4-4730-b709-0f711e177744"
      },
      "execution_count": null,
      "outputs": [
        {
          "output_type": "execute_result",
          "data": {
            "text/plain": [
              "943"
            ]
          },
          "metadata": {},
          "execution_count": 26
        }
      ]
    },
    {
      "cell_type": "code",
      "source": [
        "len(adj_matrix[0])"
      ],
      "metadata": {
        "colab": {
          "base_uri": "https://localhost:8080/"
        },
        "id": "_Pd9n8Cya1-N",
        "outputId": "3384c291-e72e-4bc9-a605-63e7d32e89e2"
      },
      "execution_count": null,
      "outputs": [
        {
          "output_type": "execute_result",
          "data": {
            "text/plain": [
              "1682"
            ]
          },
          "metadata": {},
          "execution_count": 27
        }
      ]
    },
    {
      "cell_type": "code",
      "source": [
        "# 추천 진행할 id와 matrix에서의 해당 id 설정\n",
        "id, vector = 0, adj_matrix[0]\n",
        "best_match, best_match_id, best_match_vector = -1,-1,[]\n",
        "\n",
        "for user_id, user_vector in enumerate(adj_matrix):\n",
        "  # 유저 id와 선택 id가 다른경우, 유사도를 체크 한다. 선택 id에 대해서는 할 필요가 없기 때문에 생랼\n",
        "  if id != user_id:\n",
        "    similarity = np.dot(vector, user_vector)\n",
        "    if similarity > best_match:  # 유사도가 기존 best_match보다 높을 경우\n",
        "      best_match = similarity # best_match에 해당 유사도 값을 넣어준다.\n",
        "      best_match_id = user_id # 현재 유사도를 계산한 유저 id를 best match id로 선정\n",
        "      best_match_vector = user_vector # 현재 유사도를 계산한 vector를 넣는다.\n",
        "\n",
        "print(f'Best Match (유사도 스코어): {best_match},\\nBest Match ID (id \"{id}\"번과 가장 유사한 id): {best_match_id}')\n"
      ],
      "metadata": {
        "colab": {
          "base_uri": "https://localhost:8080/"
        },
        "id": "SHN_ZSzWs0aj",
        "outputId": "e55fbe57-e491-4013-b134-2473a6231459"
      },
      "execution_count": null,
      "outputs": [
        {
          "output_type": "stream",
          "name": "stdout",
          "text": [
            "Best Match (유사도 스코어): 183,\n",
            "Best Match ID (id \"0\"번과 가장 유사한 id): 275\n"
          ]
        }
      ]
    },
    {
      "cell_type": "markdown",
      "source": [
        "### 특정 ID('0')에 대한 추천 리스트를 뽑아보기"
      ],
      "metadata": {
        "id": "ertsxGYqQFuN"
      }
    },
    {
      "cell_type": "code",
      "source": [
        "best_match_vector"
      ],
      "metadata": {
        "colab": {
          "base_uri": "https://localhost:8080/"
        },
        "id": "9UhJxAfRYpic",
        "outputId": "61122538-0644-40ba-f0ee-bda3ad62134b"
      },
      "execution_count": null,
      "outputs": [
        {
          "output_type": "execute_result",
          "data": {
            "text/plain": [
              "array([1, 1, 1, ..., 0, 0, 0])"
            ]
          },
          "metadata": {},
          "execution_count": 29
        }
      ]
    },
    {
      "cell_type": "code",
      "source": [
        "vector"
      ],
      "metadata": {
        "colab": {
          "base_uri": "https://localhost:8080/"
        },
        "id": "ZG2O3X6wYnPZ",
        "outputId": "c7ca286b-ee1e-4253-b778-62da179da1f1"
      },
      "execution_count": null,
      "outputs": [
        {
          "output_type": "execute_result",
          "data": {
            "text/plain": [
              "array([1, 1, 1, ..., 0, 0, 0])"
            ]
          },
          "metadata": {},
          "execution_count": 30
        }
      ]
    },
    {
      "cell_type": "code",
      "source": [
        "max(vector)"
      ],
      "metadata": {
        "colab": {
          "base_uri": "https://localhost:8080/"
        },
        "id": "HOzp3TCWd58C",
        "outputId": "f0978475-ee88-4a42-f62d-4ec2507e978c"
      },
      "execution_count": null,
      "outputs": [
        {
          "output_type": "execute_result",
          "data": {
            "text/plain": [
              "1"
            ]
          },
          "metadata": {},
          "execution_count": 31
        }
      ]
    },
    {
      "cell_type": "code",
      "source": [
        "recommendation = []\n",
        "for i, log in enumerate(zip(vector, best_match_vector)):\n",
        "  log1, log2 = log # 유저 0이 본 영화정보 vector(log1)와 유저 0과 비슷한 유저가 본 영화정보 best_match_vector(log2)를 비교하기 위함\n",
        "  # 기존에 본 영화(log1)은 배제하고(0인 경우), 보지 않았던 영화 중, 가장 유사한 유저가 본 영화(log2가 1인경우) \n",
        "  if log1 < 1. and log2 > 0.:\n",
        "    recommendation.append(i)\n",
        "print(recommendation)"
      ],
      "metadata": {
        "colab": {
          "base_uri": "https://localhost:8080/"
        },
        "id": "tqq9UxCgpC7f",
        "outputId": "d58af445-39b9-4f09-c657-e73f9e2dd6aa"
      },
      "execution_count": null,
      "outputs": [
        {
          "output_type": "stream",
          "name": "stdout",
          "text": [
            "[272, 273, 275, 280, 281, 283, 287, 288, 289, 290, 292, 293, 297, 299, 300, 301, 302, 306, 312, 314, 315, 316, 317, 321, 322, 323, 324, 327, 330, 331, 332, 333, 339, 342, 345, 346, 353, 354, 355, 356, 357, 363, 364, 365, 366, 372, 374, 378, 379, 381, 382, 383, 384, 385, 386, 387, 390, 391, 392, 394, 395, 396, 398, 400, 401, 402, 403, 404, 405, 406, 407, 408, 409, 410, 412, 414, 416, 417, 418, 419, 420, 422, 424, 425, 426, 427, 428, 430, 431, 432, 435, 442, 446, 447, 448, 449, 450, 451, 452, 454, 455, 457, 460, 461, 462, 468, 469, 470, 471, 472, 473, 474, 478, 495, 500, 507, 517, 522, 525, 530, 539, 540, 543, 545, 546, 548, 549, 550, 551, 553, 557, 558, 560, 561, 562, 563, 565, 566, 567, 568, 570, 571, 574, 575, 576, 577, 580, 581, 582, 585, 587, 589, 590, 594, 596, 602, 623, 626, 627, 630, 633, 635, 639, 646, 648, 651, 652, 654, 657, 664, 668, 671, 677, 678, 681, 683, 684, 685, 690, 691, 692, 695, 696, 708, 709, 714, 718, 719, 720, 724, 726, 727, 731, 733, 734, 736, 738, 741, 742, 745, 746, 747, 749, 750, 754, 758, 762, 764, 767, 768, 769, 770, 771, 772, 773, 778, 779, 782, 785, 788, 789, 793, 795, 796, 799, 800, 801, 802, 805, 806, 808, 815, 819, 822, 824, 830, 839, 842, 843, 844, 852, 853, 870, 875, 878, 880, 889, 901, 914, 915, 918, 921, 927, 929, 930, 938, 940, 941, 942, 948, 950, 958, 968, 973, 974, 976, 992, 999, 1005, 1009, 1010, 1012, 1015, 1018, 1027, 1030, 1034, 1035, 1041, 1043, 1045, 1046, 1051, 1055, 1072, 1073, 1078, 1080, 1082, 1088, 1089, 1090, 1094, 1097, 1108, 1109, 1117, 1128, 1130, 1134, 1139, 1140, 1144, 1156, 1169, 1171, 1179, 1193, 1198, 1207, 1209, 1212, 1217, 1219, 1220, 1227, 1231, 1238, 1239, 1243, 1244, 1252, 1266, 1272, 1273, 1300, 1313, 1406, 1412, 1415, 1470, 1477, 1480, 1481, 1482]\n"
          ]
        }
      ]
    },
    {
      "cell_type": "markdown",
      "source": [
        "### 유클리드 거리를 이용한 추천\n",
        "\n",
        "$euclidean = \\sqrt\\displaystyle\\sum_{d=i}^{D} (A_i - B_i)^2$\n",
        "\n",
        "유클리드 거리가 가까울 수록 지정 id와 유사한 사용자로 취급"
      ],
      "metadata": {
        "id": "2c714urs58NP"
      }
    },
    {
      "cell_type": "code",
      "source": [
        "for user_id, user_vector in enumerate(adj_matrix):\n",
        "  print(user_vector)"
      ],
      "metadata": {
        "colab": {
          "base_uri": "https://localhost:8080/"
        },
        "id": "OohPGnNY-DDA",
        "outputId": "4e19632f-e4a1-4deb-b618-bfa92837dcf6"
      },
      "execution_count": null,
      "outputs": [
        {
          "output_type": "stream",
          "name": "stdout",
          "text": [
            "[1 1 1 ... 0 0 0]\n",
            "[1 0 0 ... 0 0 0]\n",
            "[0 0 0 ... 0 0 0]\n",
            "[0 0 0 ... 0 0 0]\n",
            "[1 1 0 ... 0 0 0]\n",
            "[1 0 0 ... 0 0 0]\n",
            "[0 0 0 ... 0 0 0]\n",
            "[0 0 0 ... 0 0 0]\n",
            "[0 0 0 ... 0 0 0]\n",
            "[1 0 0 ... 0 0 0]\n",
            "[0 0 0 ... 0 0 0]\n",
            "[0 0 0 ... 0 0 0]\n",
            "[1 1 0 ... 0 0 0]\n",
            "[0 0 0 ... 0 0 0]\n",
            "[1 0 0 ... 0 0 0]\n",
            "[1 0 0 ... 0 0 0]\n",
            "[1 0 0 ... 0 0 0]\n",
            "[1 0 0 ... 0 0 0]\n",
            "[0 0 0 ... 0 0 0]\n",
            "[1 0 0 ... 0 0 0]\n",
            "[1 0 0 ... 0 0 0]\n",
            "[0 1 0 ... 0 0 0]\n",
            "[1 0 0 ... 0 0 0]\n",
            "[0 0 0 ... 0 0 0]\n",
            "[1 0 0 ... 0 0 0]\n",
            "[1 0 0 ... 0 0 0]\n",
            "[0 0 0 ... 0 0 0]\n",
            "[0 0 0 ... 0 0 0]\n",
            "[0 0 0 ... 0 0 0]\n",
            "[0 1 0 ... 0 0 0]\n",
            "[0 0 0 ... 0 0 0]\n",
            "[0 0 0 ... 0 0 0]\n",
            "[0 0 0 ... 0 0 0]\n",
            "[0 0 0 ... 0 0 0]\n",
            "[0 0 0 ... 0 0 0]\n",
            "[0 0 0 ... 0 0 0]\n",
            "[0 0 0 ... 0 0 0]\n",
            "[1 0 0 ... 0 0 0]\n",
            "[0 0 0 ... 0 0 0]\n",
            "[0 0 0 ... 0 0 0]\n",
            "[1 0 0 ... 0 0 0]\n",
            "[1 1 0 ... 0 0 0]\n",
            "[1 0 1 ... 0 0 0]\n",
            "[1 0 0 ... 0 0 0]\n",
            "[1 0 0 ... 0 0 0]\n",
            "[0 0 0 ... 0 0 0]\n",
            "[0 0 0 ... 0 0 0]\n",
            "[0 0 0 ... 0 0 0]\n",
            "[1 1 1 ... 0 0 0]\n",
            "[0 0 0 ... 0 0 0]\n",
            "[0 0 0 ... 0 0 0]\n",
            "[0 0 0 ... 0 0 0]\n",
            "[0 0 0 ... 0 0 0]\n",
            "[1 0 0 ... 0 0 0]\n",
            "[0 0 0 ... 0 0 0]\n",
            "[1 0 0 ... 0 0 0]\n",
            "[1 0 0 ... 0 0 0]\n",
            "[1 0 0 ... 0 0 0]\n",
            "[1 0 1 ... 0 0 0]\n",
            "[0 0 0 ... 0 0 0]\n",
            "[0 0 0 ... 0 0 0]\n",
            "[1 0 1 ... 0 0 0]\n",
            "[1 0 1 ... 0 0 0]\n",
            "[1 1 0 ... 0 0 0]\n",
            "[1 0 0 ... 0 0 0]\n",
            "[1 0 0 ... 0 0 0]\n",
            "[1 0 0 ... 0 0 0]\n",
            "[0 0 0 ... 0 0 0]\n",
            "[0 0 0 ... 0 0 0]\n",
            "[1 0 0 ... 0 0 0]\n",
            "[0 0 0 ... 0 0 0]\n",
            "[1 1 0 ... 0 0 0]\n",
            "[1 0 0 ... 0 0 0]\n",
            "[0 0 0 ... 0 0 0]\n",
            "[1 0 0 ... 0 0 0]\n",
            "[0 0 0 ... 0 0 0]\n",
            "[1 0 0 ... 0 0 0]\n",
            "[0 0 0 ... 0 0 0]\n",
            "[1 0 0 ... 0 0 0]\n",
            "[0 0 0 ... 0 0 0]\n",
            "[1 0 1 ... 0 0 0]\n",
            "[1 0 1 ... 0 0 0]\n",
            "[1 1 0 ... 0 0 0]\n",
            "[1 0 0 ... 0 0 0]\n",
            "[0 0 0 ... 0 0 0]\n",
            "[0 0 0 ... 0 0 0]\n",
            "[0 1 0 ... 0 0 0]\n",
            "[0 0 0 ... 0 0 0]\n",
            "[1 0 0 ... 0 0 0]\n",
            "[0 0 0 ... 0 0 0]\n",
            "[0 0 0 ... 0 0 0]\n",
            "[1 1 0 ... 0 0 0]\n",
            "[1 0 0 ... 0 0 0]\n",
            "[1 0 0 ... 0 0 0]\n",
            "[1 1 1 ... 0 0 0]\n",
            "[1 0 0 ... 0 0 0]\n",
            "[1 0 0 ... 0 0 0]\n",
            "[0 0 0 ... 0 0 0]\n",
            "[1 0 1 ... 0 0 0]\n",
            "[0 0 0 ... 0 0 0]\n",
            "[1 0 0 ... 0 0 0]\n",
            "[1 1 0 ... 0 0 0]\n",
            "[0 0 0 ... 0 0 0]\n",
            "[0 0 1 ... 0 0 0]\n",
            "[0 0 0 ... 0 0 0]\n",
            "[1 0 0 ... 0 0 0]\n",
            "[0 0 0 ... 0 0 0]\n",
            "[1 0 0 ... 0 0 0]\n",
            "[1 0 0 ... 0 0 0]\n",
            "[0 1 0 ... 0 0 0]\n",
            "[0 0 0 ... 0 0 0]\n",
            "[0 0 0 ... 0 0 0]\n",
            "[0 0 0 ... 0 0 0]\n",
            "[0 0 0 ... 0 0 0]\n",
            "[0 0 0 ... 0 0 0]\n",
            "[0 0 0 ... 0 0 0]\n",
            "[1 0 0 ... 0 0 0]\n",
            "[0 0 0 ... 0 0 0]\n",
            "[0 0 0 ... 0 0 0]\n",
            "[1 0 0 ... 0 0 0]\n",
            "[1 0 0 ... 0 0 0]\n",
            "[0 0 0 ... 0 0 0]\n",
            "[0 0 0 ... 0 0 0]\n",
            "[1 0 0 ... 0 0 0]\n",
            "[1 0 0 ... 0 0 0]\n",
            "[0 0 0 ... 0 0 0]\n",
            "[0 0 0 ... 0 0 0]\n",
            "[1 0 0 ... 0 0 0]\n",
            "[0 0 0 ... 0 0 0]\n",
            "[1 1 1 ... 0 0 0]\n",
            "[1 0 0 ... 0 0 0]\n",
            "[0 0 0 ... 0 0 0]\n",
            "[0 0 0 ... 0 0 0]\n",
            "[1 0 0 ... 0 0 0]\n",
            "[0 0 0 ... 0 0 0]\n",
            "[0 0 0 ... 0 0 0]\n",
            "[1 0 0 ... 0 0 0]\n",
            "[1 0 0 ... 0 0 0]\n",
            "[0 0 0 ... 0 0 0]\n",
            "[0 0 0 ... 0 0 0]\n",
            "[1 0 0 ... 0 0 0]\n",
            "[0 0 0 ... 0 0 0]\n",
            "[0 0 0 ... 0 0 0]\n",
            "[1 0 0 ... 0 0 0]\n",
            "[1 0 1 ... 0 0 0]\n",
            "[0 0 0 ... 0 0 0]\n",
            "[0 0 0 ... 0 0 0]\n",
            "[1 0 0 ... 0 0 0]\n",
            "[0 0 0 ... 0 0 0]\n",
            "[1 0 0 ... 0 0 0]\n",
            "[1 0 0 ... 0 0 0]\n",
            "[0 0 0 ... 0 0 0]\n",
            "[0 0 0 ... 0 0 0]\n",
            "[0 0 0 ... 0 0 0]\n",
            "[0 0 0 ... 0 0 0]\n",
            "[0 0 0 ... 0 0 0]\n",
            "[1 0 1 ... 0 0 0]\n",
            "[1 0 0 ... 0 0 0]\n",
            "[0 0 0 ... 0 0 0]\n",
            "[1 0 1 ... 0 0 0]\n",
            "[0 0 0 ... 0 0 0]\n",
            "[1 0 0 ... 0 0 0]\n",
            "[0 0 0 ... 0 0 0]\n",
            "[0 0 0 ... 0 0 0]\n",
            "[0 0 0 ... 0 0 0]\n",
            "[0 0 0 ... 0 0 0]\n",
            "[0 0 0 ... 0 0 0]\n",
            "[1 0 0 ... 0 0 0]\n",
            "[0 0 0 ... 0 0 0]\n",
            "[0 0 0 ... 0 0 0]\n",
            "[0 0 0 ... 0 0 0]\n",
            "[0 0 0 ... 0 0 0]\n",
            "[0 0 0 ... 0 0 0]\n",
            "[1 0 0 ... 0 0 0]\n",
            "[0 0 0 ... 0 0 0]\n",
            "[0 0 0 ... 0 0 0]\n",
            "[1 0 0 ... 0 0 0]\n",
            "[1 1 0 ... 0 0 0]\n",
            "[0 0 0 ... 0 0 0]\n",
            "[0 0 0 ... 0 0 0]\n",
            "[1 0 1 ... 0 0 0]\n",
            "[1 0 0 ... 0 0 0]\n",
            "[0 0 0 ... 0 0 0]\n",
            "[1 0 0 ... 0 0 0]\n",
            "[0 0 0 ... 0 0 0]\n",
            "[0 0 0 ... 0 0 0]\n",
            "[0 0 0 ... 0 0 0]\n",
            "[0 0 0 ... 0 0 0]\n",
            "[1 0 0 ... 0 0 0]\n",
            "[0 0 0 ... 0 0 0]\n",
            "[0 0 0 ... 0 0 0]\n",
            "[0 0 0 ... 0 0 0]\n",
            "[1 1 0 ... 0 0 0]\n",
            "[1 0 0 ... 0 0 0]\n",
            "[0 0 0 ... 0 0 0]\n",
            "[0 0 0 ... 0 0 0]\n",
            "[0 1 0 ... 0 0 0]\n",
            "[1 0 0 ... 0 0 0]\n",
            "[1 0 0 ... 0 0 0]\n",
            "[1 1 0 ... 0 0 0]\n",
            "[1 1 0 ... 0 0 0]\n",
            "[1 0 0 ... 0 0 0]\n",
            "[1 0 0 ... 0 0 0]\n",
            "[1 0 0 ... 0 0 0]\n",
            "[0 0 0 ... 0 0 0]\n",
            "[0 0 0 ... 0 0 0]\n",
            "[0 1 1 ... 0 0 0]\n",
            "[0 0 0 ... 0 0 0]\n",
            "[1 0 0 ... 0 0 0]\n",
            "[1 0 0 ... 0 0 0]\n",
            "[0 0 0 ... 0 0 0]\n",
            "[0 0 0 ... 0 0 0]\n",
            "[1 1 0 ... 0 0 0]\n",
            "[0 0 0 ... 0 0 0]\n",
            "[0 0 0 ... 0 0 0]\n",
            "[1 0 1 ... 0 0 0]\n",
            "[0 1 0 ... 0 0 0]\n",
            "[0 0 0 ... 0 0 0]\n",
            "[0 0 0 ... 0 0 0]\n",
            "[0 0 0 ... 0 0 0]\n",
            "[0 0 1 ... 0 0 0]\n",
            "[1 1 0 ... 0 0 0]\n",
            "[1 0 0 ... 0 0 0]\n",
            "[0 0 0 ... 0 0 0]\n",
            "[0 0 0 ... 0 0 0]\n",
            "[0 0 0 ... 0 0 0]\n",
            "[0 0 0 ... 0 0 0]\n",
            "[0 0 0 ... 0 0 0]\n",
            "[0 0 0 ... 0 0 0]\n",
            "[1 0 0 ... 0 0 0]\n",
            "[1 0 0 ... 0 0 0]\n",
            "[1 0 0 ... 0 0 0]\n",
            "[0 0 0 ... 0 0 0]\n",
            "[1 1 0 ... 0 0 0]\n",
            "[1 0 0 ... 0 0 0]\n",
            "[0 0 0 ... 0 0 0]\n",
            "[0 0 0 ... 0 0 0]\n",
            "[0 0 0 ... 0 0 0]\n",
            "[0 0 0 ... 0 0 0]\n",
            "[0 0 0 ... 0 0 0]\n",
            "[0 0 0 ... 0 0 0]\n",
            "[1 0 0 ... 0 0 0]\n",
            "[1 0 0 ... 0 0 0]\n",
            "[1 0 1 ... 0 0 0]\n",
            "[0 0 0 ... 0 0 0]\n",
            "[1 0 1 ... 0 0 0]\n",
            "[1 0 0 ... 0 0 0]\n",
            "[1 0 0 ... 0 0 0]\n",
            "[1 1 0 ... 0 0 0]\n",
            "[1 1 0 ... 0 0 0]\n",
            "[1 0 0 ... 0 0 0]\n",
            "[1 0 0 ... 0 0 0]\n",
            "[1 0 0 ... 0 0 0]\n",
            "[1 0 0 ... 0 0 0]\n",
            "[0 0 0 ... 0 0 0]\n",
            "[1 1 0 ... 0 0 0]\n",
            "[0 0 0 ... 0 0 0]\n",
            "[0 0 0 ... 0 0 0]\n",
            "[0 0 0 ... 0 0 0]\n",
            "[0 0 0 ... 0 0 0]\n",
            "[0 0 0 ... 0 0 0]\n",
            "[1 0 0 ... 0 0 0]\n",
            "[1 0 0 ... 0 0 0]\n",
            "[0 0 0 ... 0 0 0]\n",
            "[1 0 0 ... 0 0 0]\n",
            "[0 0 0 ... 0 0 0]\n",
            "[0 1 1 ... 0 0 0]\n",
            "[1 1 1 ... 0 0 0]\n",
            "[0 0 1 ... 0 0 0]\n",
            "[0 0 0 ... 0 0 0]\n",
            "[1 1 0 ... 0 0 0]\n",
            "[0 0 0 ... 0 0 0]\n",
            "[0 0 0 ... 0 0 0]\n",
            "[1 0 0 ... 0 0 0]\n",
            "[1 0 0 ... 0 0 0]\n",
            "[1 1 1 ... 0 0 0]\n",
            "[1 0 0 ... 0 0 0]\n",
            "[0 0 0 ... 0 0 0]\n",
            "[1 1 0 ... 0 0 0]\n",
            "[1 1 1 ... 0 0 0]\n",
            "[0 0 0 ... 0 0 0]\n",
            "[0 0 0 ... 0 0 0]\n",
            "[0 0 0 ... 0 0 0]\n",
            "[0 0 0 ... 0 0 0]\n",
            "[0 0 0 ... 0 0 0]\n",
            "[1 0 1 ... 0 0 0]\n",
            "[1 0 0 ... 0 0 0]\n",
            "[0 0 0 ... 0 0 0]\n",
            "[1 0 0 ... 0 0 0]\n",
            "[1 0 0 ... 0 0 0]\n",
            "[1 0 1 ... 0 0 0]\n",
            "[1 1 0 ... 0 0 0]\n",
            "[1 1 1 ... 0 0 0]\n",
            "[1 0 0 ... 0 0 0]\n",
            "[1 0 0 ... 0 0 0]\n",
            "[1 0 0 ... 0 0 0]\n",
            "[1 0 0 ... 0 0 0]\n",
            "[1 0 0 ... 0 0 0]\n",
            "[1 0 0 ... 0 0 0]\n",
            "[0 0 0 ... 0 0 0]\n",
            "[1 1 1 ... 0 0 0]\n",
            "[0 0 0 ... 0 0 0]\n",
            "[1 1 1 ... 0 0 0]\n",
            "[0 0 0 ... 0 0 0]\n",
            "[1 1 0 ... 0 0 0]\n",
            "[0 0 0 ... 0 0 0]\n",
            "[1 0 0 ... 0 0 0]\n",
            "[1 0 0 ... 0 0 0]\n",
            "[0 0 0 ... 0 0 0]\n",
            "[0 0 0 ... 0 0 0]\n",
            "[1 0 0 ... 0 0 0]\n",
            "[1 0 0 ... 0 0 0]\n",
            "[1 0 0 ... 0 0 0]\n",
            "[1 0 0 ... 0 0 0]\n",
            "[0 0 0 ... 0 0 0]\n",
            "[0 0 0 ... 0 0 0]\n",
            "[0 0 0 ... 0 0 0]\n",
            "[0 0 0 ... 0 0 0]\n",
            "[0 0 0 ... 0 0 0]\n",
            "[1 1 1 ... 0 0 0]\n",
            "[0 0 0 ... 0 0 0]\n",
            "[1 0 0 ... 0 0 0]\n",
            "[0 0 0 ... 0 0 0]\n",
            "[1 0 0 ... 0 0 0]\n",
            "[1 1 0 ... 0 0 0]\n",
            "[1 0 0 ... 0 0 0]\n",
            "[1 1 0 ... 0 0 0]\n",
            "[0 0 0 ... 0 0 0]\n",
            "[0 0 0 ... 0 0 0]\n",
            "[1 0 0 ... 0 0 0]\n",
            "[1 0 0 ... 0 0 0]\n",
            "[1 0 0 ... 0 0 0]\n",
            "[0 0 0 ... 0 0 0]\n",
            "[0 0 0 ... 0 0 0]\n",
            "[0 0 0 ... 0 0 0]\n",
            "[1 0 1 ... 0 0 0]\n",
            "[0 0 0 ... 0 0 0]\n",
            "[1 0 0 ... 0 0 0]\n",
            "[1 0 0 ... 0 0 0]\n",
            "[1 0 0 ... 0 0 0]\n",
            "[0 0 0 ... 0 0 0]\n",
            "[0 0 1 ... 0 0 0]\n",
            "[1 0 1 ... 0 0 0]\n",
            "[1 0 0 ... 0 0 0]\n",
            "[1 0 0 ... 0 0 0]\n",
            "[0 1 1 ... 0 0 0]\n",
            "[1 0 0 ... 0 0 0]\n",
            "[1 0 0 ... 0 0 0]\n",
            "[0 0 0 ... 0 0 0]\n",
            "[1 0 0 ... 0 0 0]\n",
            "[0 0 0 ... 0 0 0]\n",
            "[0 0 0 ... 0 0 0]\n",
            "[0 0 0 ... 0 0 0]\n",
            "[0 0 0 ... 0 0 0]\n",
            "[0 0 0 ... 0 0 0]\n",
            "[0 0 0 ... 0 0 0]\n",
            "[1 0 0 ... 0 0 0]\n",
            "[0 0 0 ... 0 0 0]\n",
            "[1 0 0 ... 0 0 0]\n",
            "[1 0 0 ... 0 0 0]\n",
            "[0 0 0 ... 0 0 0]\n",
            "[0 0 0 ... 0 0 0]\n",
            "[1 1 0 ... 0 0 0]\n",
            "[0 0 0 ... 0 0 0]\n",
            "[1 0 0 ... 0 0 0]\n",
            "[0 0 0 ... 0 0 0]\n",
            "[0 0 0 ... 0 0 0]\n",
            "[0 0 0 ... 0 0 0]\n",
            "[0 0 0 ... 0 0 0]\n",
            "[0 0 0 ... 0 0 0]\n",
            "[1 0 0 ... 0 0 0]\n",
            "[0 0 0 ... 0 0 0]\n",
            "[0 1 0 ... 0 0 0]\n",
            "[1 1 0 ... 0 0 0]\n",
            "[0 0 0 ... 0 0 0]\n",
            "[0 0 0 ... 0 0 0]\n",
            "[0 0 0 ... 0 0 0]\n",
            "[1 1 0 ... 0 0 0]\n",
            "[1 1 0 ... 0 0 0]\n",
            "[1 0 0 ... 0 0 0]\n",
            "[1 0 0 ... 0 0 0]\n",
            "[0 0 0 ... 0 0 0]\n",
            "[0 0 0 ... 0 0 0]\n",
            "[0 0 0 ... 0 0 0]\n",
            "[0 1 0 ... 0 0 0]\n",
            "[0 0 0 ... 0 0 0]\n",
            "[1 1 0 ... 0 0 0]\n",
            "[1 0 0 ... 0 0 0]\n",
            "[1 0 0 ... 0 0 0]\n",
            "[1 0 0 ... 0 0 0]\n",
            "[0 0 0 ... 0 0 0]\n",
            "[0 0 0 ... 0 0 0]\n",
            "[1 1 1 ... 0 0 0]\n",
            "[1 0 0 ... 0 0 0]\n",
            "[1 0 0 ... 0 0 0]\n",
            "[1 0 0 ... 0 0 0]\n",
            "[0 0 0 ... 0 0 0]\n",
            "[1 1 0 ... 0 0 0]\n",
            "[1 1 0 ... 0 0 0]\n",
            "[0 0 0 ... 0 0 0]\n",
            "[1 0 0 ... 0 0 0]\n",
            "[1 0 0 ... 0 0 0]\n",
            "[1 0 0 ... 0 0 0]\n",
            "[0 0 0 ... 0 0 0]\n",
            "[0 1 0 ... 0 0 0]\n",
            "[1 0 1 ... 0 0 0]\n",
            "[1 1 0 ... 0 0 0]\n",
            "[0 0 0 ... 0 0 0]\n",
            "[0 0 0 ... 0 0 0]\n",
            "[0 0 0 ... 0 0 0]\n",
            "[1 0 0 ... 0 0 0]\n",
            "[1 0 0 ... 0 0 0]\n",
            "[0 0 0 ... 0 0 0]\n",
            "[0 0 0 ... 0 0 0]\n",
            "[0 0 0 ... 0 0 0]\n",
            "[1 1 0 ... 0 0 0]\n",
            "[1 0 1 ... 0 0 0]\n",
            "[0 0 0 ... 0 0 0]\n",
            "[1 0 0 ... 0 0 0]\n",
            "[0 0 0 ... 0 0 0]\n",
            "[0 0 0 ... 0 0 0]\n",
            "[1 0 0 ... 0 0 0]\n",
            "[0 0 0 ... 0 0 0]\n",
            "[1 0 0 ... 0 0 0]\n",
            "[1 1 0 ... 0 0 0]\n",
            "[0 0 0 ... 0 0 0]\n",
            "[0 0 0 ... 0 0 0]\n",
            "[0 0 0 ... 0 0 0]\n",
            "[1 1 1 ... 0 0 0]\n",
            "[0 0 0 ... 0 0 0]\n",
            "[0 0 0 ... 0 0 0]\n",
            "[1 0 1 ... 0 0 0]\n",
            "[0 0 0 ... 0 0 0]\n",
            "[1 0 0 ... 0 0 0]\n",
            "[1 1 1 ... 0 0 0]\n",
            "[0 0 0 ... 0 0 0]\n",
            "[0 0 0 ... 0 0 0]\n",
            "[1 0 0 ... 0 0 0]\n",
            "[0 0 0 ... 0 0 0]\n",
            "[0 0 0 ... 0 0 0]\n",
            "[1 0 0 ... 0 0 0]\n",
            "[0 1 0 ... 0 0 0]\n",
            "[0 0 0 ... 0 0 0]\n",
            "[0 0 0 ... 0 0 0]\n",
            "[1 0 0 ... 0 0 0]\n",
            "[0 0 0 ... 0 0 0]\n",
            "[1 0 0 ... 0 0 0]\n",
            "[0 0 0 ... 0 0 0]\n",
            "[0 0 0 ... 0 0 0]\n",
            "[1 1 1 ... 0 0 0]\n",
            "[0 0 0 ... 0 0 0]\n",
            "[0 0 0 ... 0 0 0]\n",
            "[0 0 1 ... 0 0 0]\n",
            "[1 0 0 ... 0 0 0]\n",
            "[1 1 0 ... 0 0 0]\n",
            "[1 0 1 ... 0 0 0]\n",
            "[1 0 0 ... 0 0 0]\n",
            "[1 0 0 ... 0 0 0]\n",
            "[1 0 1 ... 0 0 0]\n",
            "[1 0 0 ... 0 0 0]\n",
            "[0 0 0 ... 0 0 0]\n",
            "[0 0 0 ... 0 0 0]\n",
            "[1 0 1 ... 0 0 0]\n",
            "[0 0 0 ... 0 0 0]\n",
            "[1 0 0 ... 0 0 0]\n",
            "[0 1 0 ... 0 0 0]\n",
            "[1 0 0 ... 0 0 0]\n",
            "[1 0 0 ... 0 0 0]\n",
            "[0 0 0 ... 0 0 0]\n",
            "[1 0 0 ... 0 0 0]\n",
            "[1 0 0 ... 0 0 0]\n",
            "[1 1 1 ... 0 0 0]\n",
            "[0 0 0 ... 0 0 0]\n",
            "[0 0 0 ... 0 0 0]\n",
            "[0 0 0 ... 0 0 0]\n",
            "[0 0 0 ... 0 0 0]\n",
            "[0 0 0 ... 0 0 0]\n",
            "[1 0 0 ... 0 0 0]\n",
            "[1 0 0 ... 0 0 0]\n",
            "[0 0 0 ... 0 0 0]\n",
            "[0 0 0 ... 0 0 0]\n",
            "[0 0 0 ... 0 0 0]\n",
            "[1 0 0 ... 0 0 0]\n",
            "[1 1 0 ... 0 0 0]\n",
            "[0 0 0 ... 0 0 0]\n",
            "[1 0 1 ... 0 0 0]\n",
            "[1 1 1 ... 0 0 0]\n",
            "[1 0 0 ... 0 0 0]\n",
            "[0 0 0 ... 0 0 0]\n",
            "[1 0 0 ... 0 0 0]\n",
            "[0 0 0 ... 0 0 0]\n",
            "[0 0 0 ... 0 0 0]\n",
            "[1 0 0 ... 0 0 0]\n",
            "[1 0 0 ... 0 0 0]\n",
            "[1 1 0 ... 0 0 0]\n",
            "[0 0 0 ... 0 0 0]\n",
            "[1 1 1 ... 0 0 0]\n",
            "[0 0 0 ... 0 0 0]\n",
            "[0 0 0 ... 0 0 0]\n",
            "[1 0 1 ... 0 0 0]\n",
            "[0 0 0 ... 0 0 0]\n",
            "[0 0 0 ... 0 0 0]\n",
            "[1 0 0 ... 0 0 0]\n",
            "[0 0 0 ... 0 0 0]\n",
            "[1 0 0 ... 0 0 0]\n",
            "[0 1 0 ... 0 0 0]\n",
            "[0 0 0 ... 0 0 0]\n",
            "[1 0 0 ... 0 0 0]\n",
            "[0 0 0 ... 0 0 0]\n",
            "[0 0 0 ... 0 0 0]\n",
            "[0 0 0 ... 0 0 0]\n",
            "[1 0 0 ... 0 0 0]\n",
            "[0 0 0 ... 0 0 0]\n",
            "[1 0 0 ... 0 0 0]\n",
            "[0 0 0 ... 0 0 0]\n",
            "[0 0 0 ... 0 0 0]\n",
            "[1 0 0 ... 0 0 0]\n",
            "[1 0 0 ... 0 0 0]\n",
            "[0 0 0 ... 0 0 0]\n",
            "[0 0 0 ... 0 0 0]\n",
            "[1 1 0 ... 0 0 0]\n",
            "[0 0 0 ... 0 0 0]\n",
            "[1 0 1 ... 0 0 0]\n",
            "[0 0 0 ... 0 0 0]\n",
            "[1 0 0 ... 0 0 0]\n",
            "[1 0 0 ... 0 0 0]\n",
            "[0 0 0 ... 0 0 0]\n",
            "[0 0 0 ... 0 0 0]\n",
            "[0 0 0 ... 0 0 0]\n",
            "[0 0 0 ... 0 0 0]\n",
            "[0 0 0 ... 0 0 0]\n",
            "[1 1 0 ... 0 0 0]\n",
            "[1 0 0 ... 0 0 0]\n",
            "[1 0 1 ... 0 0 0]\n",
            "[1 0 0 ... 0 0 0]\n",
            "[1 1 0 ... 0 0 0]\n",
            "[1 0 1 ... 0 0 0]\n",
            "[0 0 0 ... 0 0 0]\n",
            "[0 0 0 ... 0 0 0]\n",
            "[1 0 0 ... 0 0 0]\n",
            "[1 0 0 ... 0 0 0]\n",
            "[1 0 0 ... 0 0 0]\n",
            "[0 1 0 ... 0 0 0]\n",
            "[0 0 0 ... 0 0 0]\n",
            "[1 0 0 ... 0 0 0]\n",
            "[0 0 0 ... 0 0 0]\n",
            "[0 0 0 ... 0 0 0]\n",
            "[1 0 1 ... 0 0 0]\n",
            "[1 0 0 ... 0 0 0]\n",
            "[1 0 0 ... 0 0 0]\n",
            "[0 1 1 ... 0 0 0]\n",
            "[1 0 0 ... 0 0 0]\n",
            "[1 0 0 ... 0 0 0]\n",
            "[1 0 0 ... 0 0 0]\n",
            "[0 0 0 ... 0 0 0]\n",
            "[0 0 0 ... 0 0 0]\n",
            "[0 0 0 ... 0 0 0]\n",
            "[0 0 0 ... 0 0 0]\n",
            "[0 0 0 ... 0 0 0]\n",
            "[1 0 0 ... 0 0 0]\n",
            "[1 1 1 ... 0 0 0]\n",
            "[1 0 0 ... 0 0 0]\n",
            "[0 0 0 ... 0 0 0]\n",
            "[0 0 0 ... 0 0 0]\n",
            "[0 0 0 ... 0 0 0]\n",
            "[0 1 0 ... 0 0 0]\n",
            "[1 0 0 ... 0 0 0]\n",
            "[0 0 0 ... 0 0 0]\n",
            "[1 0 1 ... 0 0 0]\n",
            "[0 0 0 ... 0 0 0]\n",
            "[0 0 0 ... 0 0 0]\n",
            "[0 0 0 ... 0 0 0]\n",
            "[0 0 0 ... 0 0 0]\n",
            "[0 0 0 ... 0 0 0]\n",
            "[0 0 0 ... 0 0 0]\n",
            "[1 0 0 ... 0 0 0]\n",
            "[1 0 0 ... 0 0 0]\n",
            "[0 0 0 ... 0 0 0]\n",
            "[1 0 0 ... 0 0 0]\n",
            "[1 0 1 ... 0 0 0]\n",
            "[0 0 0 ... 0 0 0]\n",
            "[1 0 1 ... 0 0 0]\n",
            "[0 0 0 ... 0 0 0]\n",
            "[0 0 0 ... 0 0 0]\n",
            "[0 0 0 ... 0 0 0]\n",
            "[0 0 1 ... 0 0 0]\n",
            "[0 0 0 ... 0 0 0]\n",
            "[1 0 0 ... 0 0 0]\n",
            "[0 0 0 ... 0 0 0]\n",
            "[0 0 0 ... 0 0 0]\n",
            "[0 0 0 ... 0 0 0]\n",
            "[1 0 1 ... 0 0 0]\n",
            "[1 0 0 ... 0 0 0]\n",
            "[0 0 0 ... 0 0 0]\n",
            "[0 0 1 ... 0 0 0]\n",
            "[0 0 0 ... 0 0 0]\n",
            "[1 0 0 ... 0 0 0]\n",
            "[0 0 0 ... 0 0 0]\n",
            "[1 0 0 ... 0 0 0]\n",
            "[0 1 0 ... 0 0 0]\n",
            "[0 0 0 ... 0 0 0]\n",
            "[1 0 0 ... 0 0 0]\n",
            "[0 0 0 ... 0 0 0]\n",
            "[0 0 0 ... 0 0 0]\n",
            "[1 0 0 ... 0 0 0]\n",
            "[1 0 1 ... 0 0 0]\n",
            "[0 0 0 ... 0 0 0]\n",
            "[0 0 0 ... 0 0 0]\n",
            "[1 0 0 ... 0 0 0]\n",
            "[1 0 0 ... 0 0 0]\n",
            "[0 0 0 ... 0 0 0]\n",
            "[1 0 0 ... 0 0 0]\n",
            "[1 0 0 ... 0 0 0]\n",
            "[1 0 0 ... 0 0 0]\n",
            "[0 0 0 ... 0 0 0]\n",
            "[0 0 0 ... 0 0 0]\n",
            "[0 0 0 ... 0 0 0]\n",
            "[1 1 0 ... 0 0 0]\n",
            "[0 0 0 ... 0 0 0]\n",
            "[1 0 0 ... 0 0 0]\n",
            "[1 1 1 ... 0 0 0]\n",
            "[1 1 1 ... 0 0 0]\n",
            "[0 0 0 ... 0 0 0]\n",
            "[1 0 1 ... 0 0 0]\n",
            "[0 0 0 ... 0 0 0]\n",
            "[0 0 0 ... 0 0 0]\n",
            "[0 1 0 ... 0 0 0]\n",
            "[0 0 0 ... 0 0 0]\n",
            "[0 0 0 ... 0 0 0]\n",
            "[1 0 0 ... 0 0 0]\n",
            "[0 0 0 ... 0 0 0]\n",
            "[1 1 0 ... 0 0 0]\n",
            "[0 0 0 ... 0 0 0]\n",
            "[1 0 0 ... 0 0 0]\n",
            "[1 0 0 ... 0 0 0]\n",
            "[1 0 0 ... 0 0 0]\n",
            "[1 0 0 ... 0 0 0]\n",
            "[0 0 0 ... 0 0 0]\n",
            "[0 0 0 ... 0 0 0]\n",
            "[0 1 0 ... 0 0 0]\n",
            "[0 0 0 ... 0 0 0]\n",
            "[1 1 0 ... 0 0 0]\n",
            "[1 1 0 ... 0 0 0]\n",
            "[0 0 0 ... 0 0 0]\n",
            "[0 0 0 ... 0 0 0]\n",
            "[0 0 0 ... 0 0 0]\n",
            "[0 0 0 ... 0 0 0]\n",
            "[1 1 0 ... 0 0 0]\n",
            "[1 0 0 ... 0 0 0]\n",
            "[1 1 0 ... 0 0 0]\n",
            "[0 0 0 ... 0 0 0]\n",
            "[0 0 0 ... 0 0 0]\n",
            "[1 1 0 ... 0 0 0]\n",
            "[1 0 1 ... 0 0 0]\n",
            "[1 1 0 ... 0 0 0]\n",
            "[0 0 0 ... 0 0 0]\n",
            "[1 0 0 ... 0 0 0]\n",
            "[1 0 0 ... 0 0 0]\n",
            "[0 0 0 ... 0 0 0]\n",
            "[1 1 1 ... 0 0 0]\n",
            "[1 0 0 ... 0 0 0]\n",
            "[0 0 0 ... 0 0 0]\n",
            "[1 0 1 ... 0 0 0]\n",
            "[1 0 0 ... 0 0 0]\n",
            "[1 0 0 ... 0 0 0]\n",
            "[0 0 0 ... 0 0 0]\n",
            "[0 0 0 ... 0 0 0]\n",
            "[0 0 0 ... 0 0 0]\n",
            "[1 0 0 ... 0 0 0]\n",
            "[0 0 0 ... 0 0 0]\n",
            "[0 1 0 ... 0 0 0]\n",
            "[0 0 0 ... 0 0 0]\n",
            "[0 0 0 ... 0 0 0]\n",
            "[1 0 0 ... 0 0 0]\n",
            "[0 0 0 ... 0 0 0]\n",
            "[1 0 0 ... 0 0 0]\n",
            "[1 0 0 ... 0 0 0]\n",
            "[1 0 0 ... 0 0 0]\n",
            "[1 0 0 ... 0 0 0]\n",
            "[1 0 0 ... 0 0 0]\n",
            "[0 0 0 ... 0 0 0]\n",
            "[1 1 1 ... 0 0 0]\n",
            "[0 0 0 ... 0 0 0]\n",
            "[1 0 0 ... 0 0 0]\n",
            "[0 0 0 ... 0 0 0]\n",
            "[0 1 0 ... 0 0 0]\n",
            "[0 0 0 ... 0 0 0]\n",
            "[0 0 0 ... 0 0 0]\n",
            "[1 0 0 ... 0 0 0]\n",
            "[1 0 0 ... 0 0 0]\n",
            "[1 0 0 ... 0 0 0]\n",
            "[1 0 0 ... 0 0 0]\n",
            "[0 0 0 ... 0 0 0]\n",
            "[0 0 0 ... 0 0 0]\n",
            "[0 0 0 ... 0 0 0]\n",
            "[0 0 0 ... 0 0 0]\n",
            "[1 0 0 ... 0 0 0]\n",
            "[1 0 0 ... 0 0 0]\n",
            "[1 0 1 ... 0 0 0]\n",
            "[0 0 0 ... 0 0 0]\n",
            "[1 0 0 ... 0 0 0]\n",
            "[0 0 0 ... 0 0 0]\n",
            "[1 0 0 ... 0 0 0]\n",
            "[0 0 0 ... 0 0 0]\n",
            "[1 1 0 ... 0 0 0]\n",
            "[1 0 0 ... 0 0 0]\n",
            "[0 0 0 ... 0 0 0]\n",
            "[1 0 0 ... 0 0 0]\n",
            "[1 1 0 ... 0 0 0]\n",
            "[1 0 0 ... 0 0 0]\n",
            "[0 0 0 ... 0 0 0]\n",
            "[0 0 0 ... 0 0 0]\n",
            "[0 0 0 ... 0 0 0]\n",
            "[1 0 1 ... 0 0 0]\n",
            "[1 1 0 ... 0 0 0]\n",
            "[1 0 0 ... 0 0 0]\n",
            "[0 0 0 ... 0 0 0]\n",
            "[0 0 0 ... 0 0 0]\n",
            "[0 0 0 ... 0 0 0]\n",
            "[0 0 0 ... 0 0 0]\n",
            "[1 0 0 ... 0 0 0]\n",
            "[0 0 0 ... 0 0 0]\n",
            "[1 0 0 ... 0 0 0]\n",
            "[0 0 0 ... 0 0 0]\n",
            "[0 0 0 ... 0 0 0]\n",
            "[1 0 0 ... 0 0 0]\n",
            "[1 1 0 ... 0 0 0]\n",
            "[0 0 0 ... 0 0 0]\n",
            "[0 0 0 ... 0 0 0]\n",
            "[1 0 0 ... 0 0 0]\n",
            "[1 0 0 ... 0 0 0]\n",
            "[0 0 0 ... 0 0 0]\n",
            "[1 0 0 ... 0 0 0]\n",
            "[0 0 0 ... 0 0 0]\n",
            "[1 0 0 ... 0 0 0]\n",
            "[0 0 0 ... 0 0 0]\n",
            "[0 0 0 ... 0 0 0]\n",
            "[1 1 0 ... 0 0 0]\n",
            "[0 0 0 ... 0 0 0]\n",
            "[0 0 0 ... 0 0 0]\n",
            "[0 0 0 ... 0 0 0]\n",
            "[1 0 0 ... 0 0 0]\n",
            "[0 0 0 ... 0 0 0]\n",
            "[1 0 0 ... 0 0 0]\n",
            "[1 0 0 ... 0 0 0]\n",
            "[1 1 0 ... 0 0 0]\n",
            "[1 0 1 ... 0 0 0]\n",
            "[1 0 0 ... 0 0 0]\n",
            "[1 1 0 ... 0 0 0]\n",
            "[0 0 0 ... 0 0 0]\n",
            "[1 1 1 ... 0 0 0]\n",
            "[0 0 0 ... 0 0 0]\n",
            "[0 0 0 ... 0 0 0]\n",
            "[0 0 0 ... 0 0 0]\n",
            "[0 0 0 ... 0 0 0]\n",
            "[1 0 1 ... 0 0 0]\n",
            "[1 1 0 ... 0 0 0]\n",
            "[0 0 0 ... 0 0 0]\n",
            "[1 0 0 ... 0 0 0]\n",
            "[0 0 0 ... 0 0 0]\n",
            "[1 0 0 ... 0 0 0]\n",
            "[0 0 0 ... 0 0 0]\n",
            "[1 0 0 ... 0 0 0]\n",
            "[1 1 0 ... 0 0 0]\n",
            "[0 0 0 ... 0 0 0]\n",
            "[0 0 0 ... 0 0 0]\n",
            "[1 0 0 ... 0 0 0]\n",
            "[1 0 0 ... 0 0 0]\n",
            "[1 0 0 ... 0 0 0]\n",
            "[1 0 0 ... 0 0 0]\n",
            "[1 0 0 ... 0 0 0]\n",
            "[0 0 0 ... 0 0 0]\n",
            "[1 1 0 ... 0 0 0]\n",
            "[0 1 0 ... 0 0 0]\n",
            "[0 0 0 ... 0 0 0]\n",
            "[0 0 0 ... 0 0 0]\n",
            "[1 0 0 ... 0 0 0]\n",
            "[0 0 0 ... 0 0 0]\n",
            "[1 0 0 ... 0 0 0]\n",
            "[0 0 0 ... 0 0 0]\n",
            "[0 0 0 ... 0 0 0]\n",
            "[0 0 0 ... 0 0 0]\n",
            "[0 0 0 ... 0 0 0]\n",
            "[0 0 0 ... 0 0 0]\n",
            "[1 0 0 ... 0 0 0]\n",
            "[1 0 0 ... 0 0 0]\n",
            "[0 0 0 ... 0 0 0]\n",
            "[1 0 0 ... 0 0 0]\n",
            "[1 0 0 ... 0 0 0]\n",
            "[1 1 0 ... 0 0 0]\n",
            "[0 0 0 ... 0 0 0]\n",
            "[1 0 0 ... 0 0 0]\n",
            "[1 0 1 ... 0 0 0]\n",
            "[1 0 0 ... 0 0 0]\n",
            "[1 1 1 ... 0 0 0]\n",
            "[1 1 0 ... 0 0 0]\n",
            "[0 0 0 ... 0 0 0]\n",
            "[1 1 0 ... 0 0 0]\n",
            "[0 0 0 ... 0 0 0]\n",
            "[1 0 0 ... 0 0 0]\n",
            "[0 0 0 ... 0 0 0]\n",
            "[0 0 0 ... 0 0 0]\n",
            "[0 0 0 ... 0 0 0]\n",
            "[1 1 0 ... 0 0 0]\n",
            "[1 0 0 ... 0 0 0]\n",
            "[1 1 1 ... 0 0 0]\n",
            "[1 1 0 ... 0 0 0]\n",
            "[0 0 0 ... 0 0 0]\n",
            "[0 0 0 ... 0 0 0]\n",
            "[0 0 0 ... 0 0 0]\n",
            "[0 0 0 ... 0 0 0]\n",
            "[0 0 0 ... 0 0 0]\n",
            "[0 0 0 ... 0 0 0]\n",
            "[0 0 0 ... 0 0 0]\n",
            "[1 1 0 ... 0 0 0]\n",
            "[0 0 0 ... 0 0 0]\n",
            "[1 0 0 ... 0 0 0]\n",
            "[0 0 0 ... 0 0 0]\n",
            "[0 0 0 ... 0 0 0]\n",
            "[0 0 0 ... 0 0 0]\n",
            "[1 0 0 ... 0 0 0]\n",
            "[1 0 0 ... 0 0 0]\n",
            "[1 0 0 ... 0 0 0]\n",
            "[0 0 0 ... 0 0 0]\n",
            "[0 0 0 ... 0 0 0]\n",
            "[1 1 0 ... 0 0 0]\n",
            "[0 0 0 ... 0 0 0]\n",
            "[0 0 0 ... 0 0 0]\n",
            "[1 0 0 ... 0 0 0]\n",
            "[1 1 0 ... 0 0 0]\n",
            "[1 0 0 ... 0 0 0]\n",
            "[0 0 0 ... 0 0 0]\n",
            "[0 0 0 ... 0 0 0]\n",
            "[0 0 0 ... 0 0 0]\n",
            "[1 0 0 ... 0 0 0]\n",
            "[0 0 0 ... 0 0 0]\n",
            "[0 0 0 ... 0 0 0]\n",
            "[1 0 0 ... 0 0 0]\n",
            "[1 0 0 ... 0 0 0]\n",
            "[0 0 0 ... 0 0 0]\n",
            "[0 0 0 ... 0 0 0]\n",
            "[0 0 0 ... 0 0 0]\n",
            "[1 0 0 ... 0 0 0]\n",
            "[0 1 0 ... 0 0 0]\n",
            "[0 0 0 ... 0 0 0]\n",
            "[0 1 0 ... 0 0 0]\n",
            "[1 0 0 ... 0 0 0]\n",
            "[0 0 0 ... 0 0 0]\n",
            "[0 0 0 ... 0 0 0]\n",
            "[0 0 0 ... 0 0 0]\n",
            "[0 0 0 ... 0 0 0]\n",
            "[1 0 0 ... 0 0 0]\n",
            "[0 0 0 ... 0 0 0]\n",
            "[1 0 1 ... 0 0 0]\n",
            "[0 0 0 ... 0 0 0]\n",
            "[0 0 0 ... 0 0 0]\n",
            "[0 0 0 ... 0 0 0]\n",
            "[0 0 0 ... 0 0 0]\n",
            "[0 0 1 ... 0 0 0]\n",
            "[0 0 0 ... 0 0 0]\n",
            "[0 0 0 ... 0 0 0]\n",
            "[0 0 0 ... 0 0 0]\n",
            "[0 0 0 ... 1 0 0]\n",
            "[1 1 0 ... 0 0 0]\n",
            "[1 0 0 ... 0 0 0]\n",
            "[0 0 0 ... 0 0 0]\n",
            "[1 0 0 ... 0 0 0]\n",
            "[1 1 0 ... 0 0 0]\n",
            "[0 0 0 ... 0 0 0]\n",
            "[1 1 0 ... 0 0 0]\n",
            "[0 0 0 ... 0 0 0]\n",
            "[1 0 0 ... 0 0 0]\n",
            "[0 0 0 ... 0 0 0]\n",
            "[0 0 0 ... 0 0 0]\n",
            "[0 0 0 ... 0 0 0]\n",
            "[0 0 0 ... 0 0 0]\n",
            "[0 0 0 ... 0 0 0]\n",
            "[0 0 0 ... 0 0 0]\n",
            "[1 0 0 ... 0 0 0]\n",
            "[1 1 1 ... 0 0 0]\n",
            "[1 0 0 ... 0 0 0]\n",
            "[1 0 0 ... 0 0 0]\n",
            "[1 0 0 ... 0 0 0]\n",
            "[0 0 0 ... 0 0 0]\n",
            "[1 0 0 ... 0 0 0]\n",
            "[1 1 1 ... 0 0 0]\n",
            "[1 0 0 ... 0 0 0]\n",
            "[0 0 0 ... 0 0 0]\n",
            "[1 1 1 ... 0 0 0]\n",
            "[1 0 0 ... 0 0 0]\n",
            "[0 0 0 ... 0 0 0]\n",
            "[1 1 0 ... 0 0 0]\n",
            "[1 0 0 ... 0 0 0]\n",
            "[1 0 0 ... 0 0 0]\n",
            "[1 0 0 ... 0 0 0]\n",
            "[1 1 0 ... 0 1 0]\n",
            "[1 0 0 ... 0 0 0]\n",
            "[0 0 0 ... 0 0 0]\n",
            "[1 1 0 ... 0 0 0]\n",
            "[0 0 0 ... 0 0 0]\n",
            "[1 0 0 ... 0 0 0]\n",
            "[1 0 0 ... 0 0 0]\n",
            "[1 0 0 ... 0 0 0]\n",
            "[0 0 0 ... 0 0 0]\n",
            "[0 0 0 ... 0 0 0]\n",
            "[0 0 0 ... 0 0 0]\n",
            "[1 0 0 ... 0 0 0]\n",
            "[0 0 0 ... 0 0 0]\n",
            "[0 0 0 ... 0 0 0]\n",
            "[1 0 1 ... 0 0 0]\n",
            "[0 0 0 ... 0 0 0]\n",
            "[0 0 0 ... 0 0 0]\n",
            "[1 0 0 ... 0 0 0]\n",
            "[0 0 0 ... 0 0 0]\n",
            "[0 0 0 ... 0 0 0]\n",
            "[1 1 1 ... 0 0 1]\n",
            "[1 0 1 ... 0 0 0]\n",
            "[1 0 0 ... 0 0 0]\n",
            "[1 0 0 ... 0 0 0]\n",
            "[0 0 0 ... 0 0 0]\n",
            "[1 0 0 ... 0 0 0]\n",
            "[1 0 0 ... 0 0 0]\n",
            "[1 0 1 ... 0 0 0]\n",
            "[1 1 0 ... 0 0 0]\n",
            "[0 0 0 ... 0 0 0]\n",
            "[0 0 0 ... 0 0 0]\n",
            "[1 0 0 ... 0 0 0]\n",
            "[0 0 0 ... 0 0 0]\n",
            "[1 0 0 ... 0 0 0]\n",
            "[1 0 0 ... 0 0 0]\n",
            "[0 0 0 ... 0 0 0]\n",
            "[1 0 0 ... 0 0 0]\n",
            "[1 0 0 ... 0 0 0]\n",
            "[1 1 0 ... 0 0 0]\n",
            "[1 0 0 ... 0 0 0]\n",
            "[1 0 1 ... 0 0 0]\n",
            "[0 0 0 ... 0 0 0]\n",
            "[1 0 0 ... 0 0 0]\n",
            "[0 0 0 ... 0 0 0]\n",
            "[0 0 0 ... 0 0 0]\n",
            "[1 0 0 ... 0 0 0]\n",
            "[0 0 0 ... 0 0 0]\n",
            "[0 1 0 ... 0 0 0]\n"
          ]
        }
      ]
    },
    {
      "cell_type": "code",
      "source": [
        "id, vector = 0, adj_matrix[0]\n",
        "best_match, best_match_id, best_match_vector = 9999, -1, []\n",
        "\n",
        "for user_id, user_vector in enumerate(adj_matrix):\n",
        "  if id != user_id:\n",
        "    euclidean_dist = np.sqrt(np.sum(np.square(vector - user_vector)))\n",
        "    if euclidean_dist < best_match:\n",
        "      best_match = euclidean_dist\n",
        "      best_match_id = user_id\n",
        "      best_match_vector = user_vector\n",
        "\n",
        "print(f'Best Match: {best_match} \\nBest Match ID: {best_match_id} \\nBest_Match_Vector: {best_match_vector}')"
      ],
      "metadata": {
        "colab": {
          "base_uri": "https://localhost:8080/"
        },
        "id": "6GnvaudN6CVv",
        "outputId": "c41e3aea-b7c8-413a-b830-3e530ff1d9e4"
      },
      "execution_count": null,
      "outputs": [
        {
          "output_type": "stream",
          "name": "stdout",
          "text": [
            "Best Match: 14.832396974191326 \n",
            "Best Match ID: 737 \n",
            "Best_Match_Vector: [1 1 0 ... 0 0 0]\n"
          ]
        }
      ]
    },
    {
      "cell_type": "code",
      "source": [
        "recommendation = []\n",
        "for i, log in enumerate(zip(vector, best_match_vector)):\n",
        "  log1, log2 = log\n",
        "  if log1 <1. and log2 >0.:\n",
        "    recommendation.append(i)\n",
        "print(recommendation)\n"
      ],
      "metadata": {
        "colab": {
          "base_uri": "https://localhost:8080/"
        },
        "id": "0xWntPJx6CDy",
        "outputId": "faf5cc9b-073f-4973-c8ac-8e480b074096"
      },
      "execution_count": null,
      "outputs": [
        {
          "output_type": "stream",
          "name": "stdout",
          "text": [
            "[297, 312, 317, 342, 356, 366, 379, 384, 392, 402, 404, 407, 417, 422, 428, 433, 448, 454, 469, 473, 495, 510, 516, 526, 527, 549, 567, 602, 635, 649, 650, 654, 658, 661, 664, 696, 731, 746, 750, 754, 915, 918, 925, 929, 950, 968, 1015, 1046]\n"
          ]
        }
      ]
    },
    {
      "cell_type": "markdown",
      "source": [
        "### 코사인 유사도를 이용한 추천\n",
        "\n",
        "두 벡터가 이루는 값을 계산(내적)해 추천  \n",
        "\n",
        "### $cos\\theta = \\frac{A * B}{||A||*||B||}$"
      ],
      "metadata": {
        "id": "cytgFeAFGwCN"
      }
    },
    {
      "cell_type": "code",
      "source": [
        "def compute_cos_similarity(v1,v2):\n",
        "  norm1 = np.sqrt(np.sum(np.square(v1)))\n",
        "  norm2 = np.sqrt(np.sum(np.square(v2)))\n",
        "  dot = np.dot(v1, v2)\n",
        "  return dot / (norm1 * norm2)\n"
      ],
      "metadata": {
        "id": "qplT0dMGGfX3"
      },
      "execution_count": null,
      "outputs": []
    },
    {
      "cell_type": "code",
      "source": [
        "id, vector = 0, adj_matrix[0]\n",
        "best_match, best_match_id, best_match_vector = -1, -1, []\n",
        "\n",
        "for user_id, user_vector in enumerate(adj_matrix):\n",
        "  if id != user_id:\n",
        "    cos_similarity = compute_cos_similarity(vector, user_vector)\n",
        "    if cos_similarity > best_match:\n",
        "      best_match = cos_similarity\n",
        "      best_match_id = user_id\n",
        "      best_match_vector = user_vector\n",
        "\n",
        "print(f'Best Match: {best_match} \\nBest Match ID: {best_match_id} \\nBest_Match_Vector: {best_match_vector}')"
      ],
      "metadata": {
        "colab": {
          "base_uri": "https://localhost:8080/"
        },
        "id": "oB6kmemZGfUn",
        "outputId": "ef92c790-36ce-4244-a1e0-9f17d85c8295"
      },
      "execution_count": null,
      "outputs": [
        {
          "output_type": "stream",
          "name": "stdout",
          "text": [
            "Best Match: 0.5278586163659506 \n",
            "Best Match ID: 915 \n",
            "Best_Match_Vector: [1 1 1 ... 0 0 1]\n"
          ]
        }
      ]
    },
    {
      "cell_type": "code",
      "source": [
        "recommendation = []\n",
        "for i, log in enumerate(zip(vector, best_match_vector)):\n",
        "  log1, log2 = log\n",
        "  if log1 <1. and log2 >0.:\n",
        "    recommendation.append(i)\n",
        "print(recommendation)\n"
      ],
      "metadata": {
        "colab": {
          "base_uri": "https://localhost:8080/"
        },
        "id": "S1DeB1aJHjL1",
        "outputId": "273cecc0-24e4-4181-fcc7-a82c894c0a38"
      },
      "execution_count": null,
      "outputs": [
        {
          "output_type": "stream",
          "name": "stdout",
          "text": [
            "[272, 275, 279, 280, 283, 285, 289, 294, 297, 316, 317, 355, 365, 366, 368, 379, 380, 381, 384, 386, 392, 398, 401, 404, 416, 420, 422, 424, 426, 427, 430, 432, 450, 460, 461, 466, 469, 471, 473, 474, 475, 479, 482, 483, 497, 505, 508, 510, 511, 522, 526, 527, 529, 530, 534, 536, 540, 545, 548, 549, 556, 557, 558, 560, 565, 567, 568, 569, 577, 580, 581, 582, 592, 596, 630, 635, 639, 641, 649, 651, 654, 673, 677, 678, 683, 684, 692, 696, 701, 703, 707, 708, 709, 712, 714, 719, 720, 726, 731, 734, 736, 738, 740, 745, 747, 754, 755, 761, 762, 763, 766, 780, 789, 791, 805, 819, 823, 824, 830, 843, 862, 865, 918, 929, 930, 938, 942, 943, 947, 958, 959, 960, 970, 977, 1004, 1008, 1009, 1010, 1013, 1041, 1045, 1069, 1072, 1073, 1078, 1097, 1100, 1108, 1112, 1118, 1134, 1193, 1205, 1207, 1216, 1219, 1267, 1334, 1400, 1427, 1596, 1681]\n"
          ]
        }
      ]
    },
    {
      "cell_type": "markdown",
      "source": [
        "### 영화 점수를 살려서 진행해보기\n",
        "결과가 똑같음"
      ],
      "metadata": {
        "id": "B-flfBRmH9H9"
      }
    },
    {
      "cell_type": "code",
      "source": [
        "adj_matrix = np.ndarray(shape, dtype = int)\n",
        "for user_id, movie_id, rating, time in raw_data:\n",
        "  adj_matrix[user_id][movie_id] = rating\n",
        "adj_matrix"
      ],
      "metadata": {
        "colab": {
          "base_uri": "https://localhost:8080/"
        },
        "id": "G8wP2M1EHjJR",
        "outputId": "b1c6ff71-1300-48ae-b34e-3a9c3ba988bc"
      },
      "execution_count": null,
      "outputs": [
        {
          "output_type": "execute_result",
          "data": {
            "text/plain": [
              "array([[5, 3, 4, ..., 0, 0, 0],\n",
              "       [4, 0, 0, ..., 0, 0, 0],\n",
              "       [0, 0, 0, ..., 0, 0, 0],\n",
              "       ...,\n",
              "       [5, 0, 0, ..., 0, 0, 0],\n",
              "       [0, 0, 0, ..., 0, 0, 0],\n",
              "       [0, 5, 0, ..., 0, 0, 0]])"
            ]
          },
          "metadata": {},
          "execution_count": 39
        }
      ]
    },
    {
      "cell_type": "code",
      "source": [
        "id, vector = 0, adj_matrix[0]\n",
        "best_match, best_match_id, best_match_vector = -1, -1, []\n",
        "\n",
        "for user_id, user_vector in enumerate(adj_matrix):\n",
        "  if id != user_id:\n",
        "    cos_similarity = compute_cos_similarity(vector, user_vector)\n",
        "    if cos_similarity > best_match:\n",
        "      best_match = cos_similarity\n",
        "      best_match_id = user_id\n",
        "      best_match_vector = user_vector\n",
        "\n",
        "print(f'Best Match: {best_match} \\nBest Match ID: {best_match_id} \\nBest_Match_Vector: {best_match_vector}')"
      ],
      "metadata": {
        "colab": {
          "base_uri": "https://localhost:8080/"
        },
        "id": "t2oW6mK_IApS",
        "outputId": "e313e6f1-d543-45bc-f191-d1e4a6edc07e"
      },
      "execution_count": null,
      "outputs": [
        {
          "output_type": "stream",
          "name": "stdout",
          "text": [
            "Best Match: 0.569065731527988 \n",
            "Best Match ID: 915 \n",
            "Best_Match_Vector: [4 3 3 ... 0 0 3]\n"
          ]
        }
      ]
    },
    {
      "cell_type": "markdown",
      "source": [
        "## sklearn 패키지 SVD를 이용해 추천하기\n",
        "\n",
        "User Based Collaborative Filtering"
      ],
      "metadata": {
        "id": "7GTUTvLYPF4c"
      }
    },
    {
      "cell_type": "code",
      "source": [
        "from sklearn.decomposition import randomized_svd\n",
        "\n",
        "# SVD를 이용해 특이값 2개짜리의 행렬로 분해한 뒤 곱해준다.\n",
        "U, S, V = randomized_svd(adj_matrix, n_components = 2 )\n",
        "S = np.diag(S)"
      ],
      "metadata": {
        "id": "2ztEaXxHjlz9",
        "colab": {
          "base_uri": "https://localhost:8080/"
        },
        "outputId": "7fdec1d9-72ba-4170-e585-fbe32c2e40eb"
      },
      "execution_count": null,
      "outputs": [
        {
          "output_type": "stream",
          "name": "stderr",
          "text": [
            "/usr/local/lib/python3.7/dist-packages/sklearn/utils/extmath.py:376: FutureWarning: If 'random_state' is not supplied, the current default is to use 0 as a fixed seed. This will change to  None in version 1.2 leading to non-deterministic results that better reflect nature of the randomized_svd solver. If you want to silence this warning, set 'random_state' to an integer seed or to None explicitly depending if you want your code to be deterministic or not.\n",
            "  FutureWarning,\n"
          ]
        }
      ]
    },
    {
      "cell_type": "code",
      "source": [
        "adj_matrix"
      ],
      "metadata": {
        "colab": {
          "base_uri": "https://localhost:8080/"
        },
        "id": "NNabzfgHQTsb",
        "outputId": "4906a081-1b41-4033-9aa0-63c4d386c009"
      },
      "execution_count": null,
      "outputs": [
        {
          "output_type": "execute_result",
          "data": {
            "text/plain": [
              "array([[5, 3, 4, ..., 0, 0, 0],\n",
              "       [4, 0, 0, ..., 0, 0, 0],\n",
              "       [0, 0, 0, ..., 0, 0, 0],\n",
              "       ...,\n",
              "       [5, 0, 0, ..., 0, 0, 0],\n",
              "       [0, 0, 0, ..., 0, 0, 0],\n",
              "       [0, 5, 0, ..., 0, 0, 0]])"
            ]
          },
          "metadata": {},
          "execution_count": 42
        }
      ]
    },
    {
      "cell_type": "markdown",
      "source": [
        "np.matmul과 np.dot의 차이 확인하기:\n",
        "https://jlog1016.tistory.com/80\n",
        "\n",
        "보통 n차원 행렬인 경우 np.matmul을 이용"
      ],
      "metadata": {
        "id": "RLdZhoZpQ8IU"
      }
    },
    {
      "cell_type": "code",
      "source": [
        "matmuled_matrix = np.matmul(np.matmul(U,S),V)"
      ],
      "metadata": {
        "id": "IBD1xqO7QLVc"
      },
      "execution_count": null,
      "outputs": []
    },
    {
      "cell_type": "code",
      "source": [
        "# 행렬분해한 U 행렬을 사용 - 유저기반 콜라보러티브 필터링\n",
        "id, vector = 0, U[0]\n",
        "best_match_id, best_match_vector, best_match = -1, [], -1\n",
        "\n",
        "for user_id, user_vector in enumerate(U):\n",
        "  if id != user_id:\n",
        "    cosine_similarity = compute_cos_similarity(vector, user_vector)\n",
        "    if cosine_similarity > best_match:\n",
        "      best_match_id = user_id\n",
        "      best_match_vector = user_vector\n",
        "      best_match = cosine_similarity\n",
        "\n",
        "print(f'Best Match: {best_match} \\nBest Match ID: {best_match_id} \\nBest_Match_Vector: {best_match_vector}')"
      ],
      "metadata": {
        "colab": {
          "base_uri": "https://localhost:8080/"
        },
        "id": "f-k8t1-zS81L",
        "outputId": "ba8cc447-1849-4fea-dd13-6288f857b186"
      },
      "execution_count": null,
      "outputs": [
        {
          "output_type": "stream",
          "name": "stdout",
          "text": [
            "Best Match: 0.9999942295956324 \n",
            "Best Match ID: 235 \n",
            "Best_Match_Vector: [0.03467744 0.00326754]\n"
          ]
        }
      ]
    },
    {
      "cell_type": "code",
      "source": [
        "matmuled_matrix[best_match_id]"
      ],
      "metadata": {
        "id": "frldk37TXX9n",
        "outputId": "52b4539d-a3c7-43d2-c803-d05e3a52e7cd",
        "colab": {
          "base_uri": "https://localhost:8080/"
        }
      },
      "execution_count": null,
      "outputs": [
        {
          "output_type": "execute_result",
          "data": {
            "text/plain": [
              "array([2.06180836e+00, 7.75911609e-01, 4.19834251e-01, ...,\n",
              "       3.16276312e-04, 7.43876997e-03, 7.20158124e-03])"
            ]
          },
          "metadata": {},
          "execution_count": 60
        }
      ]
    },
    {
      "cell_type": "code",
      "source": [
        "recommendation = []\n",
        "for i, log in enumerate(zip(adj_matrix[id], adj_matrix[best_match_id])):\n",
        "  log1, log2 = log\n",
        "  if log1 <1. and log2 >0.:\n",
        "    recommendation.append(i)\n",
        "print(recommendation)"
      ],
      "metadata": {
        "id": "zr-8DN_SW1Ux",
        "outputId": "3ccdcc63-60b2-44eb-cde1-387ef97bcf29",
        "colab": {
          "base_uri": "https://localhost:8080/"
        }
      },
      "execution_count": null,
      "outputs": [
        {
          "output_type": "stream",
          "name": "stdout",
          "text": [
            "[272, 273, 274, 281, 285, 288, 293, 297, 303, 306, 312, 317, 327, 332, 369, 410, 418, 419, 422, 426, 428, 431, 434, 442, 461, 475, 477, 482, 495, 503, 504, 505, 506, 509, 519, 520, 522, 525, 531, 545, 548, 590, 594, 595, 613, 631, 654, 658, 660, 672, 684, 685, 691, 695, 698, 704, 716, 728, 734, 749, 755, 863, 865, 933, 1012, 1038, 1101, 1327, 1400]\n"
          ]
        }
      ]
    },
    {
      "cell_type": "code",
      "source": [
        "# 행렬분해한 VT 행렬을 사용 - 아이템기반 콜라보러티브 필터링\n",
        "id, vector = 0, V.T[0]\n",
        "best_match_id, best_match_vector, best_match = -1, [], -1\n",
        "\n",
        "for user_id, user_vector in enumerate(U):\n",
        "  if id != user_id:\n",
        "    cosine_similarity = compute_cos_similarity(vector, user_vector)\n",
        "    if cosine_similarity > best_match:\n",
        "      best_match_id = user_id\n",
        "      best_match_vector = user_vector\n",
        "      best_match = cosine_similarity\n",
        "\n",
        "print(f'Best Match: {best_match} \\nBest Match ID: {best_match_id} \\nBest_Match_Vector: {best_match_vector}')"
      ],
      "metadata": {
        "colab": {
          "base_uri": "https://localhost:8080/"
        },
        "id": "6XKTxtluWwwJ",
        "outputId": "62dc0b86-cd27-42c0-8705-58b8075ee9cd"
      },
      "execution_count": null,
      "outputs": [
        {
          "output_type": "stream",
          "name": "stdout",
          "text": [
            "Best Match: 0.9999999758529564 \n",
            "Best Match ID: 873 \n",
            "Best_Match_Vector: [ 0.00932328 -0.00848059]\n"
          ]
        }
      ]
    },
    {
      "cell_type": "code",
      "source": [],
      "metadata": {
        "id": "MtdJL4S7Y-Ub"
      },
      "execution_count": null,
      "outputs": []
    },
    {
      "cell_type": "markdown",
      "source": [
        "# 8/28 SVD를 통한 MovieLens 모델링"
      ],
      "metadata": {
        "id": "oNcj8YespHqI"
      }
    },
    {
      "cell_type": "code",
      "source": [
        "from google.colab import drive\n",
        "\n",
        "drive.mount('/content/drive/')"
      ],
      "metadata": {
        "id": "s1MlnXrZrDqc",
        "outputId": "1f7bedd6-b9a2-4b75-8bfa-a48ce693cdbd",
        "colab": {
          "base_uri": "https://localhost:8080/"
        }
      },
      "execution_count": 1,
      "outputs": [
        {
          "output_type": "stream",
          "name": "stdout",
          "text": [
            "Mounted at /content/drive/\n"
          ]
        }
      ]
    },
    {
      "cell_type": "code",
      "source": [
        "import pandas as pd\n",
        "\n",
        "# 데이터 불러오기\n",
        "ratings = pd.read_table('/content/drive/MyDrive/ml-1m/ratings.dat', sep=\"::\", header = None)\n",
        "ratings = ratings.rename(columns = {0: 'userId',1:'movieId',2:'rating', 3:'time'})\n",
        "print(ratings.shape)\n",
        "ratings.head(5)\n"
      ],
      "metadata": {
        "id": "BK_GPDI1rO0j",
        "outputId": "57e72313-d4be-4891-e18e-f5173a7ce02a",
        "colab": {
          "base_uri": "https://localhost:8080/",
          "height": 280
        }
      },
      "execution_count": 2,
      "outputs": [
        {
          "output_type": "stream",
          "name": "stderr",
          "text": [
            "/usr/local/lib/python3.7/dist-packages/pandas/util/_decorators.py:311: ParserWarning: Falling back to the 'python' engine because the 'c' engine does not support regex separators (separators > 1 char and different from '\\s+' are interpreted as regex); you can avoid this warning by specifying engine='python'.\n",
            "  return func(*args, **kwargs)\n"
          ]
        },
        {
          "output_type": "stream",
          "name": "stdout",
          "text": [
            "(1000209, 4)\n"
          ]
        },
        {
          "output_type": "execute_result",
          "data": {
            "text/plain": [
              "   userId  movieId  rating       time\n",
              "0       1     1193       5  978300760\n",
              "1       1      661       3  978302109\n",
              "2       1      914       3  978301968\n",
              "3       1     3408       4  978300275\n",
              "4       1     2355       5  978824291"
            ],
            "text/html": [
              "\n",
              "  <div id=\"df-9cac8cac-8b36-48d2-8f1c-26d62d2fa1e2\">\n",
              "    <div class=\"colab-df-container\">\n",
              "      <div>\n",
              "<style scoped>\n",
              "    .dataframe tbody tr th:only-of-type {\n",
              "        vertical-align: middle;\n",
              "    }\n",
              "\n",
              "    .dataframe tbody tr th {\n",
              "        vertical-align: top;\n",
              "    }\n",
              "\n",
              "    .dataframe thead th {\n",
              "        text-align: right;\n",
              "    }\n",
              "</style>\n",
              "<table border=\"1\" class=\"dataframe\">\n",
              "  <thead>\n",
              "    <tr style=\"text-align: right;\">\n",
              "      <th></th>\n",
              "      <th>userId</th>\n",
              "      <th>movieId</th>\n",
              "      <th>rating</th>\n",
              "      <th>time</th>\n",
              "    </tr>\n",
              "  </thead>\n",
              "  <tbody>\n",
              "    <tr>\n",
              "      <th>0</th>\n",
              "      <td>1</td>\n",
              "      <td>1193</td>\n",
              "      <td>5</td>\n",
              "      <td>978300760</td>\n",
              "    </tr>\n",
              "    <tr>\n",
              "      <th>1</th>\n",
              "      <td>1</td>\n",
              "      <td>661</td>\n",
              "      <td>3</td>\n",
              "      <td>978302109</td>\n",
              "    </tr>\n",
              "    <tr>\n",
              "      <th>2</th>\n",
              "      <td>1</td>\n",
              "      <td>914</td>\n",
              "      <td>3</td>\n",
              "      <td>978301968</td>\n",
              "    </tr>\n",
              "    <tr>\n",
              "      <th>3</th>\n",
              "      <td>1</td>\n",
              "      <td>3408</td>\n",
              "      <td>4</td>\n",
              "      <td>978300275</td>\n",
              "    </tr>\n",
              "    <tr>\n",
              "      <th>4</th>\n",
              "      <td>1</td>\n",
              "      <td>2355</td>\n",
              "      <td>5</td>\n",
              "      <td>978824291</td>\n",
              "    </tr>\n",
              "  </tbody>\n",
              "</table>\n",
              "</div>\n",
              "      <button class=\"colab-df-convert\" onclick=\"convertToInteractive('df-9cac8cac-8b36-48d2-8f1c-26d62d2fa1e2')\"\n",
              "              title=\"Convert this dataframe to an interactive table.\"\n",
              "              style=\"display:none;\">\n",
              "        \n",
              "  <svg xmlns=\"http://www.w3.org/2000/svg\" height=\"24px\"viewBox=\"0 0 24 24\"\n",
              "       width=\"24px\">\n",
              "    <path d=\"M0 0h24v24H0V0z\" fill=\"none\"/>\n",
              "    <path d=\"M18.56 5.44l.94 2.06.94-2.06 2.06-.94-2.06-.94-.94-2.06-.94 2.06-2.06.94zm-11 1L8.5 8.5l.94-2.06 2.06-.94-2.06-.94L8.5 2.5l-.94 2.06-2.06.94zm10 10l.94 2.06.94-2.06 2.06-.94-2.06-.94-.94-2.06-.94 2.06-2.06.94z\"/><path d=\"M17.41 7.96l-1.37-1.37c-.4-.4-.92-.59-1.43-.59-.52 0-1.04.2-1.43.59L10.3 9.45l-7.72 7.72c-.78.78-.78 2.05 0 2.83L4 21.41c.39.39.9.59 1.41.59.51 0 1.02-.2 1.41-.59l7.78-7.78 2.81-2.81c.8-.78.8-2.07 0-2.86zM5.41 20L4 18.59l7.72-7.72 1.47 1.35L5.41 20z\"/>\n",
              "  </svg>\n",
              "      </button>\n",
              "      \n",
              "  <style>\n",
              "    .colab-df-container {\n",
              "      display:flex;\n",
              "      flex-wrap:wrap;\n",
              "      gap: 12px;\n",
              "    }\n",
              "\n",
              "    .colab-df-convert {\n",
              "      background-color: #E8F0FE;\n",
              "      border: none;\n",
              "      border-radius: 50%;\n",
              "      cursor: pointer;\n",
              "      display: none;\n",
              "      fill: #1967D2;\n",
              "      height: 32px;\n",
              "      padding: 0 0 0 0;\n",
              "      width: 32px;\n",
              "    }\n",
              "\n",
              "    .colab-df-convert:hover {\n",
              "      background-color: #E2EBFA;\n",
              "      box-shadow: 0px 1px 2px rgba(60, 64, 67, 0.3), 0px 1px 3px 1px rgba(60, 64, 67, 0.15);\n",
              "      fill: #174EA6;\n",
              "    }\n",
              "\n",
              "    [theme=dark] .colab-df-convert {\n",
              "      background-color: #3B4455;\n",
              "      fill: #D2E3FC;\n",
              "    }\n",
              "\n",
              "    [theme=dark] .colab-df-convert:hover {\n",
              "      background-color: #434B5C;\n",
              "      box-shadow: 0px 1px 3px 1px rgba(0, 0, 0, 0.15);\n",
              "      filter: drop-shadow(0px 1px 2px rgba(0, 0, 0, 0.3));\n",
              "      fill: #FFFFFF;\n",
              "    }\n",
              "  </style>\n",
              "\n",
              "      <script>\n",
              "        const buttonEl =\n",
              "          document.querySelector('#df-9cac8cac-8b36-48d2-8f1c-26d62d2fa1e2 button.colab-df-convert');\n",
              "        buttonEl.style.display =\n",
              "          google.colab.kernel.accessAllowed ? 'block' : 'none';\n",
              "\n",
              "        async function convertToInteractive(key) {\n",
              "          const element = document.querySelector('#df-9cac8cac-8b36-48d2-8f1c-26d62d2fa1e2');\n",
              "          const dataTable =\n",
              "            await google.colab.kernel.invokeFunction('convertToInteractive',\n",
              "                                                     [key], {});\n",
              "          if (!dataTable) return;\n",
              "\n",
              "          const docLinkHtml = 'Like what you see? Visit the ' +\n",
              "            '<a target=\"_blank\" href=https://colab.research.google.com/notebooks/data_table.ipynb>data table notebook</a>'\n",
              "            + ' to learn more about interactive tables.';\n",
              "          element.innerHTML = '';\n",
              "          dataTable['output_type'] = 'display_data';\n",
              "          await google.colab.output.renderOutput(dataTable, element);\n",
              "          const docLink = document.createElement('div');\n",
              "          docLink.innerHTML = docLinkHtml;\n",
              "          element.appendChild(docLink);\n",
              "        }\n",
              "      </script>\n",
              "    </div>\n",
              "  </div>\n",
              "  "
            ]
          },
          "metadata": {},
          "execution_count": 2
        }
      ]
    },
    {
      "cell_type": "code",
      "source": [
        "# 유저, 영화의 평점 행렬로 변환\n",
        "adj_matrix_rating = ratings.pivot(index = 'userId', columns = 'movieId', values = 'rating')"
      ],
      "metadata": {
        "id": "6SAKwBExs2wC"
      },
      "execution_count": 3,
      "outputs": []
    },
    {
      "cell_type": "code",
      "source": [
        "# (유저수, 영화 수) 파악\n",
        "print(adj_matrix_rating.shape)\n",
        "\n",
        "# 유저 - 영화 평점행렬 일부 보기\n",
        "adj_matrix_rating.head(5)"
      ],
      "metadata": {
        "id": "oQDaqZhbtaQY",
        "outputId": "abf60663-67ab-4856-91c6-64d11e1807bd",
        "colab": {
          "base_uri": "https://localhost:8080/",
          "height": 285
        }
      },
      "execution_count": 4,
      "outputs": [
        {
          "output_type": "stream",
          "name": "stdout",
          "text": [
            "(6040, 3706)\n"
          ]
        },
        {
          "output_type": "execute_result",
          "data": {
            "text/plain": [
              "movieId  1     2     3     4     5     6     7     8     9     10    ...  \\\n",
              "userId                                                               ...   \n",
              "1         5.0   NaN   NaN   NaN   NaN   NaN   NaN   NaN   NaN   NaN  ...   \n",
              "2         NaN   NaN   NaN   NaN   NaN   NaN   NaN   NaN   NaN   NaN  ...   \n",
              "3         NaN   NaN   NaN   NaN   NaN   NaN   NaN   NaN   NaN   NaN  ...   \n",
              "4         NaN   NaN   NaN   NaN   NaN   NaN   NaN   NaN   NaN   NaN  ...   \n",
              "5         NaN   NaN   NaN   NaN   NaN   2.0   NaN   NaN   NaN   NaN  ...   \n",
              "\n",
              "movieId  3943  3944  3945  3946  3947  3948  3949  3950  3951  3952  \n",
              "userId                                                               \n",
              "1         NaN   NaN   NaN   NaN   NaN   NaN   NaN   NaN   NaN   NaN  \n",
              "2         NaN   NaN   NaN   NaN   NaN   NaN   NaN   NaN   NaN   NaN  \n",
              "3         NaN   NaN   NaN   NaN   NaN   NaN   NaN   NaN   NaN   NaN  \n",
              "4         NaN   NaN   NaN   NaN   NaN   NaN   NaN   NaN   NaN   NaN  \n",
              "5         NaN   NaN   NaN   NaN   NaN   NaN   NaN   NaN   NaN   NaN  \n",
              "\n",
              "[5 rows x 3706 columns]"
            ],
            "text/html": [
              "\n",
              "  <div id=\"df-00a9749b-2c41-44c0-b92b-882c34494987\">\n",
              "    <div class=\"colab-df-container\">\n",
              "      <div>\n",
              "<style scoped>\n",
              "    .dataframe tbody tr th:only-of-type {\n",
              "        vertical-align: middle;\n",
              "    }\n",
              "\n",
              "    .dataframe tbody tr th {\n",
              "        vertical-align: top;\n",
              "    }\n",
              "\n",
              "    .dataframe thead th {\n",
              "        text-align: right;\n",
              "    }\n",
              "</style>\n",
              "<table border=\"1\" class=\"dataframe\">\n",
              "  <thead>\n",
              "    <tr style=\"text-align: right;\">\n",
              "      <th>movieId</th>\n",
              "      <th>1</th>\n",
              "      <th>2</th>\n",
              "      <th>3</th>\n",
              "      <th>4</th>\n",
              "      <th>5</th>\n",
              "      <th>6</th>\n",
              "      <th>7</th>\n",
              "      <th>8</th>\n",
              "      <th>9</th>\n",
              "      <th>10</th>\n",
              "      <th>...</th>\n",
              "      <th>3943</th>\n",
              "      <th>3944</th>\n",
              "      <th>3945</th>\n",
              "      <th>3946</th>\n",
              "      <th>3947</th>\n",
              "      <th>3948</th>\n",
              "      <th>3949</th>\n",
              "      <th>3950</th>\n",
              "      <th>3951</th>\n",
              "      <th>3952</th>\n",
              "    </tr>\n",
              "    <tr>\n",
              "      <th>userId</th>\n",
              "      <th></th>\n",
              "      <th></th>\n",
              "      <th></th>\n",
              "      <th></th>\n",
              "      <th></th>\n",
              "      <th></th>\n",
              "      <th></th>\n",
              "      <th></th>\n",
              "      <th></th>\n",
              "      <th></th>\n",
              "      <th></th>\n",
              "      <th></th>\n",
              "      <th></th>\n",
              "      <th></th>\n",
              "      <th></th>\n",
              "      <th></th>\n",
              "      <th></th>\n",
              "      <th></th>\n",
              "      <th></th>\n",
              "      <th></th>\n",
              "      <th></th>\n",
              "    </tr>\n",
              "  </thead>\n",
              "  <tbody>\n",
              "    <tr>\n",
              "      <th>1</th>\n",
              "      <td>5.0</td>\n",
              "      <td>NaN</td>\n",
              "      <td>NaN</td>\n",
              "      <td>NaN</td>\n",
              "      <td>NaN</td>\n",
              "      <td>NaN</td>\n",
              "      <td>NaN</td>\n",
              "      <td>NaN</td>\n",
              "      <td>NaN</td>\n",
              "      <td>NaN</td>\n",
              "      <td>...</td>\n",
              "      <td>NaN</td>\n",
              "      <td>NaN</td>\n",
              "      <td>NaN</td>\n",
              "      <td>NaN</td>\n",
              "      <td>NaN</td>\n",
              "      <td>NaN</td>\n",
              "      <td>NaN</td>\n",
              "      <td>NaN</td>\n",
              "      <td>NaN</td>\n",
              "      <td>NaN</td>\n",
              "    </tr>\n",
              "    <tr>\n",
              "      <th>2</th>\n",
              "      <td>NaN</td>\n",
              "      <td>NaN</td>\n",
              "      <td>NaN</td>\n",
              "      <td>NaN</td>\n",
              "      <td>NaN</td>\n",
              "      <td>NaN</td>\n",
              "      <td>NaN</td>\n",
              "      <td>NaN</td>\n",
              "      <td>NaN</td>\n",
              "      <td>NaN</td>\n",
              "      <td>...</td>\n",
              "      <td>NaN</td>\n",
              "      <td>NaN</td>\n",
              "      <td>NaN</td>\n",
              "      <td>NaN</td>\n",
              "      <td>NaN</td>\n",
              "      <td>NaN</td>\n",
              "      <td>NaN</td>\n",
              "      <td>NaN</td>\n",
              "      <td>NaN</td>\n",
              "      <td>NaN</td>\n",
              "    </tr>\n",
              "    <tr>\n",
              "      <th>3</th>\n",
              "      <td>NaN</td>\n",
              "      <td>NaN</td>\n",
              "      <td>NaN</td>\n",
              "      <td>NaN</td>\n",
              "      <td>NaN</td>\n",
              "      <td>NaN</td>\n",
              "      <td>NaN</td>\n",
              "      <td>NaN</td>\n",
              "      <td>NaN</td>\n",
              "      <td>NaN</td>\n",
              "      <td>...</td>\n",
              "      <td>NaN</td>\n",
              "      <td>NaN</td>\n",
              "      <td>NaN</td>\n",
              "      <td>NaN</td>\n",
              "      <td>NaN</td>\n",
              "      <td>NaN</td>\n",
              "      <td>NaN</td>\n",
              "      <td>NaN</td>\n",
              "      <td>NaN</td>\n",
              "      <td>NaN</td>\n",
              "    </tr>\n",
              "    <tr>\n",
              "      <th>4</th>\n",
              "      <td>NaN</td>\n",
              "      <td>NaN</td>\n",
              "      <td>NaN</td>\n",
              "      <td>NaN</td>\n",
              "      <td>NaN</td>\n",
              "      <td>NaN</td>\n",
              "      <td>NaN</td>\n",
              "      <td>NaN</td>\n",
              "      <td>NaN</td>\n",
              "      <td>NaN</td>\n",
              "      <td>...</td>\n",
              "      <td>NaN</td>\n",
              "      <td>NaN</td>\n",
              "      <td>NaN</td>\n",
              "      <td>NaN</td>\n",
              "      <td>NaN</td>\n",
              "      <td>NaN</td>\n",
              "      <td>NaN</td>\n",
              "      <td>NaN</td>\n",
              "      <td>NaN</td>\n",
              "      <td>NaN</td>\n",
              "    </tr>\n",
              "    <tr>\n",
              "      <th>5</th>\n",
              "      <td>NaN</td>\n",
              "      <td>NaN</td>\n",
              "      <td>NaN</td>\n",
              "      <td>NaN</td>\n",
              "      <td>NaN</td>\n",
              "      <td>2.0</td>\n",
              "      <td>NaN</td>\n",
              "      <td>NaN</td>\n",
              "      <td>NaN</td>\n",
              "      <td>NaN</td>\n",
              "      <td>...</td>\n",
              "      <td>NaN</td>\n",
              "      <td>NaN</td>\n",
              "      <td>NaN</td>\n",
              "      <td>NaN</td>\n",
              "      <td>NaN</td>\n",
              "      <td>NaN</td>\n",
              "      <td>NaN</td>\n",
              "      <td>NaN</td>\n",
              "      <td>NaN</td>\n",
              "      <td>NaN</td>\n",
              "    </tr>\n",
              "  </tbody>\n",
              "</table>\n",
              "<p>5 rows × 3706 columns</p>\n",
              "</div>\n",
              "      <button class=\"colab-df-convert\" onclick=\"convertToInteractive('df-00a9749b-2c41-44c0-b92b-882c34494987')\"\n",
              "              title=\"Convert this dataframe to an interactive table.\"\n",
              "              style=\"display:none;\">\n",
              "        \n",
              "  <svg xmlns=\"http://www.w3.org/2000/svg\" height=\"24px\"viewBox=\"0 0 24 24\"\n",
              "       width=\"24px\">\n",
              "    <path d=\"M0 0h24v24H0V0z\" fill=\"none\"/>\n",
              "    <path d=\"M18.56 5.44l.94 2.06.94-2.06 2.06-.94-2.06-.94-.94-2.06-.94 2.06-2.06.94zm-11 1L8.5 8.5l.94-2.06 2.06-.94-2.06-.94L8.5 2.5l-.94 2.06-2.06.94zm10 10l.94 2.06.94-2.06 2.06-.94-2.06-.94-.94-2.06-.94 2.06-2.06.94z\"/><path d=\"M17.41 7.96l-1.37-1.37c-.4-.4-.92-.59-1.43-.59-.52 0-1.04.2-1.43.59L10.3 9.45l-7.72 7.72c-.78.78-.78 2.05 0 2.83L4 21.41c.39.39.9.59 1.41.59.51 0 1.02-.2 1.41-.59l7.78-7.78 2.81-2.81c.8-.78.8-2.07 0-2.86zM5.41 20L4 18.59l7.72-7.72 1.47 1.35L5.41 20z\"/>\n",
              "  </svg>\n",
              "      </button>\n",
              "      \n",
              "  <style>\n",
              "    .colab-df-container {\n",
              "      display:flex;\n",
              "      flex-wrap:wrap;\n",
              "      gap: 12px;\n",
              "    }\n",
              "\n",
              "    .colab-df-convert {\n",
              "      background-color: #E8F0FE;\n",
              "      border: none;\n",
              "      border-radius: 50%;\n",
              "      cursor: pointer;\n",
              "      display: none;\n",
              "      fill: #1967D2;\n",
              "      height: 32px;\n",
              "      padding: 0 0 0 0;\n",
              "      width: 32px;\n",
              "    }\n",
              "\n",
              "    .colab-df-convert:hover {\n",
              "      background-color: #E2EBFA;\n",
              "      box-shadow: 0px 1px 2px rgba(60, 64, 67, 0.3), 0px 1px 3px 1px rgba(60, 64, 67, 0.15);\n",
              "      fill: #174EA6;\n",
              "    }\n",
              "\n",
              "    [theme=dark] .colab-df-convert {\n",
              "      background-color: #3B4455;\n",
              "      fill: #D2E3FC;\n",
              "    }\n",
              "\n",
              "    [theme=dark] .colab-df-convert:hover {\n",
              "      background-color: #434B5C;\n",
              "      box-shadow: 0px 1px 3px 1px rgba(0, 0, 0, 0.15);\n",
              "      filter: drop-shadow(0px 1px 2px rgba(0, 0, 0, 0.3));\n",
              "      fill: #FFFFFF;\n",
              "    }\n",
              "  </style>\n",
              "\n",
              "      <script>\n",
              "        const buttonEl =\n",
              "          document.querySelector('#df-00a9749b-2c41-44c0-b92b-882c34494987 button.colab-df-convert');\n",
              "        buttonEl.style.display =\n",
              "          google.colab.kernel.accessAllowed ? 'block' : 'none';\n",
              "\n",
              "        async function convertToInteractive(key) {\n",
              "          const element = document.querySelector('#df-00a9749b-2c41-44c0-b92b-882c34494987');\n",
              "          const dataTable =\n",
              "            await google.colab.kernel.invokeFunction('convertToInteractive',\n",
              "                                                     [key], {});\n",
              "          if (!dataTable) return;\n",
              "\n",
              "          const docLinkHtml = 'Like what you see? Visit the ' +\n",
              "            '<a target=\"_blank\" href=https://colab.research.google.com/notebooks/data_table.ipynb>data table notebook</a>'\n",
              "            + ' to learn more about interactive tables.';\n",
              "          element.innerHTML = '';\n",
              "          dataTable['output_type'] = 'display_data';\n",
              "          await google.colab.output.renderOutput(dataTable, element);\n",
              "          const docLink = document.createElement('div');\n",
              "          docLink.innerHTML = docLinkHtml;\n",
              "          element.appendChild(docLink);\n",
              "        }\n",
              "      </script>\n",
              "    </div>\n",
              "  </div>\n",
              "  "
            ]
          },
          "metadata": {},
          "execution_count": 4
        }
      ]
    },
    {
      "cell_type": "code",
      "source": [
        "import copy\n",
        "\n",
        "adj_matrix = adj_matrix_rating.copy()\n",
        "# 행렬의 결측치(사용자가 보지 않은 영화)에 대해 해당 사용자의 평균 평점으로 대치해줌\n",
        "for i in range(adj_matrix_rating.shape[0]):\n",
        "  adj_matrix.iloc[i] = adj_matrix_rating.iloc[i].fillna(adj_matrix_rating.iloc[i].mean())\n",
        "adj_matrix.head(5)"
      ],
      "metadata": {
        "id": "z4N5VaWGzCwp",
        "outputId": "0f115218-1e8f-4c49-b7f2-ace97fb037f4",
        "colab": {
          "base_uri": "https://localhost:8080/",
          "height": 267
        }
      },
      "execution_count": 5,
      "outputs": [
        {
          "output_type": "execute_result",
          "data": {
            "text/plain": [
              "movieId      1         2         3         4         5         6         7     \\\n",
              "userId                                                                          \n",
              "1        5.000000  4.188679  4.188679  4.188679  4.188679  4.188679  4.188679   \n",
              "2        3.713178  3.713178  3.713178  3.713178  3.713178  3.713178  3.713178   \n",
              "3        3.901961  3.901961  3.901961  3.901961  3.901961  3.901961  3.901961   \n",
              "4        4.190476  4.190476  4.190476  4.190476  4.190476  4.190476  4.190476   \n",
              "5        3.146465  3.146465  3.146465  3.146465  3.146465  2.000000  3.146465   \n",
              "\n",
              "movieId      8         9         10    ...      3943      3944      3945  \\\n",
              "userId                                 ...                                 \n",
              "1        4.188679  4.188679  4.188679  ...  4.188679  4.188679  4.188679   \n",
              "2        3.713178  3.713178  3.713178  ...  3.713178  3.713178  3.713178   \n",
              "3        3.901961  3.901961  3.901961  ...  3.901961  3.901961  3.901961   \n",
              "4        4.190476  4.190476  4.190476  ...  4.190476  4.190476  4.190476   \n",
              "5        3.146465  3.146465  3.146465  ...  3.146465  3.146465  3.146465   \n",
              "\n",
              "movieId      3946      3947      3948      3949      3950      3951      3952  \n",
              "userId                                                                         \n",
              "1        4.188679  4.188679  4.188679  4.188679  4.188679  4.188679  4.188679  \n",
              "2        3.713178  3.713178  3.713178  3.713178  3.713178  3.713178  3.713178  \n",
              "3        3.901961  3.901961  3.901961  3.901961  3.901961  3.901961  3.901961  \n",
              "4        4.190476  4.190476  4.190476  4.190476  4.190476  4.190476  4.190476  \n",
              "5        3.146465  3.146465  3.146465  3.146465  3.146465  3.146465  3.146465  \n",
              "\n",
              "[5 rows x 3706 columns]"
            ],
            "text/html": [
              "\n",
              "  <div id=\"df-3d048154-ed43-4d20-a522-d00efd243bdd\">\n",
              "    <div class=\"colab-df-container\">\n",
              "      <div>\n",
              "<style scoped>\n",
              "    .dataframe tbody tr th:only-of-type {\n",
              "        vertical-align: middle;\n",
              "    }\n",
              "\n",
              "    .dataframe tbody tr th {\n",
              "        vertical-align: top;\n",
              "    }\n",
              "\n",
              "    .dataframe thead th {\n",
              "        text-align: right;\n",
              "    }\n",
              "</style>\n",
              "<table border=\"1\" class=\"dataframe\">\n",
              "  <thead>\n",
              "    <tr style=\"text-align: right;\">\n",
              "      <th>movieId</th>\n",
              "      <th>1</th>\n",
              "      <th>2</th>\n",
              "      <th>3</th>\n",
              "      <th>4</th>\n",
              "      <th>5</th>\n",
              "      <th>6</th>\n",
              "      <th>7</th>\n",
              "      <th>8</th>\n",
              "      <th>9</th>\n",
              "      <th>10</th>\n",
              "      <th>...</th>\n",
              "      <th>3943</th>\n",
              "      <th>3944</th>\n",
              "      <th>3945</th>\n",
              "      <th>3946</th>\n",
              "      <th>3947</th>\n",
              "      <th>3948</th>\n",
              "      <th>3949</th>\n",
              "      <th>3950</th>\n",
              "      <th>3951</th>\n",
              "      <th>3952</th>\n",
              "    </tr>\n",
              "    <tr>\n",
              "      <th>userId</th>\n",
              "      <th></th>\n",
              "      <th></th>\n",
              "      <th></th>\n",
              "      <th></th>\n",
              "      <th></th>\n",
              "      <th></th>\n",
              "      <th></th>\n",
              "      <th></th>\n",
              "      <th></th>\n",
              "      <th></th>\n",
              "      <th></th>\n",
              "      <th></th>\n",
              "      <th></th>\n",
              "      <th></th>\n",
              "      <th></th>\n",
              "      <th></th>\n",
              "      <th></th>\n",
              "      <th></th>\n",
              "      <th></th>\n",
              "      <th></th>\n",
              "      <th></th>\n",
              "    </tr>\n",
              "  </thead>\n",
              "  <tbody>\n",
              "    <tr>\n",
              "      <th>1</th>\n",
              "      <td>5.000000</td>\n",
              "      <td>4.188679</td>\n",
              "      <td>4.188679</td>\n",
              "      <td>4.188679</td>\n",
              "      <td>4.188679</td>\n",
              "      <td>4.188679</td>\n",
              "      <td>4.188679</td>\n",
              "      <td>4.188679</td>\n",
              "      <td>4.188679</td>\n",
              "      <td>4.188679</td>\n",
              "      <td>...</td>\n",
              "      <td>4.188679</td>\n",
              "      <td>4.188679</td>\n",
              "      <td>4.188679</td>\n",
              "      <td>4.188679</td>\n",
              "      <td>4.188679</td>\n",
              "      <td>4.188679</td>\n",
              "      <td>4.188679</td>\n",
              "      <td>4.188679</td>\n",
              "      <td>4.188679</td>\n",
              "      <td>4.188679</td>\n",
              "    </tr>\n",
              "    <tr>\n",
              "      <th>2</th>\n",
              "      <td>3.713178</td>\n",
              "      <td>3.713178</td>\n",
              "      <td>3.713178</td>\n",
              "      <td>3.713178</td>\n",
              "      <td>3.713178</td>\n",
              "      <td>3.713178</td>\n",
              "      <td>3.713178</td>\n",
              "      <td>3.713178</td>\n",
              "      <td>3.713178</td>\n",
              "      <td>3.713178</td>\n",
              "      <td>...</td>\n",
              "      <td>3.713178</td>\n",
              "      <td>3.713178</td>\n",
              "      <td>3.713178</td>\n",
              "      <td>3.713178</td>\n",
              "      <td>3.713178</td>\n",
              "      <td>3.713178</td>\n",
              "      <td>3.713178</td>\n",
              "      <td>3.713178</td>\n",
              "      <td>3.713178</td>\n",
              "      <td>3.713178</td>\n",
              "    </tr>\n",
              "    <tr>\n",
              "      <th>3</th>\n",
              "      <td>3.901961</td>\n",
              "      <td>3.901961</td>\n",
              "      <td>3.901961</td>\n",
              "      <td>3.901961</td>\n",
              "      <td>3.901961</td>\n",
              "      <td>3.901961</td>\n",
              "      <td>3.901961</td>\n",
              "      <td>3.901961</td>\n",
              "      <td>3.901961</td>\n",
              "      <td>3.901961</td>\n",
              "      <td>...</td>\n",
              "      <td>3.901961</td>\n",
              "      <td>3.901961</td>\n",
              "      <td>3.901961</td>\n",
              "      <td>3.901961</td>\n",
              "      <td>3.901961</td>\n",
              "      <td>3.901961</td>\n",
              "      <td>3.901961</td>\n",
              "      <td>3.901961</td>\n",
              "      <td>3.901961</td>\n",
              "      <td>3.901961</td>\n",
              "    </tr>\n",
              "    <tr>\n",
              "      <th>4</th>\n",
              "      <td>4.190476</td>\n",
              "      <td>4.190476</td>\n",
              "      <td>4.190476</td>\n",
              "      <td>4.190476</td>\n",
              "      <td>4.190476</td>\n",
              "      <td>4.190476</td>\n",
              "      <td>4.190476</td>\n",
              "      <td>4.190476</td>\n",
              "      <td>4.190476</td>\n",
              "      <td>4.190476</td>\n",
              "      <td>...</td>\n",
              "      <td>4.190476</td>\n",
              "      <td>4.190476</td>\n",
              "      <td>4.190476</td>\n",
              "      <td>4.190476</td>\n",
              "      <td>4.190476</td>\n",
              "      <td>4.190476</td>\n",
              "      <td>4.190476</td>\n",
              "      <td>4.190476</td>\n",
              "      <td>4.190476</td>\n",
              "      <td>4.190476</td>\n",
              "    </tr>\n",
              "    <tr>\n",
              "      <th>5</th>\n",
              "      <td>3.146465</td>\n",
              "      <td>3.146465</td>\n",
              "      <td>3.146465</td>\n",
              "      <td>3.146465</td>\n",
              "      <td>3.146465</td>\n",
              "      <td>2.000000</td>\n",
              "      <td>3.146465</td>\n",
              "      <td>3.146465</td>\n",
              "      <td>3.146465</td>\n",
              "      <td>3.146465</td>\n",
              "      <td>...</td>\n",
              "      <td>3.146465</td>\n",
              "      <td>3.146465</td>\n",
              "      <td>3.146465</td>\n",
              "      <td>3.146465</td>\n",
              "      <td>3.146465</td>\n",
              "      <td>3.146465</td>\n",
              "      <td>3.146465</td>\n",
              "      <td>3.146465</td>\n",
              "      <td>3.146465</td>\n",
              "      <td>3.146465</td>\n",
              "    </tr>\n",
              "  </tbody>\n",
              "</table>\n",
              "<p>5 rows × 3706 columns</p>\n",
              "</div>\n",
              "      <button class=\"colab-df-convert\" onclick=\"convertToInteractive('df-3d048154-ed43-4d20-a522-d00efd243bdd')\"\n",
              "              title=\"Convert this dataframe to an interactive table.\"\n",
              "              style=\"display:none;\">\n",
              "        \n",
              "  <svg xmlns=\"http://www.w3.org/2000/svg\" height=\"24px\"viewBox=\"0 0 24 24\"\n",
              "       width=\"24px\">\n",
              "    <path d=\"M0 0h24v24H0V0z\" fill=\"none\"/>\n",
              "    <path d=\"M18.56 5.44l.94 2.06.94-2.06 2.06-.94-2.06-.94-.94-2.06-.94 2.06-2.06.94zm-11 1L8.5 8.5l.94-2.06 2.06-.94-2.06-.94L8.5 2.5l-.94 2.06-2.06.94zm10 10l.94 2.06.94-2.06 2.06-.94-2.06-.94-.94-2.06-.94 2.06-2.06.94z\"/><path d=\"M17.41 7.96l-1.37-1.37c-.4-.4-.92-.59-1.43-.59-.52 0-1.04.2-1.43.59L10.3 9.45l-7.72 7.72c-.78.78-.78 2.05 0 2.83L4 21.41c.39.39.9.59 1.41.59.51 0 1.02-.2 1.41-.59l7.78-7.78 2.81-2.81c.8-.78.8-2.07 0-2.86zM5.41 20L4 18.59l7.72-7.72 1.47 1.35L5.41 20z\"/>\n",
              "  </svg>\n",
              "      </button>\n",
              "      \n",
              "  <style>\n",
              "    .colab-df-container {\n",
              "      display:flex;\n",
              "      flex-wrap:wrap;\n",
              "      gap: 12px;\n",
              "    }\n",
              "\n",
              "    .colab-df-convert {\n",
              "      background-color: #E8F0FE;\n",
              "      border: none;\n",
              "      border-radius: 50%;\n",
              "      cursor: pointer;\n",
              "      display: none;\n",
              "      fill: #1967D2;\n",
              "      height: 32px;\n",
              "      padding: 0 0 0 0;\n",
              "      width: 32px;\n",
              "    }\n",
              "\n",
              "    .colab-df-convert:hover {\n",
              "      background-color: #E2EBFA;\n",
              "      box-shadow: 0px 1px 2px rgba(60, 64, 67, 0.3), 0px 1px 3px 1px rgba(60, 64, 67, 0.15);\n",
              "      fill: #174EA6;\n",
              "    }\n",
              "\n",
              "    [theme=dark] .colab-df-convert {\n",
              "      background-color: #3B4455;\n",
              "      fill: #D2E3FC;\n",
              "    }\n",
              "\n",
              "    [theme=dark] .colab-df-convert:hover {\n",
              "      background-color: #434B5C;\n",
              "      box-shadow: 0px 1px 3px 1px rgba(0, 0, 0, 0.15);\n",
              "      filter: drop-shadow(0px 1px 2px rgba(0, 0, 0, 0.3));\n",
              "      fill: #FFFFFF;\n",
              "    }\n",
              "  </style>\n",
              "\n",
              "      <script>\n",
              "        const buttonEl =\n",
              "          document.querySelector('#df-3d048154-ed43-4d20-a522-d00efd243bdd button.colab-df-convert');\n",
              "        buttonEl.style.display =\n",
              "          google.colab.kernel.accessAllowed ? 'block' : 'none';\n",
              "\n",
              "        async function convertToInteractive(key) {\n",
              "          const element = document.querySelector('#df-3d048154-ed43-4d20-a522-d00efd243bdd');\n",
              "          const dataTable =\n",
              "            await google.colab.kernel.invokeFunction('convertToInteractive',\n",
              "                                                     [key], {});\n",
              "          if (!dataTable) return;\n",
              "\n",
              "          const docLinkHtml = 'Like what you see? Visit the ' +\n",
              "            '<a target=\"_blank\" href=https://colab.research.google.com/notebooks/data_table.ipynb>data table notebook</a>'\n",
              "            + ' to learn more about interactive tables.';\n",
              "          element.innerHTML = '';\n",
              "          dataTable['output_type'] = 'display_data';\n",
              "          await google.colab.output.renderOutput(dataTable, element);\n",
              "          const docLink = document.createElement('div');\n",
              "          docLink.innerHTML = docLinkHtml;\n",
              "          element.appendChild(docLink);\n",
              "        }\n",
              "      </script>\n",
              "    </div>\n",
              "  </div>\n",
              "  "
            ]
          },
          "metadata": {},
          "execution_count": 5
        }
      ]
    },
    {
      "cell_type": "code",
      "source": [
        "import numpy as np\n",
        "from numpy.linalg import svd\n",
        "#numpy를 통한 svd 진행\n",
        "U, Sigma, Vt = svd(adj_matrix)"
      ],
      "metadata": {
        "id": "4389RNc81ZLA"
      },
      "execution_count": 6,
      "outputs": []
    },
    {
      "cell_type": "code",
      "source": [
        "Sigma.shape"
      ],
      "metadata": {
        "id": "oXFVAoiV1ihr",
        "outputId": "e70510c2-d6ba-471a-a3f1-c1d70f363b99",
        "colab": {
          "base_uri": "https://localhost:8080/"
        }
      },
      "execution_count": 7,
      "outputs": [
        {
          "output_type": "execute_result",
          "data": {
            "text/plain": [
              "(3706,)"
            ]
          },
          "metadata": {},
          "execution_count": 7
        }
      ]
    },
    {
      "cell_type": "code",
      "source": [
        "print(f'특잇값 대각행렬 개수: \\n{Sigma.shape[0]}개')\n",
        "print(f'특잇값 상위 30개: \\n{Sigma[:30]}')\n",
        "print(f'특잇값 하위 30개: \\n{Sigma[-30:]}')"
      ],
      "metadata": {
        "id": "vghgkXFI2w40",
        "outputId": "445718a7-fc01-46a5-fb5a-58285fa28bca",
        "colab": {
          "base_uri": "https://localhost:8080/"
        }
      },
      "execution_count": 8,
      "outputs": [
        {
          "output_type": "stream",
          "name": "stdout",
          "text": [
            "특잇값 대각행렬 개수: \n",
            "3706개\n",
            "특잇값 상위 30개: \n",
            "[17636.38786959   218.37248025   130.44115489   100.3386695\n",
            "    93.44339761    87.43051401    83.7291781     77.32125892\n",
            "    73.65106722    69.76130371    68.20570232    66.86023041\n",
            "    64.54553212    62.82188713    62.11785242    60.64357302\n",
            "    59.51223716    58.95154867    58.04919338    56.88837046\n",
            "    56.46499374    55.52009236    54.82594478    54.17839014\n",
            "    54.0343861     53.35627703    53.03685309    52.73950587\n",
            "    52.21476985    51.95324078]\n",
            "특잇값 하위 30개: \n",
            "[1.74553768e-12 1.74553768e-12 1.74553768e-12 1.74553768e-12\n",
            " 1.74553768e-12 1.74553768e-12 1.74553768e-12 1.74553768e-12\n",
            " 1.74553768e-12 1.74553768e-12 1.74553768e-12 1.74553768e-12\n",
            " 1.74553768e-12 1.74553768e-12 1.74553768e-12 1.74553768e-12\n",
            " 1.74553768e-12 1.74553768e-12 1.74553768e-12 1.74553768e-12\n",
            " 1.74553768e-12 1.74553768e-12 1.74553768e-12 1.74553768e-12\n",
            " 1.74553768e-12 1.74553768e-12 1.74553768e-12 1.74553768e-12\n",
            " 1.74553768e-12 1.74553768e-12]\n"
          ]
        }
      ]
    },
    {
      "cell_type": "code",
      "source": [
        "# singular value 개수 초기화\n",
        "cnt, s = 0, 0\n",
        "\n",
        "# 대각행렬 singular value 개수 만큼 반복\n",
        "for i in range(len(Sigma)):\n",
        "  cnt += 1\n",
        "  s += Sigma[i]\n",
        "  \n",
        "  # 전체 singular value의 90%까지 파악할 수 있는 개수가 되면 반복 중지\n",
        "  if s >= sum(Sigma)*0.9:\n",
        "    break\n",
        "print(f'90%의 singular value 개수: \\n{cnt}개')"
      ],
      "metadata": {
        "id": "LRr7qOtH3Z9R",
        "outputId": "4de818a9-9cad-4cc9-8dd4-03e0d601919c",
        "colab": {
          "base_uri": "https://localhost:8080/"
        }
      },
      "execution_count": 9,
      "outputs": [
        {
          "output_type": "stream",
          "name": "stdout",
          "text": [
            "90%의 singular value 개수: \n",
            "1757개\n"
          ]
        }
      ]
    },
    {
      "cell_type": "code",
      "source": [
        "# 최적의 singular value 개수 만큼 차원을 축소하여 행렬 곱을 취해 값을 추정\n",
        "U = U[:, :1757]\n",
        "Sigma = np.diag(Sigma[:1757])\n",
        "Vt = Vt[:1757]\n",
        "\n",
        "adj = np.dot(np.dot(U, Sigma), Vt)"
      ],
      "metadata": {
        "id": "xWc8fR0B53Lg"
      },
      "execution_count": 10,
      "outputs": []
    },
    {
      "cell_type": "code",
      "source": [
        "adj"
      ],
      "metadata": {
        "id": "_UUGN_fX7D3y",
        "outputId": "7218ad5b-8596-49b2-aa4c-2a3c7ce6f7a8",
        "colab": {
          "base_uri": "https://localhost:8080/"
        }
      },
      "execution_count": 11,
      "outputs": [
        {
          "output_type": "execute_result",
          "data": {
            "text/plain": [
              "array([[4.99567318, 4.18417638, 4.18703922, ..., 4.18597718, 4.18240146,\n",
              "        4.18495941],\n",
              "       [3.702871  , 3.69690202, 3.70878063, ..., 3.7142205 , 3.75326943,\n",
              "        3.72763303],\n",
              "       [3.89644532, 3.8807421 , 3.91087832, ..., 3.9287229 , 3.88535235,\n",
              "        3.88597234],\n",
              "       ...,\n",
              "       [3.80416717, 3.80088489, 3.79608201, ..., 3.8057551 , 3.79277019,\n",
              "        3.82581774],\n",
              "       [3.86142863, 3.85604983, 3.89643772, ..., 3.90745948, 3.91366979,\n",
              "        3.86017462],\n",
              "       [2.98894393, 3.57315194, 3.57603707, ..., 3.57100089, 3.62275799,\n",
              "        3.60490456]])"
            ]
          },
          "metadata": {},
          "execution_count": 11
        }
      ]
    },
    {
      "cell_type": "markdown",
      "source": [
        "### 평가하기\n",
        "\n",
        "오프라인 평가를 하기 위해선 train - test 셋으로 나눈뒤 test 셋에 내용이 train 셋에 있는 경우만 그 선호도 관련 오차를 계산해본다. \n",
        "\n"
      ],
      "metadata": {
        "id": "sL879-xoGRYL"
      }
    },
    {
      "cell_type": "code",
      "source": [
        "from sklearn.model_selection import train_test_split\n",
        "\n",
        "train, test = train_test_split(ratings, test_size = 0.3, random_state=2)\n"
      ],
      "metadata": {
        "id": "_A8HJSjeovPW"
      },
      "execution_count": 22,
      "outputs": []
    },
    {
      "cell_type": "code",
      "source": [
        "U, Sigma, Vt = svd(adj_matrix)"
      ],
      "metadata": {
        "id": "2IXokoxkIfkL"
      },
      "execution_count": 23,
      "outputs": []
    },
    {
      "cell_type": "code",
      "source": [
        "import tqdm\n",
        "def svd_method(df, k = 30):\n",
        "  \"\"\"\n",
        "  무비렌즈 한정 svd 진행. \n",
        "  유저별 영화에 대한 평점 테이블을 pivot 진행하여 svd 후 특정 k차원으로 축소하여 행렬곱 진행\n",
        "  k값 default: 30\n",
        "  \"\"\"\n",
        "  df_pivot = df.pivot(index = 'userId', columns = 'movieId', values = 'rating')\n",
        "  for i in range(df_pivot.shape[0]):\n",
        "    df_pivot.iloc[i] = df_pivot.iloc[i].fillna(df_pivot.iloc[i].mean())\n",
        "  U, Sigma, Vt = np.linalg.svd(df_pivot)\n",
        "  U = U[:, :k]\n",
        "  Sigma = np.diag(Sigma[:k]) \n",
        "  Vt = Vt[:k]\n",
        "  svd_df = pd.DataFrame(np.dot(np.dot(U, Sigma), Vt), columns = df_pivot.columns)\n",
        "  return svd_df\n"
      ],
      "metadata": {
        "id": "CRsjl-ebIXFB"
      },
      "execution_count": 24,
      "outputs": []
    },
    {
      "cell_type": "code",
      "source": [
        "result_train = svd_method(train)"
      ],
      "metadata": {
        "id": "qZXjO23CIO6w"
      },
      "execution_count": 25,
      "outputs": []
    },
    {
      "cell_type": "code",
      "source": [
        "result_train"
      ],
      "metadata": {
        "id": "iOO01OUVIO2A",
        "outputId": "40bbf287-9e8e-49cc-ee55-5c455ba034b7",
        "colab": {
          "base_uri": "https://localhost:8080/",
          "height": 488
        }
      },
      "execution_count": 26,
      "outputs": [
        {
          "output_type": "execute_result",
          "data": {
            "text/plain": [
              "movieId      1         2         3         4         5         6         7     \\\n",
              "0        4.406719  4.237895  4.232751  4.227334  4.225449  4.232631  4.236012   \n",
              "1        3.773742  3.536092  3.635949  3.588707  3.621065  3.613953  3.614124   \n",
              "2        3.933157  3.853219  3.903122  3.905765  3.909692  3.907759  3.929189   \n",
              "3        4.221256  4.238438  4.261530  4.238799  4.258671  4.239076  4.235123   \n",
              "4        3.530989  3.229731  3.205670  3.261263  3.186778  3.204552  3.222422   \n",
              "...           ...       ...       ...       ...       ...       ...       ...   \n",
              "6035     3.907816  3.060213  3.487437  3.340842  3.410343  3.152613  3.314705   \n",
              "6036     3.829205  3.725653  3.779356  3.751018  3.766757  3.717269  3.771798   \n",
              "6037     4.108660  4.068180  4.056101  4.059848  4.068521  4.064084  4.058407   \n",
              "6038     3.949719  3.846331  3.870498  3.873213  3.870104  3.849711  3.865330   \n",
              "6039     3.461449  3.588201  3.609354  3.641828  3.617751  3.585635  3.627094   \n",
              "\n",
              "movieId      8         9         10    ...      3943      3944      3945  \\\n",
              "0        4.222471  4.231395  4.205404  ...  4.219884  4.228557  4.227502   \n",
              "1        3.619457  3.624868  3.567092  ...  3.618290  3.635277  3.591854   \n",
              "2        3.908893  3.898288  3.917921  ...  3.908084  3.905554  3.903522   \n",
              "3        4.236975  4.224855  4.225954  ...  4.223116  4.233445  4.220218   \n",
              "4        3.223244  3.229376  3.206572  ...  3.221656  3.209720  3.211343   \n",
              "...           ...       ...       ...  ...       ...       ...       ...   \n",
              "6035     3.298656  3.237734  3.055208  ...  3.227762  3.289536  3.128244   \n",
              "6036     3.777958  3.814557  3.790586  ...  3.773335  3.800333  3.724321   \n",
              "6037     4.064774  4.071208  4.070060  ...  4.064332  4.059684  4.069592   \n",
              "6038     3.880304  3.883132  3.886553  ...  3.887927  3.878939  3.895716   \n",
              "6039     3.582022  3.638757  3.624339  ...  3.600968  3.592020  3.604467   \n",
              "\n",
              "movieId      3946      3947      3948      3949      3950      3951      3952  \n",
              "0        4.233560  4.230812  4.234241  4.226189  4.231685  4.233957  4.225701  \n",
              "1        3.607248  3.635388  3.625367  3.645536  3.638220  3.636207  3.643587  \n",
              "2        3.922512  3.903915  3.852818  3.887725  3.905684  3.909697  3.896438  \n",
              "3        4.216499  4.228287  4.227236  4.237920  4.230017  4.230131  4.219167  \n",
              "4        3.258488  3.211510  3.205123  3.284182  3.215597  3.227068  3.219447  \n",
              "...           ...       ...       ...       ...       ...       ...       ...  \n",
              "6035     3.108018  3.337385  3.337974  3.645747  3.322584  3.292341  3.347335  \n",
              "6036     3.776933  3.782133  3.775558  3.791170  3.803606  3.800325  3.785016  \n",
              "6037     4.058485  4.062609  4.043853  4.058960  4.057798  4.062946  4.064576  \n",
              "6038     3.886013  3.885571  3.850680  3.871746  3.881901  3.883975  3.887669  \n",
              "6039     3.515081  3.604660  3.653994  3.679749  3.589307  3.596042  3.608453  \n",
              "\n",
              "[6040 rows x 3654 columns]"
            ],
            "text/html": [
              "\n",
              "  <div id=\"df-c5e47465-dfeb-43cb-b038-1a77e35b5a08\">\n",
              "    <div class=\"colab-df-container\">\n",
              "      <div>\n",
              "<style scoped>\n",
              "    .dataframe tbody tr th:only-of-type {\n",
              "        vertical-align: middle;\n",
              "    }\n",
              "\n",
              "    .dataframe tbody tr th {\n",
              "        vertical-align: top;\n",
              "    }\n",
              "\n",
              "    .dataframe thead th {\n",
              "        text-align: right;\n",
              "    }\n",
              "</style>\n",
              "<table border=\"1\" class=\"dataframe\">\n",
              "  <thead>\n",
              "    <tr style=\"text-align: right;\">\n",
              "      <th>movieId</th>\n",
              "      <th>1</th>\n",
              "      <th>2</th>\n",
              "      <th>3</th>\n",
              "      <th>4</th>\n",
              "      <th>5</th>\n",
              "      <th>6</th>\n",
              "      <th>7</th>\n",
              "      <th>8</th>\n",
              "      <th>9</th>\n",
              "      <th>10</th>\n",
              "      <th>...</th>\n",
              "      <th>3943</th>\n",
              "      <th>3944</th>\n",
              "      <th>3945</th>\n",
              "      <th>3946</th>\n",
              "      <th>3947</th>\n",
              "      <th>3948</th>\n",
              "      <th>3949</th>\n",
              "      <th>3950</th>\n",
              "      <th>3951</th>\n",
              "      <th>3952</th>\n",
              "    </tr>\n",
              "  </thead>\n",
              "  <tbody>\n",
              "    <tr>\n",
              "      <th>0</th>\n",
              "      <td>4.406719</td>\n",
              "      <td>4.237895</td>\n",
              "      <td>4.232751</td>\n",
              "      <td>4.227334</td>\n",
              "      <td>4.225449</td>\n",
              "      <td>4.232631</td>\n",
              "      <td>4.236012</td>\n",
              "      <td>4.222471</td>\n",
              "      <td>4.231395</td>\n",
              "      <td>4.205404</td>\n",
              "      <td>...</td>\n",
              "      <td>4.219884</td>\n",
              "      <td>4.228557</td>\n",
              "      <td>4.227502</td>\n",
              "      <td>4.233560</td>\n",
              "      <td>4.230812</td>\n",
              "      <td>4.234241</td>\n",
              "      <td>4.226189</td>\n",
              "      <td>4.231685</td>\n",
              "      <td>4.233957</td>\n",
              "      <td>4.225701</td>\n",
              "    </tr>\n",
              "    <tr>\n",
              "      <th>1</th>\n",
              "      <td>3.773742</td>\n",
              "      <td>3.536092</td>\n",
              "      <td>3.635949</td>\n",
              "      <td>3.588707</td>\n",
              "      <td>3.621065</td>\n",
              "      <td>3.613953</td>\n",
              "      <td>3.614124</td>\n",
              "      <td>3.619457</td>\n",
              "      <td>3.624868</td>\n",
              "      <td>3.567092</td>\n",
              "      <td>...</td>\n",
              "      <td>3.618290</td>\n",
              "      <td>3.635277</td>\n",
              "      <td>3.591854</td>\n",
              "      <td>3.607248</td>\n",
              "      <td>3.635388</td>\n",
              "      <td>3.625367</td>\n",
              "      <td>3.645536</td>\n",
              "      <td>3.638220</td>\n",
              "      <td>3.636207</td>\n",
              "      <td>3.643587</td>\n",
              "    </tr>\n",
              "    <tr>\n",
              "      <th>2</th>\n",
              "      <td>3.933157</td>\n",
              "      <td>3.853219</td>\n",
              "      <td>3.903122</td>\n",
              "      <td>3.905765</td>\n",
              "      <td>3.909692</td>\n",
              "      <td>3.907759</td>\n",
              "      <td>3.929189</td>\n",
              "      <td>3.908893</td>\n",
              "      <td>3.898288</td>\n",
              "      <td>3.917921</td>\n",
              "      <td>...</td>\n",
              "      <td>3.908084</td>\n",
              "      <td>3.905554</td>\n",
              "      <td>3.903522</td>\n",
              "      <td>3.922512</td>\n",
              "      <td>3.903915</td>\n",
              "      <td>3.852818</td>\n",
              "      <td>3.887725</td>\n",
              "      <td>3.905684</td>\n",
              "      <td>3.909697</td>\n",
              "      <td>3.896438</td>\n",
              "    </tr>\n",
              "    <tr>\n",
              "      <th>3</th>\n",
              "      <td>4.221256</td>\n",
              "      <td>4.238438</td>\n",
              "      <td>4.261530</td>\n",
              "      <td>4.238799</td>\n",
              "      <td>4.258671</td>\n",
              "      <td>4.239076</td>\n",
              "      <td>4.235123</td>\n",
              "      <td>4.236975</td>\n",
              "      <td>4.224855</td>\n",
              "      <td>4.225954</td>\n",
              "      <td>...</td>\n",
              "      <td>4.223116</td>\n",
              "      <td>4.233445</td>\n",
              "      <td>4.220218</td>\n",
              "      <td>4.216499</td>\n",
              "      <td>4.228287</td>\n",
              "      <td>4.227236</td>\n",
              "      <td>4.237920</td>\n",
              "      <td>4.230017</td>\n",
              "      <td>4.230131</td>\n",
              "      <td>4.219167</td>\n",
              "    </tr>\n",
              "    <tr>\n",
              "      <th>4</th>\n",
              "      <td>3.530989</td>\n",
              "      <td>3.229731</td>\n",
              "      <td>3.205670</td>\n",
              "      <td>3.261263</td>\n",
              "      <td>3.186778</td>\n",
              "      <td>3.204552</td>\n",
              "      <td>3.222422</td>\n",
              "      <td>3.223244</td>\n",
              "      <td>3.229376</td>\n",
              "      <td>3.206572</td>\n",
              "      <td>...</td>\n",
              "      <td>3.221656</td>\n",
              "      <td>3.209720</td>\n",
              "      <td>3.211343</td>\n",
              "      <td>3.258488</td>\n",
              "      <td>3.211510</td>\n",
              "      <td>3.205123</td>\n",
              "      <td>3.284182</td>\n",
              "      <td>3.215597</td>\n",
              "      <td>3.227068</td>\n",
              "      <td>3.219447</td>\n",
              "    </tr>\n",
              "    <tr>\n",
              "      <th>...</th>\n",
              "      <td>...</td>\n",
              "      <td>...</td>\n",
              "      <td>...</td>\n",
              "      <td>...</td>\n",
              "      <td>...</td>\n",
              "      <td>...</td>\n",
              "      <td>...</td>\n",
              "      <td>...</td>\n",
              "      <td>...</td>\n",
              "      <td>...</td>\n",
              "      <td>...</td>\n",
              "      <td>...</td>\n",
              "      <td>...</td>\n",
              "      <td>...</td>\n",
              "      <td>...</td>\n",
              "      <td>...</td>\n",
              "      <td>...</td>\n",
              "      <td>...</td>\n",
              "      <td>...</td>\n",
              "      <td>...</td>\n",
              "      <td>...</td>\n",
              "    </tr>\n",
              "    <tr>\n",
              "      <th>6035</th>\n",
              "      <td>3.907816</td>\n",
              "      <td>3.060213</td>\n",
              "      <td>3.487437</td>\n",
              "      <td>3.340842</td>\n",
              "      <td>3.410343</td>\n",
              "      <td>3.152613</td>\n",
              "      <td>3.314705</td>\n",
              "      <td>3.298656</td>\n",
              "      <td>3.237734</td>\n",
              "      <td>3.055208</td>\n",
              "      <td>...</td>\n",
              "      <td>3.227762</td>\n",
              "      <td>3.289536</td>\n",
              "      <td>3.128244</td>\n",
              "      <td>3.108018</td>\n",
              "      <td>3.337385</td>\n",
              "      <td>3.337974</td>\n",
              "      <td>3.645747</td>\n",
              "      <td>3.322584</td>\n",
              "      <td>3.292341</td>\n",
              "      <td>3.347335</td>\n",
              "    </tr>\n",
              "    <tr>\n",
              "      <th>6036</th>\n",
              "      <td>3.829205</td>\n",
              "      <td>3.725653</td>\n",
              "      <td>3.779356</td>\n",
              "      <td>3.751018</td>\n",
              "      <td>3.766757</td>\n",
              "      <td>3.717269</td>\n",
              "      <td>3.771798</td>\n",
              "      <td>3.777958</td>\n",
              "      <td>3.814557</td>\n",
              "      <td>3.790586</td>\n",
              "      <td>...</td>\n",
              "      <td>3.773335</td>\n",
              "      <td>3.800333</td>\n",
              "      <td>3.724321</td>\n",
              "      <td>3.776933</td>\n",
              "      <td>3.782133</td>\n",
              "      <td>3.775558</td>\n",
              "      <td>3.791170</td>\n",
              "      <td>3.803606</td>\n",
              "      <td>3.800325</td>\n",
              "      <td>3.785016</td>\n",
              "    </tr>\n",
              "    <tr>\n",
              "      <th>6037</th>\n",
              "      <td>4.108660</td>\n",
              "      <td>4.068180</td>\n",
              "      <td>4.056101</td>\n",
              "      <td>4.059848</td>\n",
              "      <td>4.068521</td>\n",
              "      <td>4.064084</td>\n",
              "      <td>4.058407</td>\n",
              "      <td>4.064774</td>\n",
              "      <td>4.071208</td>\n",
              "      <td>4.070060</td>\n",
              "      <td>...</td>\n",
              "      <td>4.064332</td>\n",
              "      <td>4.059684</td>\n",
              "      <td>4.069592</td>\n",
              "      <td>4.058485</td>\n",
              "      <td>4.062609</td>\n",
              "      <td>4.043853</td>\n",
              "      <td>4.058960</td>\n",
              "      <td>4.057798</td>\n",
              "      <td>4.062946</td>\n",
              "      <td>4.064576</td>\n",
              "    </tr>\n",
              "    <tr>\n",
              "      <th>6038</th>\n",
              "      <td>3.949719</td>\n",
              "      <td>3.846331</td>\n",
              "      <td>3.870498</td>\n",
              "      <td>3.873213</td>\n",
              "      <td>3.870104</td>\n",
              "      <td>3.849711</td>\n",
              "      <td>3.865330</td>\n",
              "      <td>3.880304</td>\n",
              "      <td>3.883132</td>\n",
              "      <td>3.886553</td>\n",
              "      <td>...</td>\n",
              "      <td>3.887927</td>\n",
              "      <td>3.878939</td>\n",
              "      <td>3.895716</td>\n",
              "      <td>3.886013</td>\n",
              "      <td>3.885571</td>\n",
              "      <td>3.850680</td>\n",
              "      <td>3.871746</td>\n",
              "      <td>3.881901</td>\n",
              "      <td>3.883975</td>\n",
              "      <td>3.887669</td>\n",
              "    </tr>\n",
              "    <tr>\n",
              "      <th>6039</th>\n",
              "      <td>3.461449</td>\n",
              "      <td>3.588201</td>\n",
              "      <td>3.609354</td>\n",
              "      <td>3.641828</td>\n",
              "      <td>3.617751</td>\n",
              "      <td>3.585635</td>\n",
              "      <td>3.627094</td>\n",
              "      <td>3.582022</td>\n",
              "      <td>3.638757</td>\n",
              "      <td>3.624339</td>\n",
              "      <td>...</td>\n",
              "      <td>3.600968</td>\n",
              "      <td>3.592020</td>\n",
              "      <td>3.604467</td>\n",
              "      <td>3.515081</td>\n",
              "      <td>3.604660</td>\n",
              "      <td>3.653994</td>\n",
              "      <td>3.679749</td>\n",
              "      <td>3.589307</td>\n",
              "      <td>3.596042</td>\n",
              "      <td>3.608453</td>\n",
              "    </tr>\n",
              "  </tbody>\n",
              "</table>\n",
              "<p>6040 rows × 3654 columns</p>\n",
              "</div>\n",
              "      <button class=\"colab-df-convert\" onclick=\"convertToInteractive('df-c5e47465-dfeb-43cb-b038-1a77e35b5a08')\"\n",
              "              title=\"Convert this dataframe to an interactive table.\"\n",
              "              style=\"display:none;\">\n",
              "        \n",
              "  <svg xmlns=\"http://www.w3.org/2000/svg\" height=\"24px\"viewBox=\"0 0 24 24\"\n",
              "       width=\"24px\">\n",
              "    <path d=\"M0 0h24v24H0V0z\" fill=\"none\"/>\n",
              "    <path d=\"M18.56 5.44l.94 2.06.94-2.06 2.06-.94-2.06-.94-.94-2.06-.94 2.06-2.06.94zm-11 1L8.5 8.5l.94-2.06 2.06-.94-2.06-.94L8.5 2.5l-.94 2.06-2.06.94zm10 10l.94 2.06.94-2.06 2.06-.94-2.06-.94-.94-2.06-.94 2.06-2.06.94z\"/><path d=\"M17.41 7.96l-1.37-1.37c-.4-.4-.92-.59-1.43-.59-.52 0-1.04.2-1.43.59L10.3 9.45l-7.72 7.72c-.78.78-.78 2.05 0 2.83L4 21.41c.39.39.9.59 1.41.59.51 0 1.02-.2 1.41-.59l7.78-7.78 2.81-2.81c.8-.78.8-2.07 0-2.86zM5.41 20L4 18.59l7.72-7.72 1.47 1.35L5.41 20z\"/>\n",
              "  </svg>\n",
              "      </button>\n",
              "      \n",
              "  <style>\n",
              "    .colab-df-container {\n",
              "      display:flex;\n",
              "      flex-wrap:wrap;\n",
              "      gap: 12px;\n",
              "    }\n",
              "\n",
              "    .colab-df-convert {\n",
              "      background-color: #E8F0FE;\n",
              "      border: none;\n",
              "      border-radius: 50%;\n",
              "      cursor: pointer;\n",
              "      display: none;\n",
              "      fill: #1967D2;\n",
              "      height: 32px;\n",
              "      padding: 0 0 0 0;\n",
              "      width: 32px;\n",
              "    }\n",
              "\n",
              "    .colab-df-convert:hover {\n",
              "      background-color: #E2EBFA;\n",
              "      box-shadow: 0px 1px 2px rgba(60, 64, 67, 0.3), 0px 1px 3px 1px rgba(60, 64, 67, 0.15);\n",
              "      fill: #174EA6;\n",
              "    }\n",
              "\n",
              "    [theme=dark] .colab-df-convert {\n",
              "      background-color: #3B4455;\n",
              "      fill: #D2E3FC;\n",
              "    }\n",
              "\n",
              "    [theme=dark] .colab-df-convert:hover {\n",
              "      background-color: #434B5C;\n",
              "      box-shadow: 0px 1px 3px 1px rgba(0, 0, 0, 0.15);\n",
              "      filter: drop-shadow(0px 1px 2px rgba(0, 0, 0, 0.3));\n",
              "      fill: #FFFFFF;\n",
              "    }\n",
              "  </style>\n",
              "\n",
              "      <script>\n",
              "        const buttonEl =\n",
              "          document.querySelector('#df-c5e47465-dfeb-43cb-b038-1a77e35b5a08 button.colab-df-convert');\n",
              "        buttonEl.style.display =\n",
              "          google.colab.kernel.accessAllowed ? 'block' : 'none';\n",
              "\n",
              "        async function convertToInteractive(key) {\n",
              "          const element = document.querySelector('#df-c5e47465-dfeb-43cb-b038-1a77e35b5a08');\n",
              "          const dataTable =\n",
              "            await google.colab.kernel.invokeFunction('convertToInteractive',\n",
              "                                                     [key], {});\n",
              "          if (!dataTable) return;\n",
              "\n",
              "          const docLinkHtml = 'Like what you see? Visit the ' +\n",
              "            '<a target=\"_blank\" href=https://colab.research.google.com/notebooks/data_table.ipynb>data table notebook</a>'\n",
              "            + ' to learn more about interactive tables.';\n",
              "          element.innerHTML = '';\n",
              "          dataTable['output_type'] = 'display_data';\n",
              "          await google.colab.output.renderOutput(dataTable, element);\n",
              "          const docLink = document.createElement('div');\n",
              "          docLink.innerHTML = docLinkHtml;\n",
              "          element.appendChild(docLink);\n",
              "        }\n",
              "      </script>\n",
              "    </div>\n",
              "  </div>\n",
              "  "
            ]
          },
          "metadata": {},
          "execution_count": 26
        }
      ]
    },
    {
      "cell_type": "code",
      "source": [
        "def eval(train_result,train, test):\n",
        "  \"\"\"\n",
        "  train_result: k 값에 따라 축소 및 재결합된 행렬\n",
        "  train: train 데이터\n",
        "  test: test 데이터\n",
        "  \"\"\"\n",
        "  result = []\n",
        "  for _, row in test.iterrows():\n",
        "    # 예측해야 하는 유저, 아이템, 평점\n",
        "    user = row['userId']\n",
        "    item = row['movieId']\n",
        "    true_rating = row['rating']\n",
        "    # print(user, item, true_rating)\n",
        "    if user in train_result.index.values and item in train_result.columns.values:\n",
        "      pred = train_result.loc[user][item]\n",
        "    else:\n",
        "      # 없으면 유저 평점의\n",
        "      if user in train['userId'].values:\n",
        "        pred = train[train['userId']==user]['rating'].mean()\n",
        "      else:\n",
        "        pred = test[test['userId']==user]['rating'].mean()\n",
        "    result.append([user, item, true_rating, pred])\n",
        "  df_result = pd.DataFrame(result, columns = ['userId','itemId','rating','prediction'])\n",
        "  # print(f\"RMSE: {np.sqrt(np.square(df_result['prediction']-df_result['rating']).mean())}\")\n",
        "  return np.sqrt(np.square(df_result['prediction']-df_result['rating']).mean())\n",
        "    \n",
        "    "
      ],
      "metadata": {
        "id": "XP4QbW8iSf-Q"
      },
      "execution_count": 27,
      "outputs": []
    },
    {
      "cell_type": "code",
      "source": [
        "eval(result_train, train, test)"
      ],
      "metadata": {
        "id": "k0MJAkLTTkpy",
        "outputId": "92d4d68f-6f69-40c4-97a4-657f7f7f6592",
        "colab": {
          "base_uri": "https://localhost:8080/"
        }
      },
      "execution_count": 28,
      "outputs": [
        {
          "output_type": "execute_result",
          "data": {
            "text/plain": [
              "1.2030242444281536"
            ]
          },
          "metadata": {},
          "execution_count": 28
        }
      ]
    },
    {
      "cell_type": "markdown",
      "source": [
        "### 오차가 적은 k(파라미터)를 찾기\n"
      ],
      "metadata": {
        "id": "9SJaKBPaeQ2J"
      }
    },
    {
      "cell_type": "code",
      "source": [
        "def training(train, test, k_list):\n",
        "  \"\"\"\n",
        "  train: train 데이터\n",
        "  test: test 데이터\n",
        "  k_list: 체크하고자 하는 k 리스트\n",
        "  \"\"\"\n",
        "  result_dict = {}\n",
        "  for k_num in k_list:\n",
        "    r_train = svd_method(train, k_num)\n",
        "    rmse = eval(r_train, train, test)\n",
        "    result_dict.update({k_num:rmse})\n",
        "  result_sorted = sorted(result_dict.items(), key=lambda item: item[1], reverse=False)\n",
        "  print(f'rmse 기준 오차가 가장 적은 k와 rmse는 {result_sorted[0]}입니다.')\n",
        "  print('이외 결과는 아래와 같습니다.')\n",
        "  for i in result_sorted:\n",
        "    print(i)\n",
        "  \n",
        "    \n",
        "    "
      ],
      "metadata": {
        "id": "OEbnM5qYZdxU"
      },
      "execution_count": 36,
      "outputs": []
    },
    {
      "cell_type": "code",
      "source": [
        "training(train, test, [5, 10, 15, 20, 25, 30])"
      ],
      "metadata": {
        "id": "WTWusiGGKONM",
        "outputId": "67259444-5298-493b-c467-1c3afb59035f",
        "colab": {
          "base_uri": "https://localhost:8080/"
        }
      },
      "execution_count": 37,
      "outputs": [
        {
          "output_type": "stream",
          "name": "stdout",
          "text": [
            "rmse 기준 오차가 가장 적은 k와 rmse는 (5, 1.198314807092456)입니다.\n",
            "이외 결과는 아래와 같습니다.\n",
            "(5, 1.198314807092456)\n",
            "(10, 1.1994050462231614)\n",
            "(15, 1.2002991723839531)\n",
            "(20, 1.2014370640023522)\n",
            "(25, 1.2023138112376042)\n",
            "(30, 1.2030242444281536)\n"
          ]
        }
      ]
    },
    {
      "cell_type": "markdown",
      "source": [
        "### 추천하기\n"
      ],
      "metadata": {
        "id": "JGDeqWxASiL_"
      }
    },
    {
      "cell_type": "code",
      "source": [
        "def recommend(original_data, svd_result, user_number, n=10):\n",
        "  \"\"\"\n",
        "  유저와 추천 개수를 선택하면 해당 개수만큼 출력해주는 함수\n",
        "  original_data: 결측값이 존재하는 상태의 pivot 행렬\n",
        "  svd_result: svd 결과 행렬\n",
        "  user_number: 유저 식별 번호\n",
        "  n: 추천할 아이템 개수\n",
        "  \"\"\"\n",
        "  \n",
        "  rec_u_i = {}\n",
        "  for i in original_data.index:\n",
        "    rec_u_i.update({i: list(original_data.iloc[i-1].dropna().index)})\n",
        "  # 이전에 봤던 영화는 삭제\n",
        "  user_df = svd_result.drop(columns = rec_u_i[user_number])\n",
        "  # 정렬을 통해 선호도가 높은 순으로 10개 출력\n",
        "  return user_df.iloc[user_n].sort_values(ascending = False)[:10].index\n",
        "  "
      ],
      "metadata": {
        "id": "xYCaEefhKLu0"
      },
      "execution_count": 46,
      "outputs": []
    },
    {
      "cell_type": "code",
      "source": [
        "adj_matrix_rating.head(2)"
      ],
      "metadata": {
        "id": "BfvZh48URFhv",
        "outputId": "7ff8df13-14ed-4c09-95f4-76b514e3a1e7",
        "colab": {
          "base_uri": "https://localhost:8080/",
          "height": 173
        }
      },
      "execution_count": 41,
      "outputs": [
        {
          "output_type": "execute_result",
          "data": {
            "text/plain": [
              "movieId  1     2     3     4     5     6     7     8     9     10    ...  \\\n",
              "userId                                                               ...   \n",
              "1         5.0   NaN   NaN   NaN   NaN   NaN   NaN   NaN   NaN   NaN  ...   \n",
              "2         NaN   NaN   NaN   NaN   NaN   NaN   NaN   NaN   NaN   NaN  ...   \n",
              "\n",
              "movieId  3943  3944  3945  3946  3947  3948  3949  3950  3951  3952  \n",
              "userId                                                               \n",
              "1         NaN   NaN   NaN   NaN   NaN   NaN   NaN   NaN   NaN   NaN  \n",
              "2         NaN   NaN   NaN   NaN   NaN   NaN   NaN   NaN   NaN   NaN  \n",
              "\n",
              "[2 rows x 3706 columns]"
            ],
            "text/html": [
              "\n",
              "  <div id=\"df-47f13522-6070-4c9d-9a50-ab53b38e5b3e\">\n",
              "    <div class=\"colab-df-container\">\n",
              "      <div>\n",
              "<style scoped>\n",
              "    .dataframe tbody tr th:only-of-type {\n",
              "        vertical-align: middle;\n",
              "    }\n",
              "\n",
              "    .dataframe tbody tr th {\n",
              "        vertical-align: top;\n",
              "    }\n",
              "\n",
              "    .dataframe thead th {\n",
              "        text-align: right;\n",
              "    }\n",
              "</style>\n",
              "<table border=\"1\" class=\"dataframe\">\n",
              "  <thead>\n",
              "    <tr style=\"text-align: right;\">\n",
              "      <th>movieId</th>\n",
              "      <th>1</th>\n",
              "      <th>2</th>\n",
              "      <th>3</th>\n",
              "      <th>4</th>\n",
              "      <th>5</th>\n",
              "      <th>6</th>\n",
              "      <th>7</th>\n",
              "      <th>8</th>\n",
              "      <th>9</th>\n",
              "      <th>10</th>\n",
              "      <th>...</th>\n",
              "      <th>3943</th>\n",
              "      <th>3944</th>\n",
              "      <th>3945</th>\n",
              "      <th>3946</th>\n",
              "      <th>3947</th>\n",
              "      <th>3948</th>\n",
              "      <th>3949</th>\n",
              "      <th>3950</th>\n",
              "      <th>3951</th>\n",
              "      <th>3952</th>\n",
              "    </tr>\n",
              "    <tr>\n",
              "      <th>userId</th>\n",
              "      <th></th>\n",
              "      <th></th>\n",
              "      <th></th>\n",
              "      <th></th>\n",
              "      <th></th>\n",
              "      <th></th>\n",
              "      <th></th>\n",
              "      <th></th>\n",
              "      <th></th>\n",
              "      <th></th>\n",
              "      <th></th>\n",
              "      <th></th>\n",
              "      <th></th>\n",
              "      <th></th>\n",
              "      <th></th>\n",
              "      <th></th>\n",
              "      <th></th>\n",
              "      <th></th>\n",
              "      <th></th>\n",
              "      <th></th>\n",
              "      <th></th>\n",
              "    </tr>\n",
              "  </thead>\n",
              "  <tbody>\n",
              "    <tr>\n",
              "      <th>1</th>\n",
              "      <td>5.0</td>\n",
              "      <td>NaN</td>\n",
              "      <td>NaN</td>\n",
              "      <td>NaN</td>\n",
              "      <td>NaN</td>\n",
              "      <td>NaN</td>\n",
              "      <td>NaN</td>\n",
              "      <td>NaN</td>\n",
              "      <td>NaN</td>\n",
              "      <td>NaN</td>\n",
              "      <td>...</td>\n",
              "      <td>NaN</td>\n",
              "      <td>NaN</td>\n",
              "      <td>NaN</td>\n",
              "      <td>NaN</td>\n",
              "      <td>NaN</td>\n",
              "      <td>NaN</td>\n",
              "      <td>NaN</td>\n",
              "      <td>NaN</td>\n",
              "      <td>NaN</td>\n",
              "      <td>NaN</td>\n",
              "    </tr>\n",
              "    <tr>\n",
              "      <th>2</th>\n",
              "      <td>NaN</td>\n",
              "      <td>NaN</td>\n",
              "      <td>NaN</td>\n",
              "      <td>NaN</td>\n",
              "      <td>NaN</td>\n",
              "      <td>NaN</td>\n",
              "      <td>NaN</td>\n",
              "      <td>NaN</td>\n",
              "      <td>NaN</td>\n",
              "      <td>NaN</td>\n",
              "      <td>...</td>\n",
              "      <td>NaN</td>\n",
              "      <td>NaN</td>\n",
              "      <td>NaN</td>\n",
              "      <td>NaN</td>\n",
              "      <td>NaN</td>\n",
              "      <td>NaN</td>\n",
              "      <td>NaN</td>\n",
              "      <td>NaN</td>\n",
              "      <td>NaN</td>\n",
              "      <td>NaN</td>\n",
              "    </tr>\n",
              "  </tbody>\n",
              "</table>\n",
              "<p>2 rows × 3706 columns</p>\n",
              "</div>\n",
              "      <button class=\"colab-df-convert\" onclick=\"convertToInteractive('df-47f13522-6070-4c9d-9a50-ab53b38e5b3e')\"\n",
              "              title=\"Convert this dataframe to an interactive table.\"\n",
              "              style=\"display:none;\">\n",
              "        \n",
              "  <svg xmlns=\"http://www.w3.org/2000/svg\" height=\"24px\"viewBox=\"0 0 24 24\"\n",
              "       width=\"24px\">\n",
              "    <path d=\"M0 0h24v24H0V0z\" fill=\"none\"/>\n",
              "    <path d=\"M18.56 5.44l.94 2.06.94-2.06 2.06-.94-2.06-.94-.94-2.06-.94 2.06-2.06.94zm-11 1L8.5 8.5l.94-2.06 2.06-.94-2.06-.94L8.5 2.5l-.94 2.06-2.06.94zm10 10l.94 2.06.94-2.06 2.06-.94-2.06-.94-.94-2.06-.94 2.06-2.06.94z\"/><path d=\"M17.41 7.96l-1.37-1.37c-.4-.4-.92-.59-1.43-.59-.52 0-1.04.2-1.43.59L10.3 9.45l-7.72 7.72c-.78.78-.78 2.05 0 2.83L4 21.41c.39.39.9.59 1.41.59.51 0 1.02-.2 1.41-.59l7.78-7.78 2.81-2.81c.8-.78.8-2.07 0-2.86zM5.41 20L4 18.59l7.72-7.72 1.47 1.35L5.41 20z\"/>\n",
              "  </svg>\n",
              "      </button>\n",
              "      \n",
              "  <style>\n",
              "    .colab-df-container {\n",
              "      display:flex;\n",
              "      flex-wrap:wrap;\n",
              "      gap: 12px;\n",
              "    }\n",
              "\n",
              "    .colab-df-convert {\n",
              "      background-color: #E8F0FE;\n",
              "      border: none;\n",
              "      border-radius: 50%;\n",
              "      cursor: pointer;\n",
              "      display: none;\n",
              "      fill: #1967D2;\n",
              "      height: 32px;\n",
              "      padding: 0 0 0 0;\n",
              "      width: 32px;\n",
              "    }\n",
              "\n",
              "    .colab-df-convert:hover {\n",
              "      background-color: #E2EBFA;\n",
              "      box-shadow: 0px 1px 2px rgba(60, 64, 67, 0.3), 0px 1px 3px 1px rgba(60, 64, 67, 0.15);\n",
              "      fill: #174EA6;\n",
              "    }\n",
              "\n",
              "    [theme=dark] .colab-df-convert {\n",
              "      background-color: #3B4455;\n",
              "      fill: #D2E3FC;\n",
              "    }\n",
              "\n",
              "    [theme=dark] .colab-df-convert:hover {\n",
              "      background-color: #434B5C;\n",
              "      box-shadow: 0px 1px 3px 1px rgba(0, 0, 0, 0.15);\n",
              "      filter: drop-shadow(0px 1px 2px rgba(0, 0, 0, 0.3));\n",
              "      fill: #FFFFFF;\n",
              "    }\n",
              "  </style>\n",
              "\n",
              "      <script>\n",
              "        const buttonEl =\n",
              "          document.querySelector('#df-47f13522-6070-4c9d-9a50-ab53b38e5b3e button.colab-df-convert');\n",
              "        buttonEl.style.display =\n",
              "          google.colab.kernel.accessAllowed ? 'block' : 'none';\n",
              "\n",
              "        async function convertToInteractive(key) {\n",
              "          const element = document.querySelector('#df-47f13522-6070-4c9d-9a50-ab53b38e5b3e');\n",
              "          const dataTable =\n",
              "            await google.colab.kernel.invokeFunction('convertToInteractive',\n",
              "                                                     [key], {});\n",
              "          if (!dataTable) return;\n",
              "\n",
              "          const docLinkHtml = 'Like what you see? Visit the ' +\n",
              "            '<a target=\"_blank\" href=https://colab.research.google.com/notebooks/data_table.ipynb>data table notebook</a>'\n",
              "            + ' to learn more about interactive tables.';\n",
              "          element.innerHTML = '';\n",
              "          dataTable['output_type'] = 'display_data';\n",
              "          await google.colab.output.renderOutput(dataTable, element);\n",
              "          const docLink = document.createElement('div');\n",
              "          docLink.innerHTML = docLinkHtml;\n",
              "          element.appendChild(docLink);\n",
              "        }\n",
              "      </script>\n",
              "    </div>\n",
              "  </div>\n",
              "  "
            ]
          },
          "metadata": {},
          "execution_count": 41
        }
      ]
    },
    {
      "cell_type": "code",
      "source": [
        "adj_matrix.head(2)"
      ],
      "metadata": {
        "id": "KgwSWzhPRKaE",
        "outputId": "864e375f-5c7d-4707-875b-a8ffe262fa7f",
        "colab": {
          "base_uri": "https://localhost:8080/",
          "height": 173
        }
      },
      "execution_count": 42,
      "outputs": [
        {
          "output_type": "execute_result",
          "data": {
            "text/plain": [
              "movieId      1         2         3         4         5         6         7     \\\n",
              "userId                                                                          \n",
              "1        5.000000  4.188679  4.188679  4.188679  4.188679  4.188679  4.188679   \n",
              "2        3.713178  3.713178  3.713178  3.713178  3.713178  3.713178  3.713178   \n",
              "\n",
              "movieId      8         9         10    ...      3943      3944      3945  \\\n",
              "userId                                 ...                                 \n",
              "1        4.188679  4.188679  4.188679  ...  4.188679  4.188679  4.188679   \n",
              "2        3.713178  3.713178  3.713178  ...  3.713178  3.713178  3.713178   \n",
              "\n",
              "movieId      3946      3947      3948      3949      3950      3951      3952  \n",
              "userId                                                                         \n",
              "1        4.188679  4.188679  4.188679  4.188679  4.188679  4.188679  4.188679  \n",
              "2        3.713178  3.713178  3.713178  3.713178  3.713178  3.713178  3.713178  \n",
              "\n",
              "[2 rows x 3706 columns]"
            ],
            "text/html": [
              "\n",
              "  <div id=\"df-3131a053-e463-49d2-9db9-48a2d4029ede\">\n",
              "    <div class=\"colab-df-container\">\n",
              "      <div>\n",
              "<style scoped>\n",
              "    .dataframe tbody tr th:only-of-type {\n",
              "        vertical-align: middle;\n",
              "    }\n",
              "\n",
              "    .dataframe tbody tr th {\n",
              "        vertical-align: top;\n",
              "    }\n",
              "\n",
              "    .dataframe thead th {\n",
              "        text-align: right;\n",
              "    }\n",
              "</style>\n",
              "<table border=\"1\" class=\"dataframe\">\n",
              "  <thead>\n",
              "    <tr style=\"text-align: right;\">\n",
              "      <th>movieId</th>\n",
              "      <th>1</th>\n",
              "      <th>2</th>\n",
              "      <th>3</th>\n",
              "      <th>4</th>\n",
              "      <th>5</th>\n",
              "      <th>6</th>\n",
              "      <th>7</th>\n",
              "      <th>8</th>\n",
              "      <th>9</th>\n",
              "      <th>10</th>\n",
              "      <th>...</th>\n",
              "      <th>3943</th>\n",
              "      <th>3944</th>\n",
              "      <th>3945</th>\n",
              "      <th>3946</th>\n",
              "      <th>3947</th>\n",
              "      <th>3948</th>\n",
              "      <th>3949</th>\n",
              "      <th>3950</th>\n",
              "      <th>3951</th>\n",
              "      <th>3952</th>\n",
              "    </tr>\n",
              "    <tr>\n",
              "      <th>userId</th>\n",
              "      <th></th>\n",
              "      <th></th>\n",
              "      <th></th>\n",
              "      <th></th>\n",
              "      <th></th>\n",
              "      <th></th>\n",
              "      <th></th>\n",
              "      <th></th>\n",
              "      <th></th>\n",
              "      <th></th>\n",
              "      <th></th>\n",
              "      <th></th>\n",
              "      <th></th>\n",
              "      <th></th>\n",
              "      <th></th>\n",
              "      <th></th>\n",
              "      <th></th>\n",
              "      <th></th>\n",
              "      <th></th>\n",
              "      <th></th>\n",
              "      <th></th>\n",
              "    </tr>\n",
              "  </thead>\n",
              "  <tbody>\n",
              "    <tr>\n",
              "      <th>1</th>\n",
              "      <td>5.000000</td>\n",
              "      <td>4.188679</td>\n",
              "      <td>4.188679</td>\n",
              "      <td>4.188679</td>\n",
              "      <td>4.188679</td>\n",
              "      <td>4.188679</td>\n",
              "      <td>4.188679</td>\n",
              "      <td>4.188679</td>\n",
              "      <td>4.188679</td>\n",
              "      <td>4.188679</td>\n",
              "      <td>...</td>\n",
              "      <td>4.188679</td>\n",
              "      <td>4.188679</td>\n",
              "      <td>4.188679</td>\n",
              "      <td>4.188679</td>\n",
              "      <td>4.188679</td>\n",
              "      <td>4.188679</td>\n",
              "      <td>4.188679</td>\n",
              "      <td>4.188679</td>\n",
              "      <td>4.188679</td>\n",
              "      <td>4.188679</td>\n",
              "    </tr>\n",
              "    <tr>\n",
              "      <th>2</th>\n",
              "      <td>3.713178</td>\n",
              "      <td>3.713178</td>\n",
              "      <td>3.713178</td>\n",
              "      <td>3.713178</td>\n",
              "      <td>3.713178</td>\n",
              "      <td>3.713178</td>\n",
              "      <td>3.713178</td>\n",
              "      <td>3.713178</td>\n",
              "      <td>3.713178</td>\n",
              "      <td>3.713178</td>\n",
              "      <td>...</td>\n",
              "      <td>3.713178</td>\n",
              "      <td>3.713178</td>\n",
              "      <td>3.713178</td>\n",
              "      <td>3.713178</td>\n",
              "      <td>3.713178</td>\n",
              "      <td>3.713178</td>\n",
              "      <td>3.713178</td>\n",
              "      <td>3.713178</td>\n",
              "      <td>3.713178</td>\n",
              "      <td>3.713178</td>\n",
              "    </tr>\n",
              "  </tbody>\n",
              "</table>\n",
              "<p>2 rows × 3706 columns</p>\n",
              "</div>\n",
              "      <button class=\"colab-df-convert\" onclick=\"convertToInteractive('df-3131a053-e463-49d2-9db9-48a2d4029ede')\"\n",
              "              title=\"Convert this dataframe to an interactive table.\"\n",
              "              style=\"display:none;\">\n",
              "        \n",
              "  <svg xmlns=\"http://www.w3.org/2000/svg\" height=\"24px\"viewBox=\"0 0 24 24\"\n",
              "       width=\"24px\">\n",
              "    <path d=\"M0 0h24v24H0V0z\" fill=\"none\"/>\n",
              "    <path d=\"M18.56 5.44l.94 2.06.94-2.06 2.06-.94-2.06-.94-.94-2.06-.94 2.06-2.06.94zm-11 1L8.5 8.5l.94-2.06 2.06-.94-2.06-.94L8.5 2.5l-.94 2.06-2.06.94zm10 10l.94 2.06.94-2.06 2.06-.94-2.06-.94-.94-2.06-.94 2.06-2.06.94z\"/><path d=\"M17.41 7.96l-1.37-1.37c-.4-.4-.92-.59-1.43-.59-.52 0-1.04.2-1.43.59L10.3 9.45l-7.72 7.72c-.78.78-.78 2.05 0 2.83L4 21.41c.39.39.9.59 1.41.59.51 0 1.02-.2 1.41-.59l7.78-7.78 2.81-2.81c.8-.78.8-2.07 0-2.86zM5.41 20L4 18.59l7.72-7.72 1.47 1.35L5.41 20z\"/>\n",
              "  </svg>\n",
              "      </button>\n",
              "      \n",
              "  <style>\n",
              "    .colab-df-container {\n",
              "      display:flex;\n",
              "      flex-wrap:wrap;\n",
              "      gap: 12px;\n",
              "    }\n",
              "\n",
              "    .colab-df-convert {\n",
              "      background-color: #E8F0FE;\n",
              "      border: none;\n",
              "      border-radius: 50%;\n",
              "      cursor: pointer;\n",
              "      display: none;\n",
              "      fill: #1967D2;\n",
              "      height: 32px;\n",
              "      padding: 0 0 0 0;\n",
              "      width: 32px;\n",
              "    }\n",
              "\n",
              "    .colab-df-convert:hover {\n",
              "      background-color: #E2EBFA;\n",
              "      box-shadow: 0px 1px 2px rgba(60, 64, 67, 0.3), 0px 1px 3px 1px rgba(60, 64, 67, 0.15);\n",
              "      fill: #174EA6;\n",
              "    }\n",
              "\n",
              "    [theme=dark] .colab-df-convert {\n",
              "      background-color: #3B4455;\n",
              "      fill: #D2E3FC;\n",
              "    }\n",
              "\n",
              "    [theme=dark] .colab-df-convert:hover {\n",
              "      background-color: #434B5C;\n",
              "      box-shadow: 0px 1px 3px 1px rgba(0, 0, 0, 0.15);\n",
              "      filter: drop-shadow(0px 1px 2px rgba(0, 0, 0, 0.3));\n",
              "      fill: #FFFFFF;\n",
              "    }\n",
              "  </style>\n",
              "\n",
              "      <script>\n",
              "        const buttonEl =\n",
              "          document.querySelector('#df-3131a053-e463-49d2-9db9-48a2d4029ede button.colab-df-convert');\n",
              "        buttonEl.style.display =\n",
              "          google.colab.kernel.accessAllowed ? 'block' : 'none';\n",
              "\n",
              "        async function convertToInteractive(key) {\n",
              "          const element = document.querySelector('#df-3131a053-e463-49d2-9db9-48a2d4029ede');\n",
              "          const dataTable =\n",
              "            await google.colab.kernel.invokeFunction('convertToInteractive',\n",
              "                                                     [key], {});\n",
              "          if (!dataTable) return;\n",
              "\n",
              "          const docLinkHtml = 'Like what you see? Visit the ' +\n",
              "            '<a target=\"_blank\" href=https://colab.research.google.com/notebooks/data_table.ipynb>data table notebook</a>'\n",
              "            + ' to learn more about interactive tables.';\n",
              "          element.innerHTML = '';\n",
              "          dataTable['output_type'] = 'display_data';\n",
              "          await google.colab.output.renderOutput(dataTable, element);\n",
              "          const docLink = document.createElement('div');\n",
              "          docLink.innerHTML = docLinkHtml;\n",
              "          element.appendChild(docLink);\n",
              "        }\n",
              "      </script>\n",
              "    </div>\n",
              "  </div>\n",
              "  "
            ]
          },
          "metadata": {},
          "execution_count": 42
        }
      ]
    },
    {
      "cell_type": "code",
      "source": [
        "# 300번 유저의 영화추천\n",
        "recommend(adj_matrix_rating, adj_matrix, 300)"
      ],
      "metadata": {
        "id": "xsG8I0q-Q8u9",
        "outputId": "1c8a8c87-0f10-430e-b052-5ffc18564082",
        "colab": {
          "base_uri": "https://localhost:8080/"
        }
      },
      "execution_count": 48,
      "outputs": [
        {
          "output_type": "execute_result",
          "data": {
            "text/plain": [
              "Int64Index([3210, 785, 1148, 441, 356, 1961, 1962, 2728, 1449, 2795], dtype='int64', name='movieId')"
            ]
          },
          "metadata": {},
          "execution_count": 48
        }
      ]
    }
  ]
}